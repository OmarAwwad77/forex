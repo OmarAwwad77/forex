{
 "cells": [
  {
   "cell_type": "code",
   "execution_count": 1,
   "id": "1ff1fe3f-5c09-4a68-bf7d-c947a75e929b",
   "metadata": {},
   "outputs": [],
   "source": [
    "import sys\n",
    "sys.path.append('../')"
   ]
  },
  {
   "cell_type": "code",
   "execution_count": 2,
   "id": "21d0d70d-9d2b-4ef9-9abb-ede032e418b4",
   "metadata": {},
   "outputs": [
    {
     "name": "stderr",
     "output_type": "stream",
     "text": [
      "/tmp/ipykernel_92120/327068495.py:1: DeprecationWarning: \n",
      "Pyarrow will become a required dependency of pandas in the next major release of pandas (pandas 3.0),\n",
      "(to allow more performant data types, such as the Arrow string type, and better interoperability with other libraries)\n",
      "but was not found to be installed on your system.\n",
      "If this would cause problems for you,\n",
      "please provide us feedback at https://github.com/pandas-dev/pandas/issues/54466\n",
      "        \n",
      "  import pandas as pd\n"
     ]
    }
   ],
   "source": [
    "import pandas as pd\n",
    "import decimal\n",
    "from datetime import datetime, timedelta\n",
    "from dateutil import parser\n",
    "from plotting import CandlePlot\n",
    "import plotly.graph_objects as go\n",
    "from technical.patterns import is_bearish_pattern, is_bullish_pattern\n",
    "from technical.peaks import get_peaks, PeakType, plot_peaks, get_peak\n",
    "from collections import namedtuple\n",
    "from typing import List\n",
    "from simulator.simulator import Simulator\n",
    "from simulator.trade import TradeOutcome\n",
    "from strategies.supply_demand_strategy import SupplyDemandStrategy\n",
    "from strategies.swing_strategy import SwingStrategy\n",
    "import pickle\n",
    "import pathlib"
   ]
  },
  {
   "cell_type": "code",
   "execution_count": 3,
   "id": "4de20fc6-b164-4b10-80ff-a8799e0f3f33",
   "metadata": {},
   "outputs": [],
   "source": [
    "start = parser.parse('2023-01-02T00:00:00Z')\n",
    "end = parser.parse('2024-01-02T22:00:00Z')"
   ]
  },
  {
   "cell_type": "code",
   "execution_count": 4,
   "id": "c5fdcea5-75eb-40b6-88c0-557176520cbc",
   "metadata": {},
   "outputs": [
    {
     "name": "stdout",
     "output_type": "stream",
     "text": [
      "Open Trades len: 0\n",
      "Closed Trades len: 13\n",
      "5 (38.46%) wrong trades taken out of: 13 trades in total\n"
     ]
    }
   ],
   "source": [
    "# GBP_USD \n",
    "df_m15 = pd.read_pickle(f\"../data/candles/GBP_USD_M15.pkl\")\n",
    "df_m15 = df_m15[(df_m15.time >= start) & (df_m15.time <= end)].reset_index(drop=True)\n",
    "                                                                          \n",
    "df_m5 = pd.read_pickle(f\"../data/candles/GBP_USD_M5.pkl\")\n",
    "df_m5 = df_m5[(df_m5.time >= start) & (df_m5.time <= end)].reset_index(drop=True)\n",
    "\n",
    "swing_strategy = SwingStrategy(iteration_data={\n",
    "    'peaks': [],\n",
    "    'swings': [],\n",
    "    'curr_swing': {},\n",
    "    'prev_swing': {},\n",
    "    'broken_swings': {},\n",
    "    'trade_swings': []\n",
    "    \n",
    "})\n",
    "simulator_gbp_usd = Simulator(strategy=swing_strategy, df=df_m15, df_smaller=df_m5, delta_in_mins=10)\n",
    "open_trades_gbp_usd, closed_trades_gbp_usd = simulator_gbp_usd.run()"
   ]
  },
  {
   "cell_type": "code",
   "execution_count": 5,
   "id": "749aa7d7-ce18-47f7-a539-1e1e2e17f693",
   "metadata": {},
   "outputs": [
    {
     "name": "stdout",
     "output_type": "stream",
     "text": [
      "Open Trades len: 0\n",
      "Closed Trades len: 6\n",
      "4 (66.67%) wrong trades taken out of: 6 trades in total\n"
     ]
    }
   ],
   "source": [
    "# USD_CAD\n",
    "df_m15 = pd.read_pickle(f\"../data/candles/USD_CAD_M15.pkl\")\n",
    "df_m15 = df_m15[(df_m15.time >= start) & (df_m15.time <= end)].reset_index(drop=True)\n",
    "                                                                          \n",
    "df_m5 = pd.read_pickle(f\"../data/candles/USD_CAD_M5.pkl\")\n",
    "df_m5 = df_m5[(df_m5.time >= start) & (df_m5.time <= end)].reset_index(drop=True)\n",
    "\n",
    "swing_strategy = SwingStrategy(iteration_data={\n",
    "    'peaks': [],\n",
    "    'swings': [],\n",
    "    'curr_swing': {},\n",
    "    'prev_swing': {},\n",
    "    'broken_swings': {},\n",
    "    'trade_swings': []\n",
    "    \n",
    "})\n",
    "simulator_usd_cad = Simulator(strategy=swing_strategy, df=df_m15, df_smaller=df_m5, delta_in_mins=10)\n",
    "open_trades_usd_cad, closed_trades_usd_cad = simulator_usd_cad.run()"
   ]
  },
  {
   "cell_type": "code",
   "execution_count": 6,
   "id": "63b79316-420a-4980-93a3-3a65d1b88cc0",
   "metadata": {},
   "outputs": [
    {
     "name": "stdout",
     "output_type": "stream",
     "text": [
      "Open Trades len: 0\n",
      "Closed Trades len: 49\n",
      "23 (46.94%) wrong trades taken out of: 49 trades in total\n"
     ]
    }
   ],
   "source": [
    "# AUD_USD\n",
    "df_m15 = pd.read_pickle(f\"../data/candles/AUD_USD_M15.pkl\")\n",
    "df_m15 = df_m15[(df_m15.time >= start) & (df_m15.time <= end)].reset_index(drop=True)\n",
    "                                                                          \n",
    "df_m5 = pd.read_pickle(f\"../data/candles/AUD_USD_M5.pkl\")\n",
    "df_m5 = df_m5[(df_m5.time >= start) & (df_m5.time <= end)].reset_index(drop=True)\n",
    "\n",
    "swing_strategy = SwingStrategy(iteration_data={\n",
    "    'peaks': [],\n",
    "    'swings': [],\n",
    "    'curr_swing': {},\n",
    "    'prev_swing': {},\n",
    "    'broken_swings': {},\n",
    "    'trade_swings': []\n",
    "    \n",
    "})\n",
    "simulator_aud_usd = Simulator(strategy=swing_strategy, df=df_m15, df_smaller=df_m5, delta_in_mins=10)\n",
    "open_trades_aud_usd, closed_trades_aud_usd = simulator_aud_usd.run()"
   ]
  },
  {
   "cell_type": "code",
   "execution_count": 7,
   "id": "04c5e7b2-ad21-4610-bb2c-d0576fc98b62",
   "metadata": {},
   "outputs": [
    {
     "name": "stdout",
     "output_type": "stream",
     "text": [
      "Open Trades len: 0\n",
      "Closed Trades len: 42\n",
      "20 (47.62%) wrong trades taken out of: 42 trades in total\n"
     ]
    }
   ],
   "source": [
    "# NZD_USD\n",
    "df_m15 = pd.read_pickle(f\"../data/candles/NZD_USD_M15.pkl\")\n",
    "df_m15 = df_m15[(df_m15.time >= start) & (df_m15.time <= end)].reset_index(drop=True)\n",
    "                                                                          \n",
    "df_m5 = pd.read_pickle(f\"../data/candles/NZD_USD_M5.pkl\")\n",
    "df_m5 = df_m5[(df_m5.time >= start) & (df_m5.time <= end)].reset_index(drop=True)\n",
    "\n",
    "swing_strategy = SwingStrategy(iteration_data={\n",
    "    'peaks': [],\n",
    "    'swings': [],\n",
    "    'curr_swing': {},\n",
    "    'prev_swing': {},\n",
    "    'broken_swings': {},\n",
    "    'trade_swings': []\n",
    "    \n",
    "})\n",
    "simulator_nzd_usd = Simulator(strategy=swing_strategy, df=df_m15, df_smaller=df_m5, delta_in_mins=10)\n",
    "open_trades_nzd_usd, closed_trades_nzd_usd = simulator_nzd_usd.run()"
   ]
  },
  {
   "cell_type": "code",
   "execution_count": 9,
   "id": "9a1477e8-bda2-42cf-b1c1-bb48062889e2",
   "metadata": {},
   "outputs": [
    {
     "name": "stdout",
     "output_type": "stream",
     "text": [
      "Open Trades len: 0\n",
      "Closed Trades len: 9\n",
      "5 (55.56%) wrong trades taken out of: 9 trades in total\n"
     ]
    }
   ],
   "source": [
    "# EUR_CAD\n",
    "df_m15 = pd.read_pickle(f\"../data/candles/EUR_CAD_M15.pkl\")\n",
    "df_m15 = df_m15[(df_m15.time >= start) & (df_m15.time <= end)].reset_index(drop=True)\n",
    "                                                                          \n",
    "df_m5 = pd.read_pickle(f\"../data/candles/EUR_CAD_M5.pkl\")\n",
    "df_m5 = df_m5[(df_m5.time >= start) & (df_m5.time <= end)].reset_index(drop=True)\n",
    "\n",
    "swing_strategy = SwingStrategy(iteration_data={\n",
    "    'peaks': [],\n",
    "    'swings': [],\n",
    "    'curr_swing': {},\n",
    "    'prev_swing': {},\n",
    "    'broken_swings': {},\n",
    "    'trade_swings': []\n",
    "    \n",
    "})\n",
    "simulator_eur_cad = Simulator(strategy=swing_strategy, df=df_m15, df_smaller=df_m5, delta_in_mins=10)\n",
    "open_trades_eur_cad, closed_trades_eur_cad = simulator_eur_cad.run()"
   ]
  },
  {
   "cell_type": "code",
   "execution_count": 10,
   "id": "29bfc08d-d128-4888-8208-414b222a1854",
   "metadata": {},
   "outputs": [
    {
     "ename": "KeyboardInterrupt",
     "evalue": "",
     "output_type": "error",
     "traceback": [
      "\u001b[0;31m---------------------------------------------------------------------------\u001b[0m",
      "\u001b[0;31mKeyboardInterrupt\u001b[0m                         Traceback (most recent call last)",
      "Cell \u001b[0;32mIn[10], line 18\u001b[0m\n\u001b[1;32m      8\u001b[0m swing_strategy \u001b[38;5;241m=\u001b[39m SwingStrategy(iteration_data\u001b[38;5;241m=\u001b[39m{\n\u001b[1;32m      9\u001b[0m     \u001b[38;5;124m'\u001b[39m\u001b[38;5;124mpeaks\u001b[39m\u001b[38;5;124m'\u001b[39m: [],\n\u001b[1;32m     10\u001b[0m     \u001b[38;5;124m'\u001b[39m\u001b[38;5;124mswings\u001b[39m\u001b[38;5;124m'\u001b[39m: [],\n\u001b[0;32m   (...)\u001b[0m\n\u001b[1;32m     15\u001b[0m     \n\u001b[1;32m     16\u001b[0m })\n\u001b[1;32m     17\u001b[0m simulator_eur_gbp \u001b[38;5;241m=\u001b[39m Simulator(strategy\u001b[38;5;241m=\u001b[39mswing_strategy, df\u001b[38;5;241m=\u001b[39mdf_m15, df_smaller\u001b[38;5;241m=\u001b[39mdf_m5, delta_in_mins\u001b[38;5;241m=\u001b[39m\u001b[38;5;241m10\u001b[39m)\n\u001b[0;32m---> 18\u001b[0m open_trades_eur_gbp, closed_trades_eur_gbp \u001b[38;5;241m=\u001b[39m \u001b[43msimulator_eur_gbp\u001b[49m\u001b[38;5;241;43m.\u001b[39;49m\u001b[43mrun\u001b[49m\u001b[43m(\u001b[49m\u001b[43m)\u001b[49m\n",
      "File \u001b[0;32m~/workspace/forex/exploration/../simulator/simulator.py:78\u001b[0m, in \u001b[0;36mSimulator.run\u001b[0;34m(self)\u001b[0m\n\u001b[1;32m     75\u001b[0m     idx_to_remove \u001b[38;5;241m=\u001b[39m indices_to_close[j]\n\u001b[1;32m     76\u001b[0m     open_trades\u001b[38;5;241m.\u001b[39mremove(open_trades[idx_to_remove])\n\u001b[0;32m---> 78\u001b[0m trade \u001b[38;5;241m=\u001b[39m \u001b[38;5;28;43mself\u001b[39;49m\u001b[38;5;241;43m.\u001b[39;49m\u001b[43mstrategy\u001b[49m\u001b[38;5;241;43m.\u001b[39;49m\u001b[43mapply_signal\u001b[49m\u001b[43m(\u001b[49m\u001b[43mrow\u001b[49m\u001b[43m,\u001b[49m\u001b[43m \u001b[49m\u001b[38;5;28;43mself\u001b[39;49m\u001b[38;5;241;43m.\u001b[39;49m\u001b[43mdf\u001b[49m\u001b[43m,\u001b[49m\u001b[43m \u001b[49m\u001b[38;5;28;43mself\u001b[39;49m\u001b[38;5;241;43m.\u001b[39;49m\u001b[43mdf_smaller\u001b[49m\u001b[43m,\u001b[49m\u001b[43m \u001b[49m\u001b[38;5;28;43mself\u001b[39;49m\u001b[38;5;241;43m.\u001b[39;49m\u001b[43mdelta_in_mins\u001b[49m\u001b[43m)\u001b[49m\n\u001b[1;32m     79\u001b[0m \u001b[38;5;28;01mif\u001b[39;00m trade:\n\u001b[1;32m     80\u001b[0m     \u001b[38;5;28;01mif\u001b[39;00m open_trades \u001b[38;5;129;01mand\u001b[39;00m trade\u001b[38;5;241m.\u001b[39mdata \u001b[38;5;241m==\u001b[39m open_trades[\u001b[38;5;241m-\u001b[39m\u001b[38;5;241m1\u001b[39m]\u001b[38;5;241m.\u001b[39mdata:\n",
      "File \u001b[0;32m~/workspace/forex/exploration/../strategies/swing_strategy.py:15\u001b[0m, in \u001b[0;36mSwingStrategy.apply_signal\u001b[0;34m(self, row, df, df_lower, delta_in_mins)\u001b[0m\n\u001b[1;32m     13\u001b[0m perc \u001b[38;5;241m=\u001b[39m \u001b[38;5;241m0.00800\u001b[39m\n\u001b[1;32m     14\u001b[0m idx \u001b[38;5;241m=\u001b[39m df\u001b[38;5;241m.\u001b[39mindex\u001b[38;5;241m.\u001b[39mget_loc(row\u001b[38;5;241m.\u001b[39mname)\n\u001b[0;32m---> 15\u001b[0m \u001b[38;5;28mself\u001b[39m\u001b[38;5;241m.\u001b[39miteration_data[\u001b[38;5;124m'\u001b[39m\u001b[38;5;124mpeaks\u001b[39m\u001b[38;5;124m'\u001b[39m] \u001b[38;5;241m=\u001b[39m \u001b[38;5;28;43mself\u001b[39;49m\u001b[38;5;241;43m.\u001b[39;49m\u001b[43mupdate_peaks_list\u001b[49m\u001b[43m(\u001b[49m\u001b[43mdf\u001b[49m\u001b[38;5;241;43m.\u001b[39;49m\u001b[43miloc\u001b[49m\u001b[43m[\u001b[49m\u001b[43m:\u001b[49m\u001b[43midx\u001b[49m\u001b[43m \u001b[49m\u001b[38;5;241;43m+\u001b[39;49m\u001b[43m \u001b[49m\u001b[38;5;241;43m1\u001b[39;49m\u001b[43m]\u001b[49m\u001b[43m,\u001b[49m\u001b[43m \u001b[49m\u001b[38;5;28;43mself\u001b[39;49m\u001b[38;5;241;43m.\u001b[39;49m\u001b[43miteration_data\u001b[49m\u001b[43m[\u001b[49m\u001b[38;5;124;43m'\u001b[39;49m\u001b[38;5;124;43mpeaks\u001b[39;49m\u001b[38;5;124;43m'\u001b[39;49m\u001b[43m]\u001b[49m\u001b[43m)\u001b[49m\n\u001b[1;32m     17\u001b[0m \u001b[38;5;28;01mif\u001b[39;00m \u001b[38;5;28mlen\u001b[39m(\u001b[38;5;28mself\u001b[39m\u001b[38;5;241m.\u001b[39miteration_data[\u001b[38;5;124m'\u001b[39m\u001b[38;5;124mpeaks\u001b[39m\u001b[38;5;124m'\u001b[39m]) \u001b[38;5;241m>\u001b[39m\u001b[38;5;241m=\u001b[39m \u001b[38;5;241m2\u001b[39m:\n\u001b[1;32m     18\u001b[0m     first_peak \u001b[38;5;241m=\u001b[39m \u001b[38;5;28mself\u001b[39m\u001b[38;5;241m.\u001b[39miteration_data[\u001b[38;5;124m'\u001b[39m\u001b[38;5;124mpeaks\u001b[39m\u001b[38;5;124m'\u001b[39m][\u001b[38;5;241m-\u001b[39m\u001b[38;5;241m2\u001b[39m]\n",
      "File \u001b[0;32m~/workspace/forex/exploration/../strategies/swing_strategy.py:154\u001b[0m, in \u001b[0;36mupdate_peaks_list\u001b[0;34m(self, df, peaks_list)\u001b[0m\n\u001b[1;32m      0\u001b[0m <Error retrieving source code with stack_data see ipython/ipython#13598>\n",
      "File \u001b[0;32m~/workspace/forex/exploration/../technical/peaks.py:65\u001b[0m, in \u001b[0;36mget_peak\u001b[0;34m(df, idx, width, trend_len, perc, debug)\u001b[0m\n\u001b[1;32m     60\u001b[0m         \u001b[38;5;28;01mreturn\u001b[39;00m Peak(\u001b[38;5;28mtype\u001b[39m\u001b[38;5;241m=\u001b[39mPeakType\u001b[38;5;241m.\u001b[39mUP, idx\u001b[38;5;241m=\u001b[39midx, start_idx\u001b[38;5;241m=\u001b[39mlowest_prev_idx, end_idx\u001b[38;5;241m=\u001b[39mlowest_next_idx, high_low_idx\u001b[38;5;241m=\u001b[39mhigh_idx)\n\u001b[1;32m     62\u001b[0m highest_prev_price, highest_prev_idx \u001b[38;5;241m=\u001b[39m find_price_in_range(start_idx, idx \u001b[38;5;241m-\u001b[39m trend_len, \u001b[38;5;28;01mTrue\u001b[39;00m,\n\u001b[1;32m     63\u001b[0m                                                              \u001b[38;5;28;01mlambda\u001b[39;00m price: df\u001b[38;5;241m.\u001b[39miloc[idx][[\u001b[38;5;124m'\u001b[39m\u001b[38;5;124mmid_o\u001b[39m\u001b[38;5;124m'\u001b[39m, \u001b[38;5;124m'\u001b[39m\u001b[38;5;124mmid_c\u001b[39m\u001b[38;5;124m'\u001b[39m]]\u001b[38;5;241m.\u001b[39mmin() \u001b[38;5;241m<\u001b[39m\u001b[38;5;241m=\u001b[39m price \u001b[38;5;241m-\u001b[39m (\n\u001b[1;32m     64\u001b[0m                                                                          price \u001b[38;5;241m*\u001b[39m perc))\n\u001b[0;32m---> 65\u001b[0m highest_next_price, highest_next_idx \u001b[38;5;241m=\u001b[39m \u001b[43mfind_price_in_range\u001b[49m\u001b[43m(\u001b[49m\u001b[43midx\u001b[49m\u001b[43m \u001b[49m\u001b[38;5;241;43m+\u001b[39;49m\u001b[43m \u001b[49m\u001b[43mtrend_len\u001b[49m\u001b[43m,\u001b[49m\u001b[43m \u001b[49m\u001b[43mend_idx\u001b[49m\u001b[43m,\u001b[49m\u001b[43m \u001b[49m\u001b[38;5;28;43;01mFalse\u001b[39;49;00m\u001b[43m,\u001b[49m\n\u001b[1;32m     66\u001b[0m \u001b[43m                                                             \u001b[49m\u001b[38;5;28;43;01mlambda\u001b[39;49;00m\u001b[43m \u001b[49m\u001b[43mprice\u001b[49m\u001b[43m:\u001b[49m\u001b[43m \u001b[49m\u001b[43mdf\u001b[49m\u001b[38;5;241;43m.\u001b[39;49m\u001b[43miloc\u001b[49m\u001b[43m[\u001b[49m\u001b[43midx\u001b[49m\u001b[43m]\u001b[49m\u001b[43m[\u001b[49m\u001b[43m[\u001b[49m\u001b[38;5;124;43m'\u001b[39;49m\u001b[38;5;124;43mmid_o\u001b[39;49m\u001b[38;5;124;43m'\u001b[39;49m\u001b[43m,\u001b[49m\u001b[43m \u001b[49m\u001b[38;5;124;43m'\u001b[39;49m\u001b[38;5;124;43mmid_c\u001b[39;49m\u001b[38;5;124;43m'\u001b[39;49m\u001b[43m]\u001b[49m\u001b[43m]\u001b[49m\u001b[38;5;241;43m.\u001b[39;49m\u001b[43mmin\u001b[49m\u001b[43m(\u001b[49m\u001b[43m)\u001b[49m\u001b[43m \u001b[49m\u001b[38;5;241;43m<\u001b[39;49m\u001b[38;5;241;43m=\u001b[39;49m\u001b[43m \u001b[49m\u001b[43mprice\u001b[49m\u001b[43m \u001b[49m\u001b[38;5;241;43m-\u001b[39;49m\u001b[43m \u001b[49m\u001b[43m(\u001b[49m\n\u001b[1;32m     67\u001b[0m \u001b[43m                                                                         \u001b[49m\u001b[43mprice\u001b[49m\u001b[43m \u001b[49m\u001b[38;5;241;43m*\u001b[39;49m\u001b[43m \u001b[49m\u001b[43mperc\u001b[49m\u001b[43m)\u001b[49m\u001b[43m)\u001b[49m\n\u001b[1;32m     69\u001b[0m \u001b[38;5;28;01mif\u001b[39;00m highest_prev_price \u001b[38;5;129;01mand\u001b[39;00m highest_next_price:\n\u001b[1;32m     70\u001b[0m     lowest \u001b[38;5;241m=\u001b[39m \u001b[38;5;28mmin\u001b[39m(df\u001b[38;5;241m.\u001b[39miloc[highest_prev_idx \u001b[38;5;241m+\u001b[39m \u001b[38;5;241m1\u001b[39m: highest_next_idx][[\u001b[38;5;124m'\u001b[39m\u001b[38;5;124mmid_o\u001b[39m\u001b[38;5;124m'\u001b[39m, \u001b[38;5;124m'\u001b[39m\u001b[38;5;124mmid_c\u001b[39m\u001b[38;5;124m'\u001b[39m]]\u001b[38;5;241m.\u001b[39mmin())\n",
      "File \u001b[0;32m~/workspace/forex/exploration/../technical/peaks.py:39\u001b[0m, in \u001b[0;36mget_peak.<locals>.find_price_in_range\u001b[0;34m(start, end, reverse, cond)\u001b[0m\n\u001b[1;32m     37\u001b[0m \u001b[38;5;28;01mfor\u001b[39;00m i \u001b[38;5;129;01min\u001b[39;00m loop_range:\n\u001b[1;32m     38\u001b[0m     curr_close \u001b[38;5;241m=\u001b[39m df\u001b[38;5;241m.\u001b[39miloc[i][\u001b[38;5;124m'\u001b[39m\u001b[38;5;124mmid_c\u001b[39m\u001b[38;5;124m'\u001b[39m]\n\u001b[0;32m---> 39\u001b[0m     \u001b[38;5;28;01mif\u001b[39;00m \u001b[43mcond\u001b[49m\u001b[43m(\u001b[49m\u001b[43mcurr_close\u001b[49m\u001b[43m)\u001b[49m:\n\u001b[1;32m     40\u001b[0m         \u001b[38;5;28;01mreturn\u001b[39;00m curr_close, i\n\u001b[1;32m     41\u001b[0m \u001b[38;5;28;01mreturn\u001b[39;00m \u001b[38;5;28;01mNone\u001b[39;00m, \u001b[38;5;28;01mNone\u001b[39;00m\n",
      "File \u001b[0;32m~/workspace/forex/exploration/../technical/peaks.py:66\u001b[0m, in \u001b[0;36mget_peak.<locals>.<lambda>\u001b[0;34m(price)\u001b[0m\n\u001b[1;32m     60\u001b[0m         \u001b[38;5;28;01mreturn\u001b[39;00m Peak(\u001b[38;5;28mtype\u001b[39m\u001b[38;5;241m=\u001b[39mPeakType\u001b[38;5;241m.\u001b[39mUP, idx\u001b[38;5;241m=\u001b[39midx, start_idx\u001b[38;5;241m=\u001b[39mlowest_prev_idx, end_idx\u001b[38;5;241m=\u001b[39mlowest_next_idx, high_low_idx\u001b[38;5;241m=\u001b[39mhigh_idx)\n\u001b[1;32m     62\u001b[0m highest_prev_price, highest_prev_idx \u001b[38;5;241m=\u001b[39m find_price_in_range(start_idx, idx \u001b[38;5;241m-\u001b[39m trend_len, \u001b[38;5;28;01mTrue\u001b[39;00m,\n\u001b[1;32m     63\u001b[0m                                                              \u001b[38;5;28;01mlambda\u001b[39;00m price: df\u001b[38;5;241m.\u001b[39miloc[idx][[\u001b[38;5;124m'\u001b[39m\u001b[38;5;124mmid_o\u001b[39m\u001b[38;5;124m'\u001b[39m, \u001b[38;5;124m'\u001b[39m\u001b[38;5;124mmid_c\u001b[39m\u001b[38;5;124m'\u001b[39m]]\u001b[38;5;241m.\u001b[39mmin() \u001b[38;5;241m<\u001b[39m\u001b[38;5;241m=\u001b[39m price \u001b[38;5;241m-\u001b[39m (\n\u001b[1;32m     64\u001b[0m                                                                          price \u001b[38;5;241m*\u001b[39m perc))\n\u001b[1;32m     65\u001b[0m highest_next_price, highest_next_idx \u001b[38;5;241m=\u001b[39m find_price_in_range(idx \u001b[38;5;241m+\u001b[39m trend_len, end_idx, \u001b[38;5;28;01mFalse\u001b[39;00m,\n\u001b[0;32m---> 66\u001b[0m                                                              \u001b[38;5;28;01mlambda\u001b[39;00m price: \u001b[43mdf\u001b[49m\u001b[38;5;241;43m.\u001b[39;49m\u001b[43miloc\u001b[49m\u001b[43m[\u001b[49m\u001b[43midx\u001b[49m\u001b[43m]\u001b[49m\u001b[43m[\u001b[49m\u001b[43m[\u001b[49m\u001b[38;5;124;43m'\u001b[39;49m\u001b[38;5;124;43mmid_o\u001b[39;49m\u001b[38;5;124;43m'\u001b[39;49m\u001b[43m,\u001b[49m\u001b[43m \u001b[49m\u001b[38;5;124;43m'\u001b[39;49m\u001b[38;5;124;43mmid_c\u001b[39;49m\u001b[38;5;124;43m'\u001b[39;49m\u001b[43m]\u001b[49m\u001b[43m]\u001b[49m\u001b[38;5;241m.\u001b[39mmin() \u001b[38;5;241m<\u001b[39m\u001b[38;5;241m=\u001b[39m price \u001b[38;5;241m-\u001b[39m (\n\u001b[1;32m     67\u001b[0m                                                                          price \u001b[38;5;241m*\u001b[39m perc))\n\u001b[1;32m     69\u001b[0m \u001b[38;5;28;01mif\u001b[39;00m highest_prev_price \u001b[38;5;129;01mand\u001b[39;00m highest_next_price:\n\u001b[1;32m     70\u001b[0m     lowest \u001b[38;5;241m=\u001b[39m \u001b[38;5;28mmin\u001b[39m(df\u001b[38;5;241m.\u001b[39miloc[highest_prev_idx \u001b[38;5;241m+\u001b[39m \u001b[38;5;241m1\u001b[39m: highest_next_idx][[\u001b[38;5;124m'\u001b[39m\u001b[38;5;124mmid_o\u001b[39m\u001b[38;5;124m'\u001b[39m, \u001b[38;5;124m'\u001b[39m\u001b[38;5;124mmid_c\u001b[39m\u001b[38;5;124m'\u001b[39m]]\u001b[38;5;241m.\u001b[39mmin())\n",
      "File \u001b[0;32m~/workspace/forex/venv/lib/python3.10/site-packages/pandas/core/series.py:1143\u001b[0m, in \u001b[0;36mSeries.__getitem__\u001b[0;34m(self, key)\u001b[0m\n\u001b[1;32m   1140\u001b[0m     key \u001b[38;5;241m=\u001b[39m np\u001b[38;5;241m.\u001b[39masarray(key, dtype\u001b[38;5;241m=\u001b[39m\u001b[38;5;28mbool\u001b[39m)\n\u001b[1;32m   1141\u001b[0m     \u001b[38;5;28;01mreturn\u001b[39;00m \u001b[38;5;28mself\u001b[39m\u001b[38;5;241m.\u001b[39m_get_rows_with_mask(key)\n\u001b[0;32m-> 1143\u001b[0m \u001b[38;5;28;01mreturn\u001b[39;00m \u001b[38;5;28;43mself\u001b[39;49m\u001b[38;5;241;43m.\u001b[39;49m\u001b[43m_get_with\u001b[49m\u001b[43m(\u001b[49m\u001b[43mkey\u001b[49m\u001b[43m)\u001b[49m\n",
      "File \u001b[0;32m~/workspace/forex/venv/lib/python3.10/site-packages/pandas/core/series.py:1184\u001b[0m, in \u001b[0;36mSeries._get_with\u001b[0;34m(self, key)\u001b[0m\n\u001b[1;32m   1181\u001b[0m         \u001b[38;5;28;01mreturn\u001b[39;00m \u001b[38;5;28mself\u001b[39m\u001b[38;5;241m.\u001b[39miloc[key]\n\u001b[1;32m   1183\u001b[0m \u001b[38;5;66;03m# handle the dup indexing case GH#4246\u001b[39;00m\n\u001b[0;32m-> 1184\u001b[0m \u001b[38;5;28;01mreturn\u001b[39;00m \u001b[38;5;28;43mself\u001b[39;49m\u001b[38;5;241;43m.\u001b[39;49m\u001b[43mloc\u001b[49m\u001b[43m[\u001b[49m\u001b[43mkey\u001b[49m\u001b[43m]\u001b[49m\n",
      "File \u001b[0;32m~/workspace/forex/venv/lib/python3.10/site-packages/pandas/core/indexing.py:1192\u001b[0m, in \u001b[0;36m_LocationIndexer.__getitem__\u001b[0;34m(self, key)\u001b[0m\n\u001b[1;32m   1190\u001b[0m maybe_callable \u001b[38;5;241m=\u001b[39m com\u001b[38;5;241m.\u001b[39mapply_if_callable(key, \u001b[38;5;28mself\u001b[39m\u001b[38;5;241m.\u001b[39mobj)\n\u001b[1;32m   1191\u001b[0m maybe_callable \u001b[38;5;241m=\u001b[39m \u001b[38;5;28mself\u001b[39m\u001b[38;5;241m.\u001b[39m_check_deprecated_callable_usage(key, maybe_callable)\n\u001b[0;32m-> 1192\u001b[0m \u001b[38;5;28;01mreturn\u001b[39;00m \u001b[38;5;28;43mself\u001b[39;49m\u001b[38;5;241;43m.\u001b[39;49m\u001b[43m_getitem_axis\u001b[49m\u001b[43m(\u001b[49m\u001b[43mmaybe_callable\u001b[49m\u001b[43m,\u001b[49m\u001b[43m \u001b[49m\u001b[43maxis\u001b[49m\u001b[38;5;241;43m=\u001b[39;49m\u001b[43maxis\u001b[49m\u001b[43m)\u001b[49m\n",
      "File \u001b[0;32m~/workspace/forex/venv/lib/python3.10/site-packages/pandas/core/indexing.py:1421\u001b[0m, in \u001b[0;36m_LocIndexer._getitem_axis\u001b[0;34m(self, key, axis)\u001b[0m\n\u001b[1;32m   1418\u001b[0m     \u001b[38;5;28;01mif\u001b[39;00m \u001b[38;5;28mhasattr\u001b[39m(key, \u001b[38;5;124m\"\u001b[39m\u001b[38;5;124mndim\u001b[39m\u001b[38;5;124m\"\u001b[39m) \u001b[38;5;129;01mand\u001b[39;00m key\u001b[38;5;241m.\u001b[39mndim \u001b[38;5;241m>\u001b[39m \u001b[38;5;241m1\u001b[39m:\n\u001b[1;32m   1419\u001b[0m         \u001b[38;5;28;01mraise\u001b[39;00m \u001b[38;5;167;01mValueError\u001b[39;00m(\u001b[38;5;124m\"\u001b[39m\u001b[38;5;124mCannot index with multidimensional key\u001b[39m\u001b[38;5;124m\"\u001b[39m)\n\u001b[0;32m-> 1421\u001b[0m     \u001b[38;5;28;01mreturn\u001b[39;00m \u001b[38;5;28;43mself\u001b[39;49m\u001b[38;5;241;43m.\u001b[39;49m\u001b[43m_getitem_iterable\u001b[49m\u001b[43m(\u001b[49m\u001b[43mkey\u001b[49m\u001b[43m,\u001b[49m\u001b[43m \u001b[49m\u001b[43maxis\u001b[49m\u001b[38;5;241;43m=\u001b[39;49m\u001b[43maxis\u001b[49m\u001b[43m)\u001b[49m\n\u001b[1;32m   1423\u001b[0m \u001b[38;5;66;03m# nested tuple slicing\u001b[39;00m\n\u001b[1;32m   1424\u001b[0m \u001b[38;5;28;01mif\u001b[39;00m is_nested_tuple(key, labels):\n",
      "File \u001b[0;32m~/workspace/forex/venv/lib/python3.10/site-packages/pandas/core/indexing.py:1361\u001b[0m, in \u001b[0;36m_LocIndexer._getitem_iterable\u001b[0;34m(self, key, axis)\u001b[0m\n\u001b[1;32m   1358\u001b[0m \u001b[38;5;28mself\u001b[39m\u001b[38;5;241m.\u001b[39m_validate_key(key, axis)\n\u001b[1;32m   1360\u001b[0m \u001b[38;5;66;03m# A collection of keys\u001b[39;00m\n\u001b[0;32m-> 1361\u001b[0m keyarr, indexer \u001b[38;5;241m=\u001b[39m \u001b[38;5;28;43mself\u001b[39;49m\u001b[38;5;241;43m.\u001b[39;49m\u001b[43m_get_listlike_indexer\u001b[49m\u001b[43m(\u001b[49m\u001b[43mkey\u001b[49m\u001b[43m,\u001b[49m\u001b[43m \u001b[49m\u001b[43maxis\u001b[49m\u001b[43m)\u001b[49m\n\u001b[1;32m   1362\u001b[0m \u001b[38;5;28;01mreturn\u001b[39;00m \u001b[38;5;28mself\u001b[39m\u001b[38;5;241m.\u001b[39mobj\u001b[38;5;241m.\u001b[39m_reindex_with_indexers(\n\u001b[1;32m   1363\u001b[0m     {axis: [keyarr, indexer]}, copy\u001b[38;5;241m=\u001b[39m\u001b[38;5;28;01mTrue\u001b[39;00m, allow_dups\u001b[38;5;241m=\u001b[39m\u001b[38;5;28;01mTrue\u001b[39;00m\n\u001b[1;32m   1364\u001b[0m )\n",
      "File \u001b[0;32m~/workspace/forex/venv/lib/python3.10/site-packages/pandas/core/indexing.py:1559\u001b[0m, in \u001b[0;36m_LocIndexer._get_listlike_indexer\u001b[0;34m(self, key, axis)\u001b[0m\n\u001b[1;32m   1556\u001b[0m ax \u001b[38;5;241m=\u001b[39m \u001b[38;5;28mself\u001b[39m\u001b[38;5;241m.\u001b[39mobj\u001b[38;5;241m.\u001b[39m_get_axis(axis)\n\u001b[1;32m   1557\u001b[0m axis_name \u001b[38;5;241m=\u001b[39m \u001b[38;5;28mself\u001b[39m\u001b[38;5;241m.\u001b[39mobj\u001b[38;5;241m.\u001b[39m_get_axis_name(axis)\n\u001b[0;32m-> 1559\u001b[0m keyarr, indexer \u001b[38;5;241m=\u001b[39m \u001b[43max\u001b[49m\u001b[38;5;241;43m.\u001b[39;49m\u001b[43m_get_indexer_strict\u001b[49m\u001b[43m(\u001b[49m\u001b[43mkey\u001b[49m\u001b[43m,\u001b[49m\u001b[43m \u001b[49m\u001b[43maxis_name\u001b[49m\u001b[43m)\u001b[49m\n\u001b[1;32m   1561\u001b[0m \u001b[38;5;28;01mreturn\u001b[39;00m keyarr, indexer\n",
      "File \u001b[0;32m~/workspace/forex/venv/lib/python3.10/site-packages/pandas/core/indexes/base.py:6194\u001b[0m, in \u001b[0;36mIndex._get_indexer_strict\u001b[0;34m(self, key, axis_name)\u001b[0m\n\u001b[1;32m   6191\u001b[0m     keyarr \u001b[38;5;241m=\u001b[39m com\u001b[38;5;241m.\u001b[39masarray_tuplesafe(keyarr)\n\u001b[1;32m   6193\u001b[0m \u001b[38;5;28;01mif\u001b[39;00m \u001b[38;5;28mself\u001b[39m\u001b[38;5;241m.\u001b[39m_index_as_unique:\n\u001b[0;32m-> 6194\u001b[0m     indexer \u001b[38;5;241m=\u001b[39m \u001b[38;5;28;43mself\u001b[39;49m\u001b[38;5;241;43m.\u001b[39;49m\u001b[43mget_indexer_for\u001b[49m\u001b[43m(\u001b[49m\u001b[43mkeyarr\u001b[49m\u001b[43m)\u001b[49m\n\u001b[1;32m   6195\u001b[0m     keyarr \u001b[38;5;241m=\u001b[39m \u001b[38;5;28mself\u001b[39m\u001b[38;5;241m.\u001b[39mreindex(keyarr)[\u001b[38;5;241m0\u001b[39m]\n\u001b[1;32m   6196\u001b[0m \u001b[38;5;28;01melse\u001b[39;00m:\n",
      "File \u001b[0;32m~/workspace/forex/venv/lib/python3.10/site-packages/pandas/core/indexes/base.py:6181\u001b[0m, in \u001b[0;36mIndex.get_indexer_for\u001b[0;34m(self, target)\u001b[0m\n\u001b[1;32m   6163\u001b[0m \u001b[38;5;250m\u001b[39m\u001b[38;5;124;03m\"\"\"\u001b[39;00m\n\u001b[1;32m   6164\u001b[0m \u001b[38;5;124;03mGuaranteed return of an indexer even when non-unique.\u001b[39;00m\n\u001b[1;32m   6165\u001b[0m \n\u001b[0;32m   (...)\u001b[0m\n\u001b[1;32m   6178\u001b[0m \u001b[38;5;124;03marray([0, 2])\u001b[39;00m\n\u001b[1;32m   6179\u001b[0m \u001b[38;5;124;03m\"\"\"\u001b[39;00m\n\u001b[1;32m   6180\u001b[0m \u001b[38;5;28;01mif\u001b[39;00m \u001b[38;5;28mself\u001b[39m\u001b[38;5;241m.\u001b[39m_index_as_unique:\n\u001b[0;32m-> 6181\u001b[0m     \u001b[38;5;28;01mreturn\u001b[39;00m \u001b[38;5;28;43mself\u001b[39;49m\u001b[38;5;241;43m.\u001b[39;49m\u001b[43mget_indexer\u001b[49m\u001b[43m(\u001b[49m\u001b[43mtarget\u001b[49m\u001b[43m)\u001b[49m\n\u001b[1;32m   6182\u001b[0m indexer, _ \u001b[38;5;241m=\u001b[39m \u001b[38;5;28mself\u001b[39m\u001b[38;5;241m.\u001b[39mget_indexer_non_unique(target)\n\u001b[1;32m   6183\u001b[0m \u001b[38;5;28;01mreturn\u001b[39;00m indexer\n",
      "File \u001b[0;32m~/workspace/forex/venv/lib/python3.10/site-packages/pandas/core/indexes/base.py:3817\u001b[0m, in \u001b[0;36mIndex.get_indexer\u001b[0;34m(self, target, method, limit, tolerance)\u001b[0m\n\u001b[1;32m   3814\u001b[0m         \u001b[38;5;28mself\u001b[39m\u001b[38;5;241m.\u001b[39m_check_indexing_error(key)\n\u001b[1;32m   3815\u001b[0m         \u001b[38;5;28;01mraise\u001b[39;00m\n\u001b[0;32m-> 3817\u001b[0m \u001b[38;5;129m@final\u001b[39m\n\u001b[1;32m   3818\u001b[0m \u001b[38;5;28;01mdef\u001b[39;00m \u001b[38;5;21mget_indexer\u001b[39m(\n\u001b[1;32m   3819\u001b[0m     \u001b[38;5;28mself\u001b[39m,\n\u001b[1;32m   3820\u001b[0m     target,\n\u001b[1;32m   3821\u001b[0m     method: ReindexMethod \u001b[38;5;241m|\u001b[39m \u001b[38;5;28;01mNone\u001b[39;00m \u001b[38;5;241m=\u001b[39m \u001b[38;5;28;01mNone\u001b[39;00m,\n\u001b[1;32m   3822\u001b[0m     limit: \u001b[38;5;28mint\u001b[39m \u001b[38;5;241m|\u001b[39m \u001b[38;5;28;01mNone\u001b[39;00m \u001b[38;5;241m=\u001b[39m \u001b[38;5;28;01mNone\u001b[39;00m,\n\u001b[1;32m   3823\u001b[0m     tolerance\u001b[38;5;241m=\u001b[39m\u001b[38;5;28;01mNone\u001b[39;00m,\n\u001b[1;32m   3824\u001b[0m ) \u001b[38;5;241m-\u001b[39m\u001b[38;5;241m>\u001b[39m npt\u001b[38;5;241m.\u001b[39mNDArray[np\u001b[38;5;241m.\u001b[39mintp]:\n\u001b[1;32m   3825\u001b[0m \u001b[38;5;250m    \u001b[39m\u001b[38;5;124;03m\"\"\"\u001b[39;00m\n\u001b[1;32m   3826\u001b[0m \u001b[38;5;124;03m    Compute indexer and mask for new index given the current index.\u001b[39;00m\n\u001b[1;32m   3827\u001b[0m \n\u001b[0;32m   (...)\u001b[0m\n\u001b[1;32m   3873\u001b[0m \u001b[38;5;124;03m    and ``x`` is marked by -1, as it is not in ``index``.\u001b[39;00m\n\u001b[1;32m   3874\u001b[0m \u001b[38;5;124;03m    \"\"\"\u001b[39;00m\n\u001b[1;32m   3875\u001b[0m     method \u001b[38;5;241m=\u001b[39m clean_reindex_fill_method(method)\n",
      "\u001b[0;31mKeyboardInterrupt\u001b[0m: "
     ]
    }
   ],
   "source": [
    "# EUR_GBP\n",
    "df_m15 = pd.read_pickle(f\"../data/candles/EUR_GBP_M15.pkl\")\n",
    "df_m15 = df_m15[(df_m15.time >= start) & (df_m15.time <= end)].reset_index(drop=True)\n",
    "                                                                          \n",
    "df_m5 = pd.read_pickle(f\"../data/candles/EUR_GBP_M5.pkl\")\n",
    "df_m5 = df_m5[(df_m5.time >= start) & (df_m5.time <= end)].reset_index(drop=True)\n",
    "\n",
    "swing_strategy = SwingStrategy(iteration_data={\n",
    "    'peaks': [],\n",
    "    'swings': [],\n",
    "    'curr_swing': {},\n",
    "    'prev_swing': {},\n",
    "    'broken_swings': {},\n",
    "    'trade_swings': []\n",
    "    \n",
    "})\n",
    "simulator_eur_gbp = Simulator(strategy=swing_strategy, df=df_m15, df_smaller=df_m5, delta_in_mins=10)\n",
    "open_trades_eur_gbp, closed_trades_eur_gbp = simulator_eur_gbp.run()"
   ]
  },
  {
   "cell_type": "code",
   "execution_count": null,
   "id": "7d5283c6-68f1-432b-ba53-ef09894e6eeb",
   "metadata": {},
   "outputs": [],
   "source": [
    "# EUR_USD\n",
    "df_m15 = pd.read_pickle(f\"../data/candles/EUR_USD_M15.pkl\")\n",
    "df_m15 = df_m15[(df_m15.time >= start) & (df_m15.time <= end)].reset_index(drop=True)\n",
    "                                                                          \n",
    "df_m5 = pd.read_pickle(f\"../data/candles/EUR_USD_M5.pkl\")\n",
    "df_m5 = df_m5[(df_m5.time >= start) & (df_m5.time <= end)].reset_index(drop=True)\n",
    "\n",
    "\n",
    "swing_strategy = SwingStrategy(iteration_data={\n",
    "    'peaks': [],\n",
    "    'swings': [],\n",
    "    'curr_swing': {},\n",
    "    'prev_swing': {},\n",
    "    'broken_swings': {},\n",
    "    'trade_swings': []\n",
    "    \n",
    "})\n",
    "simulator_eur_usd = Simulator(strategy=swing_strategy, df=df_m15, df_smaller=df_m5, delta_in_mins=10)\n",
    "open_trades_eur_usd, closed_trades_eur_usd = simulator_eur_usd.run()"
   ]
  },
  {
   "cell_type": "code",
   "execution_count": null,
   "id": "6cbb991f-d2d7-4cdc-8e17-e9c8ed61f6a8",
   "metadata": {},
   "outputs": [],
   "source": [
    "# GBP_CAD\n",
    "df_m15 = pd.read_pickle(f\"../data/candles/GBP_CAD_M15.pkl\")\n",
    "df_m15 = df_m15[(df_m15.time >= start) & (df_m15.time <= end)].reset_index(drop=True)\n",
    "                                                                          \n",
    "df_m5 = pd.read_pickle(f\"../data/candles/GBP_CAD_M5.pkl\")\n",
    "df_m5 = df_m5[(df_m5.time >= start) & (df_m5.time <= end)].reset_index(drop=True)\n",
    "\n",
    "\n",
    "swing_strategy = SwingStrategy(iteration_data={\n",
    "    'peaks': [],\n",
    "    'swings': [],\n",
    "    'curr_swing': {},\n",
    "    'prev_swing': {},\n",
    "    'broken_swings': {},\n",
    "    'trade_swings': []\n",
    "    \n",
    "})\n",
    "simulator_gbp_cad = Simulator(strategy=swing_strategy, df=df_m15, df_smaller=df_m5, delta_in_mins=10)\n",
    "open_trades_gbp_cad, closed_trades_gbp_cad = simulator_gbp_cad.run()"
   ]
  },
  {
   "cell_type": "code",
   "execution_count": null,
   "id": "28d5568a-f761-4318-aad0-a0db1149db37",
   "metadata": {},
   "outputs": [],
   "source": [
    "# AUD_CAD\n",
    "df_m15 = pd.read_pickle(f\"../data/candles/AUD_CAD_M15.pkl\")\n",
    "df_m15 = df_m15[(df_m15.time >= start) & (df_m15.time <= end)].reset_index(drop=True)\n",
    "                                                                          \n",
    "df_m5 = pd.read_pickle(f\"../data/candles/AUD_CAD_M5.pkl\")\n",
    "df_m5 = df_m5[(df_m5.time >= start) & (df_m5.time <= end)].reset_index(drop=True)\n",
    "\n",
    "\n",
    "swing_strategy = SwingStrategy(iteration_data={\n",
    "    'peaks': [],\n",
    "    'swings': [],\n",
    "    'curr_swing': {},\n",
    "    'prev_swing': {},\n",
    "    'broken_swings': {},\n",
    "    'trade_swings': []\n",
    "    \n",
    "})\n",
    "simulator_aud_cad = Simulator(strategy=swing_strategy, df=df_m15, df_smaller=df_m5, delta_in_mins=10)\n",
    "open_trades_aud_cad, closed_trades_aud_cad = simulator_aud_cad.run()"
   ]
  },
  {
   "cell_type": "code",
   "execution_count": null,
   "id": "b4154524-a000-42c5-ab90-130c7e51133e",
   "metadata": {},
   "outputs": [],
   "source": [
    "# EUR_AUD\n",
    "df_m15 = pd.read_pickle(f\"../data/candles/EUR_AUD_M15.pkl\")\n",
    "df_m15 = df_m15[(df_m15.time >= start) & (df_m15.time <= end)].reset_index(drop=True)\n",
    "                                                                          \n",
    "df_m5 = pd.read_pickle(f\"../data/candles/EUR_AUD_M5.pkl\")\n",
    "df_m5 = df_m5[(df_m5.time >= start) & (df_m5.time <= end)].reset_index(drop=True)\n",
    "\n",
    "\n",
    "swing_strategy = SwingStrategy(iteration_data={\n",
    "    'peaks': [],\n",
    "    'swings': [],\n",
    "    'curr_swing': {},\n",
    "    'prev_swing': {},\n",
    "    'broken_swings': {},\n",
    "    'trade_swings': []\n",
    "    \n",
    "})\n",
    "simulator_eur_aud = Simulator(strategy=swing_strategy, df=df_m15, df_smaller=df_m5, delta_in_mins=10)\n",
    "open_trades_eur_aud, closed_trades_eur_aud = simulator_eur_aud.run()"
   ]
  },
  {
   "cell_type": "code",
   "execution_count": null,
   "id": "49e7789b-6dfd-4026-b664-743b9eeed3d0",
   "metadata": {},
   "outputs": [],
   "source": [
    "# EUR_NZD\n",
    "df_m15 = pd.read_pickle(f\"../data/candles/EUR_NZD_M15.pkl\")\n",
    "df_m15 = df_m15[(df_m15.time >= start) & (df_m15.time <= end)].reset_index(drop=True)\n",
    "                                                                          \n",
    "df_m5 = pd.read_pickle(f\"../data/candles/EUR_NZD_M5.pkl\")\n",
    "df_m5 = df_m5[(df_m5.time >= start) & (df_m5.time <= end)].reset_index(drop=True)\n",
    "\n",
    "\n",
    "swing_strategy = SwingStrategy(iteration_data={\n",
    "    'peaks': [],\n",
    "    'swings': [],\n",
    "    'curr_swing': {},\n",
    "    'prev_swing': {},\n",
    "    'broken_swings': {},\n",
    "    'trade_swings': []\n",
    "    \n",
    "})\n",
    "simulator_eur_nzd = Simulator(strategy=swing_strategy, df=df_m15, df_smaller=df_m5, delta_in_mins=10)\n",
    "open_trades_eur_nzd, closed_trades_eur_nzd = simulator_eur_nzd.run()"
   ]
  },
  {
   "cell_type": "code",
   "execution_count": null,
   "id": "88d918ad-b981-495a-955f-8feef2032e3c",
   "metadata": {},
   "outputs": [],
   "source": [
    "# GBP_AUD\n",
    "df_m15 = pd.read_pickle(f\"../data/candles/GBP_AUD_M15.pkl\")\n",
    "df_m15 = df_m15[(df_m15.time >= start) & (df_m15.time <= end)].reset_index(drop=True)\n",
    "                                                                          \n",
    "df_m5 = pd.read_pickle(f\"../data/candles/GBP_AUD_M5.pkl\")\n",
    "df_m5 = df_m5[(df_m5.time >= start) & (df_m5.time <= end)].reset_index(drop=True)\n",
    "\n",
    "\n",
    "swing_strategy = SwingStrategy(iteration_data={\n",
    "    'peaks': [],\n",
    "    'swings': [],\n",
    "    'curr_swing': {},\n",
    "    'prev_swing': {},\n",
    "    'broken_swings': {},\n",
    "    'trade_swings': []\n",
    "    \n",
    "})\n",
    "simulator_gbp_aud = Simulator(strategy=swing_strategy, df=df_m15, df_smaller=df_m5, delta_in_mins=10)\n",
    "open_trades_gbp_aud, closed_trades_gbp_aud = simulator_gbp_aud.run()"
   ]
  },
  {
   "cell_type": "code",
   "execution_count": null,
   "id": "afd4cd27-945e-478b-8df6-3bc01d23bed2",
   "metadata": {},
   "outputs": [],
   "source": [
    "# GBP_NZD\n",
    "df_m15 = pd.read_pickle(f\"../data/candles/GBP_NZD_M15.pkl\")\n",
    "df_m15 = df_m15[(df_m15.time >= start) & (df_m15.time <= end)].reset_index(drop=True)\n",
    "                                                                          \n",
    "df_m5 = pd.read_pickle(f\"../data/candles/GBP_NZD_M5.pkl\")\n",
    "df_m5 = df_m5[(df_m5.time >= start) & (df_m5.time <= end)].reset_index(drop=True)\n",
    "\n",
    "\n",
    "swing_strategy = SwingStrategy(iteration_data={\n",
    "    'peaks': [],\n",
    "    'swings': [],\n",
    "    'curr_swing': {},\n",
    "    'prev_swing': {},\n",
    "    'broken_swings': {},\n",
    "    'trade_swings': []\n",
    "    \n",
    "})\n",
    "simulator_gbp_nzd = Simulator(strategy=swing_strategy, df=df_m15, df_smaller=df_m5, delta_in_mins=10)\n",
    "open_trades_gbp_nzd, closed_trades_gbp_nzd = simulator_gbp_nzd.run()"
   ]
  },
  {
   "cell_type": "code",
   "execution_count": null,
   "id": "58da5148-f9c6-47ff-830b-7411430290ef",
   "metadata": {},
   "outputs": [],
   "source": [
    "# NZD_CAD\n",
    "df_m15 = pd.read_pickle(f\"../data/candles/NZD_CAD_M15.pkl\")\n",
    "df_m15 = df_m15[(df_m15.time >= start) & (df_m15.time <= end)].reset_index(drop=True)\n",
    "                                                                          \n",
    "df_m5 = pd.read_pickle(f\"../data/candles/NZD_CAD_M5.pkl\")\n",
    "df_m5 = df_m5[(df_m5.time >= start) & (df_m5.time <= end)].reset_index(drop=True)\n",
    "\n",
    "\n",
    "swing_strategy = SwingStrategy(iteration_data={\n",
    "    'peaks': [],\n",
    "    'swings': [],\n",
    "    'curr_swing': {},\n",
    "    'prev_swing': {},\n",
    "    'broken_swings': {},\n",
    "    'trade_swings': []\n",
    "    \n",
    "})\n",
    "simulator_nzd_cad = Simulator(strategy=swing_strategy, df=df_m15, df_smaller=df_m5, delta_in_mins=10)\n",
    "open_trades_nzd_cad, closed_trades_nzd_cad = simulator_nzd_cad.run()"
   ]
  },
  {
   "cell_type": "code",
   "execution_count": null,
   "id": "1d8f022a-7b5d-43e8-9ad9-b5cf0870715a",
   "metadata": {},
   "outputs": [],
   "source": [
    "# AUD_NZD\n",
    "df_m15 = pd.read_pickle(f\"../data/candles/AUD_NZD_M15.pkl\")\n",
    "df_m15 = df_m15[(df_m15.time >= start) & (df_m15.time <= end)].reset_index(drop=True)\n",
    "                                                                          \n",
    "df_m5 = pd.read_pickle(f\"../data/candles/AUD_NZD_M5.pkl\")\n",
    "df_m5 = df_m5[(df_m5.time >= start) & (df_m5.time <= end)].reset_index(drop=True)\n",
    "\n",
    "\n",
    "swing_strategy = SwingStrategy(iteration_data={\n",
    "    'peaks': [],\n",
    "    'swings': [],\n",
    "    'curr_swing': {},\n",
    "    'prev_swing': {},\n",
    "    'broken_swings': {},\n",
    "    'trade_swings': []\n",
    "    \n",
    "})\n",
    "simulator_aud_nzd = Simulator(strategy=swing_strategy, df=df_m15, df_smaller=df_m5, delta_in_mins=10)\n",
    "open_trades_aud_nzd, closed_trades_aud_nzd = simulator_aud_nzd.run()"
   ]
  },
  {
   "cell_type": "code",
   "execution_count": null,
   "id": "ea44bada-b176-4d7f-b37f-cd770e972d78",
   "metadata": {},
   "outputs": [],
   "source": []
  }
 ],
 "metadata": {
  "kernelspec": {
   "display_name": "Python 3 (ipykernel)",
   "language": "python",
   "name": "python3"
  },
  "language_info": {
   "codemirror_mode": {
    "name": "ipython",
    "version": 3
   },
   "file_extension": ".py",
   "mimetype": "text/x-python",
   "name": "python",
   "nbconvert_exporter": "python",
   "pygments_lexer": "ipython3",
   "version": "3.10.12"
  }
 },
 "nbformat": 4,
 "nbformat_minor": 5
}
