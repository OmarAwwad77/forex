{
 "cells": [
  {
   "cell_type": "code",
   "execution_count": 1,
   "id": "d45bb3a8",
   "metadata": {},
   "outputs": [],
   "source": [
    "import sys\n",
    "sys.path.append(\"../\")"
   ]
  },
  {
   "cell_type": "code",
   "execution_count": 10,
   "id": "7d43bb09-ddd7-4c6f-b361-2de53aff559a",
   "metadata": {},
   "outputs": [],
   "source": [
    "import pandas as pd\n",
    "import datetime as dt\n",
    "from technical.indicators import rsi\n",
    "from technical.udemy_patterns import apply_patterns"
   ]
  },
  {
   "cell_type": "code",
   "execution_count": 11,
   "id": "125fb93d-77c3-47f4-a22e-d8ba12040a14",
   "metadata": {},
   "outputs": [],
   "source": [
    "BUY = 1\n",
    "SELL = -1\n",
    "NONE = 0\n",
    "RSI_LIMIT = 50.0\n",
    "\n",
    "def apply_signal(row):\n",
    "    if row.ENGULFING == True:\n",
    "        if row.direction == BUY and row.mid_l > row.EMA_200:\n",
    "            if row.RSI_14 > RSI_LIMIT:\n",
    "                return BUY\n",
    "        if row.direction == SELL and row.mid_h < row.EMA_200:\n",
    "            if row.RSI_14 < RSI_LIMIT:\n",
    "                return SELL\n",
    "    return NONE     \n",
    "    \n",
    "def apply_take_profit(row, PROFIT_FACTOR):\n",
    "    if row.SIGNAL != NONE:\n",
    "        if row.SIGNAL == BUY:\n",
    "            if row.direction == BUY:\n",
    "                return (row.ask_c - row.ask_o) * PROFIT_FACTOR + row.ask_c\n",
    "            else:\n",
    "                return (row.ask_o - row.ask_c) * PROFIT_FACTOR + row.ask_o\n",
    "        else:\n",
    "            if row.direction == SELL:\n",
    "                return (row.bid_c - row.bid_o) * PROFIT_FACTOR + row.bid_c\n",
    "            else:\n",
    "                return (row.bid_o - row.bid_c) * PROFIT_FACTOR + row.bid_o\n",
    "    else:\n",
    "        return 0.0\n",
    "\n",
    "\n",
    "def apply_stop_loss(row):\n",
    "    if row.SIGNAL != NONE:\n",
    "        if row.SIGNAL == BUY:\n",
    "            if row.direction == BUY:\n",
    "                return row.ask_o\n",
    "            else:\n",
    "                return row.ask_c\n",
    "        else:\n",
    "            if row.direction == SELL:\n",
    "                return row.bid_o\n",
    "            else:\n",
    "                return row.bid_c\n",
    "    else:\n",
    "        return 0.0"
   ]
  },
  {
   "cell_type": "code",
   "execution_count": 12,
   "id": "84622233-010e-44f9-aac3-0cddfba422cb",
   "metadata": {},
   "outputs": [],
   "source": [
    "class Trade:\n",
    "    def __init__(self, row, profit_factor, loss_factor):\n",
    "        self.running = True\n",
    "        self.start_index_m5 = row.name\n",
    "        self.profit_factor = profit_factor\n",
    "        self.loss_factor = loss_factor\n",
    "        self.trigger_price = None\n",
    "            \n",
    "        self.SIGNAL = row.SIGNAL\n",
    "        self.TP = row.TP\n",
    "        self.SL = row.SL\n",
    "        self.result = 0.0\n",
    "        self.end_time = row.time\n",
    "        self.start_time = row.time\n",
    "        \n",
    "    def close_trade(self, row, result, trigger_price):\n",
    "        self.running = False\n",
    "        self.result = result\n",
    "        self.end_time = row.time\n",
    "        self.trigger_price = trigger_price\n",
    "        \n",
    "    def update(self, row):\n",
    "        if self.SIGNAL == BUY:\n",
    "            if row.bid_h >= self.TP:\n",
    "                self.close_trade(row, self.profit_factor, row.bid_h)\n",
    "            elif row.bid_l <= self.SL:\n",
    "                self.close_trade(row, self.loss_factor, row.bid_l)\n",
    "        if self.SIGNAL == SELL:\n",
    "            if row.ask_l <= self.TP:\n",
    "                self.close_trade(row, self.profit_factor, row.ask_l)\n",
    "            elif row.ask_h >= self.SL:\n",
    "                self.close_trade(row, self.loss_factor, row.ask_h)\n",
    "\n",
    "    def break_down_candle(self, row, buy=True):\n",
    "        print('break_down_candle()')\n",
    "        start_date = row.time\n",
    "        end_date = start_date + dt.timedelta(minutes=55)\n",
    "        DF_M5 = pd.read_pickle(f\"../data/candles/EUR_USD_M5.pkl\")\n",
    "        df = DF_M5[(DF_M5.time >= start_date)&(DF_M5.time <= end_date)]\n",
    "        for index, row in df.iterrows():\n",
    "            if buy:\n",
    "                if row.bid_h >= self.TP:\n",
    "                    return 1, row.bid_h\n",
    "                elif row.bid_l <= self.SL:\n",
    "                    return 0, row.bid_l\n",
    "            else:\n",
    "                if row.ask_l <= self.TP:\n",
    "                    return 1, row.ask_l\n",
    "                elif row.ask_h >= self.SL:\n",
    "                    return 0, row.ask_h\n",
    "                \n",
    "    def update_improved(self, row):\n",
    "        if self.SIGNAL == BUY:\n",
    "            if row.bid_h >= self.TP and row.bid_l <= self.SL:\n",
    "                res, trigger_price = self.break_down_candle(row)\n",
    "                if res:\n",
    "                    self.close_trade(row, self.profit_factor, trigger_price)\n",
    "                else:\n",
    "                    self.close_trade(row, self.loss_factor, trigger_price)\n",
    "            elif row.bid_h >= self.TP:\n",
    "                self.close_trade(row, self.profit_factor, row.bid_h)\n",
    "            elif row.bid_l <= self.SL:\n",
    "                self.close_trade(row, self.loss_factor, row.bid_l)\n",
    "        if self.SIGNAL == SELL:\n",
    "            if row.ask_l <= self.TP and row.ask_h >= self.SL:\n",
    "                res, trigger_price = self.break_down_candle(row, buy=False)\n",
    "                if res:\n",
    "                    self.close_trade(row, self.profit_factor, trigger_price)\n",
    "                else:\n",
    "                    self.close_trade(row, self.loss_factor, trigger_price) \n",
    "            elif row.ask_l <= self.TP:\n",
    "                self.close_trade(row, self.profit_factor, row.ask_l)\n",
    "            elif row.ask_h >= self.SL:\n",
    "                self.close_trade(row, self.loss_factor, row.ask_h) "
   ]
  },
  {
   "cell_type": "code",
   "execution_count": 13,
   "id": "64ca8403-88a8-4283-be43-4a181e7fae6a",
   "metadata": {},
   "outputs": [],
   "source": [
    "def apply_signals(df, PROFIT_FACTOR, sig):\n",
    "    df[\"SIGNAL\"] = df.apply(sig, axis=1)\n",
    "    df[\"TP\"] = df.apply(apply_take_profit, axis=1, PROFIT_FACTOR=PROFIT_FACTOR)\n",
    "    df[\"SL\"] = df.apply(apply_stop_loss, axis=1)\n",
    "\n",
    "\n",
    "def create_signals(df, time_d=1):\n",
    "    df_signals = df[df.SIGNAL != NONE].copy() \n",
    "    df_signals['m5_start'] = [x + dt.timedelta(hours=time_d) for x in df_signals.time]\n",
    "    df_signals.drop(['time', 'mid_o', 'mid_h', 'mid_l', 'bid_o', 'bid_h', 'bid_l',\n",
    "    'ask_o', 'ask_h', 'ask_l', 'direction'], axis=1, inplace=True)\n",
    "    df_signals.rename(columns={\n",
    "        'bid_c' : 'start_price_BUY', # for tracking the trade  \n",
    "        'ask_c' : 'start_price_SELL',\n",
    "        'm5_start' : 'time'\n",
    "    }, inplace=True)\n",
    "    return df_signals\n",
    "\n",
    "\n",
    "class GuruTester:\n",
    "    def __init__(self, df_big,\n",
    "                    apply_signal, \n",
    "                    # df_m5,\n",
    "                    LOSS_FACTOR = -1.0,\n",
    "                    PROFIT_FACTOR = 1.5,\n",
    "                    time_d=1 ):\n",
    "        self.df_big = df_big.copy()\n",
    "        self.apply_signal = apply_signal\n",
    "        # self.df_m5 = df_m5.copy()\n",
    "        self.LOSS_FACTOR = LOSS_FACTOR\n",
    "        self.PROFIT_FACTOR = PROFIT_FACTOR\n",
    "        self.time_d = time_d\n",
    "\n",
    "        self.prepare_data()\n",
    "        \n",
    "    def prepare_data(self):\n",
    "        \n",
    "        print(\"prepare_data...\")\n",
    "\n",
    "        apply_signals(self.df_big,\n",
    "                    self.PROFIT_FACTOR,\n",
    "                    self.apply_signal)\n",
    "\n",
    "\n",
    "        # df_m5_slim = self.df_m5[['time','bid_h', 'bid_l', 'ask_h', 'ask_l' ]].copy()\n",
    "        # df_signals = create_signals(self.df_big, time_d=self.time_d)\n",
    "        self.merged = self.df_big\n",
    "        # self.merged = pd.merge(left=df_m5_slim, right=df_signals, on='time', how='left')\n",
    "        # self.merged.fillna(0, inplace=True)\n",
    "        # self.merged.SIGNAL = self.merged.SIGNAL.astype(int)\n",
    "\n",
    "    def run_test(self):\n",
    "        print(\"run_test...\")\n",
    "        open_trades_m5 = []\n",
    "        closed_trades_m5 = []\n",
    "\n",
    "        for index, row in self.merged.iterrows():\n",
    "\n",
    "            for ot in open_trades_m5:\n",
    "                ot.update_improved(row)\n",
    "                if ot.running == False:\n",
    "                    closed_trades_m5.append(ot)\n",
    "            \n",
    "            if row.SIGNAL != NONE:\n",
    "                open_trades_m5.append(Trade(row, self.PROFIT_FACTOR, self.LOSS_FACTOR))  \n",
    "                \n",
    "            \n",
    "            open_trades_m5 = [x for x in open_trades_m5 if x.running == True]\n",
    "\n",
    "        self.df_results = pd.DataFrame.from_dict([vars(x) for x in closed_trades_m5]) \n",
    "        print(\"Result:\", self.df_results.result.sum())"
   ]
  },
  {
   "cell_type": "code",
   "execution_count": 14,
   "id": "314355c3",
   "metadata": {},
   "outputs": [],
   "source": [
    "def run_pair(pair):\n",
    "    df_an = pd.read_pickle(f\"../data/candles/{pair}_H1.pkl\")\n",
    "    # df_m5 = pd.read_pickle(f\"../data/candles/{pair}_M5.pkl\")\n",
    "    df_an = df_an[:1500].copy()\n",
    "    \n",
    "    df_an.reset_index(drop=True, inplace=True)\n",
    "    # df_m5.reset_index(drop=True, inplace=True)\n",
    "    df_an = rsi(df_an)\n",
    "    df_an = apply_patterns(df_an)\n",
    "    df_an['EMA_200'] = df_an.mid_c.ewm(span=200, min_periods=200).mean()\n",
    "    our_cols = ['time', 'mid_o', 'mid_h', 'mid_l', 'mid_c',\n",
    "            'bid_o', 'bid_h', 'bid_l', 'bid_c', \n",
    "            'ask_o', 'ask_h', 'ask_l', 'ask_c',\n",
    "            'ENGULFING', 'direction', 'EMA_200', 'RSI_14' ]\n",
    "    df_slim = df_an[our_cols].copy()\n",
    "    df_slim.dropna(inplace=True)\n",
    "    \n",
    "    df_slim.reset_index(drop=True, inplace=True)\n",
    "    gt = GuruTester(\n",
    "        df_slim,\n",
    "        apply_signal,\n",
    "        # df_m5,\n",
    "    )\n",
    "    \n",
    "    gt.run_test()\n",
    "    return gt.df_results\n",
    "    "
   ]
  },
  {
   "cell_type": "code",
   "execution_count": 15,
   "id": "36fab442",
   "metadata": {},
   "outputs": [
    {
     "name": "stdout",
     "output_type": "stream",
     "text": [
      "prepare_data...\n",
      "run_test...\n",
      "break_down_candle()\n",
      "break_down_candle()\n",
      "break_down_candle()\n",
      "break_down_candle()\n",
      "break_down_candle()\n",
      "break_down_candle()\n",
      "break_down_candle()\n",
      "break_down_candle()\n",
      "break_down_candle()\n",
      "break_down_candle()\n",
      "break_down_candle()\n",
      "break_down_candle()\n",
      "break_down_candle()\n",
      "break_down_candle()\n",
      "break_down_candle()\n",
      "break_down_candle()\n",
      "break_down_candle()\n",
      "Result: -16.5\n"
     ]
    }
   ],
   "source": [
    "res = []\n",
    "for p in [\"EUR_USD\"]:\n",
    "    res.append(dict(pair=p,res=run_pair(p)))"
   ]
  },
  {
   "cell_type": "code",
   "execution_count": 18,
   "id": "f21d5e3e-23d9-415a-b82d-daa1af69763c",
   "metadata": {},
   "outputs": [
    {
     "name": "stdout",
     "output_type": "stream",
     "text": [
      "69 (66.35%) wrong trades taken out of: 104 trades in total\n"
     ]
    }
   ],
   "source": [
    "total_len = len(res[0]['res'])\n",
    "bad_trades_len = len(res[0]['res'][res[0]['res'].result == -1.0])\n",
    "total_len, bad_trades_len\n",
    "print(f'{bad_trades_len} ({bad_trades_len / total_len * 100:.2f}%) wrong trades taken out of: {total_len} trades in total')"
   ]
  },
  {
   "cell_type": "code",
   "execution_count": 27,
   "id": "d9b1f5f0",
   "metadata": {},
   "outputs": [
    {
     "name": "stdout",
     "output_type": "stream",
     "text": [
      "EUR_USD -1016.0\n",
      "GBP_JPY -1057.5\n"
     ]
    }
   ],
   "source": [
    "for r in res:\n",
    "    print(r['pair'], r['res'].result.sum())"
   ]
  },
  {
   "cell_type": "code",
   "execution_count": null,
   "id": "b3aae0b2",
   "metadata": {},
   "outputs": [],
   "source": [
    "EUR_USD -1016.0\n",
    "GBP_JPY -1057.5"
   ]
  },
  {
   "cell_type": "code",
   "execution_count": 7,
   "id": "990d4bde",
   "metadata": {},
   "outputs": [
    {
     "data": {
      "text/plain": [
       "pandas._libs.tslibs.timedeltas.Timedelta"
      ]
     },
     "execution_count": 7,
     "metadata": {},
     "output_type": "execute_result"
    }
   ],
   "source": [
    "type(DF_M5.iloc[1]['time'] - DF_M5.iloc[0]['time'])"
   ]
  },
  {
   "cell_type": "code",
   "execution_count": null,
   "id": "3f968cf3",
   "metadata": {},
   "outputs": [],
   "source": []
  }
 ],
 "metadata": {
  "kernelspec": {
   "display_name": "Python 3 (ipykernel)",
   "language": "python",
   "name": "python3"
  },
  "language_info": {
   "codemirror_mode": {
    "name": "ipython",
    "version": 3
   },
   "file_extension": ".py",
   "mimetype": "text/x-python",
   "name": "python",
   "nbconvert_exporter": "python",
   "pygments_lexer": "ipython3",
   "version": "3.10.12"
  }
 },
 "nbformat": 4,
 "nbformat_minor": 5
}
