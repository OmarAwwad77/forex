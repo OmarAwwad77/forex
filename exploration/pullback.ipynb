{
 "cells": [
  {
   "cell_type": "code",
   "execution_count": 1,
   "id": "8dd6b2a8-a98b-4885-aa9f-99e321dc88f6",
   "metadata": {},
   "outputs": [],
   "source": [
    "import sys\n",
    "sys.path.append('../')"
   ]
  },
  {
   "cell_type": "code",
   "execution_count": 2,
   "id": "1718db52-d36c-4848-a372-46bdeef0b25d",
   "metadata": {},
   "outputs": [
    {
     "name": "stderr",
     "output_type": "stream",
     "text": [
      "/tmp/ipykernel_22728/327068495.py:1: DeprecationWarning: \n",
      "Pyarrow will become a required dependency of pandas in the next major release of pandas (pandas 3.0),\n",
      "(to allow more performant data types, such as the Arrow string type, and better interoperability with other libraries)\n",
      "but was not found to be installed on your system.\n",
      "If this would cause problems for you,\n",
      "please provide us feedback at https://github.com/pandas-dev/pandas/issues/54466\n",
      "        \n",
      "  import pandas as pd\n"
     ]
    }
   ],
   "source": [
    "import pandas as pd\n",
    "import decimal\n",
    "from datetime import datetime, timedelta\n",
    "from dateutil import parser\n",
    "from plotting import CandlePlot\n",
    "import plotly.graph_objects as go\n",
    "from technical.patterns import is_bearish_pattern, is_bullish_pattern\n",
    "from technical.peaks import get_peaks, PeakType, plot_peaks, get_peak\n",
    "from collections import namedtuple\n",
    "from typing import List\n",
    "from simulator.simulator import Simulator\n",
    "from simulator.trade import TradeOutcome\n",
    "from strategies.supply_demand_strategy import SupplyDemandStrategy\n",
    "from strategies.swing_strategy import SwingStrategy\n",
    "import pickle\n",
    "import pathlib"
   ]
  },
  {
   "cell_type": "code",
   "execution_count": 8,
   "id": "03e1c6e1-e451-4923-a6f1-812e55e9c1fd",
   "metadata": {},
   "outputs": [
    {
     "name": "stdout",
     "output_type": "stream",
     "text": [
      "Open Trades len: 0\n",
      "Closed Trades len: 9\n",
      "3 (33.33%) wrong trades taken out of: 9 trades in total\n"
     ]
    }
   ],
   "source": [
    "# GBP_USD \n",
    "start = parser.parse('2023-01-02T00:00:00Z')\n",
    "end = parser.parse('2023-07-03T22:00:00Z')\n",
    "\n",
    "df_m15 = pd.read_pickle(f\"../data/candles/GBP_USD_M15.pkl\")\n",
    "df_m15 = df_m15[(df_m15.time >= start) & (df_m15.time <= end)].reset_index(drop=True)\n",
    "                                                                          \n",
    "df_m5 = pd.read_pickle(f\"../data/candles/GBP_USD_M5.pkl\")\n",
    "df_m5 = df_m5[(df_m5.time >= start) & (df_m5.time <= end)].reset_index(drop=True)\n",
    "\n",
    "swing_strategy = SwingStrategy(iteration_data={\n",
    "    'peaks': [],\n",
    "    'swings': [],\n",
    "    'curr_swing': {},\n",
    "    'prev_swing': {},\n",
    "    'broken_swings': {},\n",
    "    'trade_swings': []\n",
    "    \n",
    "})\n",
    "simulator_gbp_usd = Simulator(strategy=swing_strategy, df=df_m15, df_smaller=df_m5, delta_in_mins=10)\n",
    "open_trades_gbp_usd, closed_trades_gbp_usd = simulator_gbp_usd.run()\n",
    "# 3 (33.33%) wrong trades taken out of: 9 trades in total"
   ]
  },
  {
   "cell_type": "code",
   "execution_count": 10,
   "id": "a03c5fe9-3819-4c77-8221-5a6cb88e6954",
   "metadata": {},
   "outputs": [
    {
     "name": "stdout",
     "output_type": "stream",
     "text": [
      "Open Trades len: 0\n",
      "Closed Trades len: 5\n",
      "3 (60.00%) wrong trades taken out of: 5 trades in total\n"
     ]
    }
   ],
   "source": [
    "# USD_CAD\n",
    "start = parser.parse('2023-01-02T00:00:00Z')\n",
    "end = parser.parse('2023-07-03T22:00:00Z')\n",
    "\n",
    "df_m15 = pd.read_pickle(f\"../data/candles/USD_CAD_M15.pkl\")\n",
    "df_m15 = df_m15[(df_m15.time >= start) & (df_m15.time <= end)].reset_index(drop=True)\n",
    "                                                                          \n",
    "df_m5 = pd.read_pickle(f\"../data/candles/USD_CAD_M5.pkl\")\n",
    "df_m5 = df_m5[(df_m5.time >= start) & (df_m5.time <= end)].reset_index(drop=True)\n",
    "\n",
    "swing_strategy = SwingStrategy(iteration_data={\n",
    "    'peaks': [],\n",
    "    'swings': [],\n",
    "    'curr_swing': {},\n",
    "    'prev_swing': {},\n",
    "    'broken_swings': {},\n",
    "    'trade_swings': []\n",
    "    \n",
    "})\n",
    "simulator_usd_cad = Simulator(strategy=swing_strategy, df=df_m15, df_smaller=df_m5, delta_in_mins=10)\n",
    "open_trades_usd_cad, closed_trades_usd_cad = simulator_usd_cad.run()\n",
    "# 3 (60.00%) wrong trades taken out of: 5 trades in total"
   ]
  },
  {
   "cell_type": "code",
   "execution_count": 11,
   "id": "61e47cfd-0c66-44ff-941a-c03babc9bb81",
   "metadata": {},
   "outputs": [
    {
     "name": "stdout",
     "output_type": "stream",
     "text": [
      "Open Trades len: 0\n",
      "Closed Trades len: 23\n",
      "11 (47.83%) wrong trades taken out of: 23 trades in total\n"
     ]
    }
   ],
   "source": [
    "# AUD_USD\n",
    "start = parser.parse('2023-01-02T00:00:00Z')\n",
    "end = parser.parse('2023-07-03T22:00:00Z')\n",
    "\n",
    "df_m15 = pd.read_pickle(f\"../data/candles/AUD_USD_M15.pkl\")\n",
    "df_m15 = df_m15[(df_m15.time >= start) & (df_m15.time <= end)].reset_index(drop=True)\n",
    "                                                                          \n",
    "df_m5 = pd.read_pickle(f\"../data/candles/AUD_USD_M5.pkl\")\n",
    "df_m5 = df_m5[(df_m5.time >= start) & (df_m5.time <= end)].reset_index(drop=True)\n",
    "\n",
    "swing_strategy = SwingStrategy(iteration_data={\n",
    "    'peaks': [],\n",
    "    'swings': [],\n",
    "    'curr_swing': {},\n",
    "    'prev_swing': {},\n",
    "    'broken_swings': {},\n",
    "    'trade_swings': []\n",
    "    \n",
    "})\n",
    "simulator_aud_usd = Simulator(strategy=swing_strategy, df=df_m15, df_smaller=df_m5, delta_in_mins=10)\n",
    "open_trades_aud_usd, closed_trades_aud_usd = simulator_aud_usd.run()\n",
    "# 11 (47.83%) wrong trades taken out of: 23 trades in total"
   ]
  },
  {
   "cell_type": "code",
   "execution_count": 12,
   "id": "23a57355-1061-4ad6-b468-fd281750b50f",
   "metadata": {},
   "outputs": [
    {
     "name": "stdout",
     "output_type": "stream",
     "text": [
      "Open Trades len: 0\n",
      "Closed Trades len: 23\n",
      "10 (43.48%) wrong trades taken out of: 23 trades in total\n"
     ]
    }
   ],
   "source": [
    "# NZD_USD\n",
    "start = parser.parse('2023-01-02T00:00:00Z')\n",
    "end = parser.parse('2023-07-03T22:00:00Z')\n",
    "\n",
    "df_m15 = pd.read_pickle(f\"../data/candles/NZD_USD_M15.pkl\")\n",
    "df_m15 = df_m15[(df_m15.time >= start) & (df_m15.time <= end)].reset_index(drop=True)\n",
    "                                                                          \n",
    "df_m5 = pd.read_pickle(f\"../data/candles/NZD_USD_M5.pkl\")\n",
    "df_m5 = df_m5[(df_m5.time >= start) & (df_m5.time <= end)].reset_index(drop=True)\n",
    "\n",
    "swing_strategy = SwingStrategy(iteration_data={\n",
    "    'peaks': [],\n",
    "    'swings': [],\n",
    "    'curr_swing': {},\n",
    "    'prev_swing': {},\n",
    "    'broken_swings': {},\n",
    "    'trade_swings': []\n",
    "    \n",
    "})\n",
    "simulator_nzd_usd = Simulator(strategy=swing_strategy, df=df_m15, df_smaller=df_m5, delta_in_mins=10)\n",
    "open_trades_nzd_usd, closed_trades_nzd_usd = simulator_nzd_usd.run()"
   ]
  },
  {
   "cell_type": "code",
   "execution_count": 15,
   "id": "91e0654b-0239-48e7-b93e-7b75a754d68b",
   "metadata": {},
   "outputs": [
    {
     "name": "stdout",
     "output_type": "stream",
     "text": [
      "Open Trades len: 0\n",
      "Closed Trades len: 6\n",
      "3 (50.00%) wrong trades taken out of: 6 trades in total\n"
     ]
    }
   ],
   "source": [
    "# EUR_CAD\n",
    "start = parser.parse('2023-01-02T00:00:00Z')\n",
    "end = parser.parse('2023-07-03T22:00:00Z')\n",
    "\n",
    "df_m15 = pd.read_pickle(f\"../data/candles/EUR_CAD_M15.pkl\")\n",
    "df_m15 = df_m15[(df_m15.time >= start) & (df_m15.time <= end)].reset_index(drop=True)\n",
    "                                                                          \n",
    "df_m5 = pd.read_pickle(f\"../data/candles/EUR_CAD_M5.pkl\")\n",
    "df_m5 = df_m5[(df_m5.time >= start) & (df_m5.time <= end)].reset_index(drop=True)\n",
    "\n",
    "swing_strategy = SwingStrategy(iteration_data={\n",
    "    'peaks': [],\n",
    "    'swings': [],\n",
    "    'curr_swing': {},\n",
    "    'prev_swing': {},\n",
    "    'broken_swings': {},\n",
    "    'trade_swings': []\n",
    "    \n",
    "})\n",
    "simulator_eur_cad = Simulator(strategy=swing_strategy, df=df_m15, df_smaller=df_m5, delta_in_mins=10)\n",
    "open_trades_eur_cad, closed_trades_eur_cad = simulator_eur_cad.run()"
   ]
  },
  {
   "cell_type": "code",
   "execution_count": 7,
   "id": "c83368ee-75a8-4679-8b3e-1a6d1b3f6b36",
   "metadata": {},
   "outputs": [
    {
     "name": "stdout",
     "output_type": "stream",
     "text": [
      "Open Trades len: 0\n",
      "Closed Trades len: 5\n",
      "2 (40.00%) wrong trades taken out of: 5 trades in total\n"
     ]
    }
   ],
   "source": [
    "# EUR_GBP\n",
    "start = parser.parse('2023-01-02T00:00:00Z')\n",
    "end = parser.parse('2023-07-03T22:00:00Z')\n",
    "\n",
    "df_m15 = pd.read_pickle(f\"../data/candles/EUR_GBP_M15.pkl\")\n",
    "df_m15 = df_m15[(df_m15.time >= start) & (df_m15.time <= end)].reset_index(drop=True)\n",
    "                                                                          \n",
    "df_m5 = pd.read_pickle(f\"../data/candles/EUR_GBP_M5.pkl\")\n",
    "df_m5 = df_m5[(df_m5.time >= start) & (df_m5.time <= end)].reset_index(drop=True)\n",
    "\n",
    "swing_strategy = SwingStrategy(iteration_data={\n",
    "    'peaks': [],\n",
    "    'swings': [],\n",
    "    'curr_swing': {},\n",
    "    'prev_swing': {},\n",
    "    'broken_swings': {},\n",
    "    'trade_swings': []\n",
    "    \n",
    "})\n",
    "simulator_eur_gbp = Simulator(strategy=swing_strategy, df=df_m15, df_smaller=df_m5, delta_in_mins=10)\n",
    "open_trades_eur_gbp, closed_trades_eur_gbp = simulator_eur_gbp.run()\n",
    "# 2 (40.00%) wrong trades taken out of: 5 trades in total"
   ]
  },
  {
   "cell_type": "code",
   "execution_count": null,
   "id": "3a93fb64-3c8b-4c87-88fa-2d1a7825738b",
   "metadata": {},
   "outputs": [],
   "source": [
    "# EUR_USD\n",
    "start = parser.parse('2023-01-02T00:00:00Z')\n",
    "end = parser.parse('2023-07-03T22:00:00Z')\n",
    "\n",
    "df_m15 = pd.read_pickle(f\"../data/candles/EUR_USD_M15.pkl\")\n",
    "df_m15 = df_m15[(df_m15.time >= start) & (df_m15.time <= end)].reset_index(drop=True)\n",
    "                                                                          \n",
    "df_m5 = pd.read_pickle(f\"../data/candles/EUR_USD_M5.pkl\")\n",
    "df_m5 = df_m5[(df_m5.time >= start) & (df_m5.time <= end)].reset_index(drop=True)\n",
    "\n",
    "\n",
    "swing_strategy = SwingStrategy(iteration_data={\n",
    "    'peaks': [],\n",
    "    'swings': [],\n",
    "    'curr_swing': {},\n",
    "    'prev_swing': {},\n",
    "    'broken_swings': {},\n",
    "    'trade_swings': []\n",
    "    \n",
    "})\n",
    "simulator_eur_usd = Simulator(strategy=swing_strategy, df=df_m15, df_smaller=df_m5, delta_in_mins=10)\n",
    "open_trades_eur_usd, closed_trades_eur_usd = simulator_eur_usd.run()\n",
    "# 3 (33.33%) wrong trades taken out of: 9 trades in total (0.25, 0.30, 0.75, 0.00800)"
   ]
  }
 ],
 "metadata": {
  "kernelspec": {
   "display_name": "Python 3 (ipykernel)",
   "language": "python",
   "name": "python3"
  },
  "language_info": {
   "codemirror_mode": {
    "name": "ipython",
    "version": 3
   },
   "file_extension": ".py",
   "mimetype": "text/x-python",
   "name": "python",
   "nbconvert_exporter": "python",
   "pygments_lexer": "ipython3",
   "version": "3.10.12"
  }
 },
 "nbformat": 4,
 "nbformat_minor": 5
}
