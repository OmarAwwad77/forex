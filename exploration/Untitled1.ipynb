{
 "cells": [
  {
   "cell_type": "code",
   "execution_count": 1,
   "id": "1ff1fe3f-5c09-4a68-bf7d-c947a75e929b",
   "metadata": {},
   "outputs": [],
   "source": [
    "import sys\n",
    "sys.path.append('../')"
   ]
  },
  {
   "cell_type": "code",
   "execution_count": 2,
   "id": "21d0d70d-9d2b-4ef9-9abb-ede032e418b4",
   "metadata": {},
   "outputs": [
    {
     "name": "stderr",
     "output_type": "stream",
     "text": [
      "/tmp/ipykernel_84762/327068495.py:1: DeprecationWarning: \n",
      "Pyarrow will become a required dependency of pandas in the next major release of pandas (pandas 3.0),\n",
      "(to allow more performant data types, such as the Arrow string type, and better interoperability with other libraries)\n",
      "but was not found to be installed on your system.\n",
      "If this would cause problems for you,\n",
      "please provide us feedback at https://github.com/pandas-dev/pandas/issues/54466\n",
      "        \n",
      "  import pandas as pd\n"
     ]
    }
   ],
   "source": [
    "import pandas as pd\n",
    "import decimal\n",
    "from datetime import datetime, timedelta\n",
    "from dateutil import parser\n",
    "from plotting import CandlePlot\n",
    "import plotly.graph_objects as go\n",
    "from technical.patterns import is_bearish_pattern, is_bullish_pattern\n",
    "from technical.peaks import get_peaks, PeakType, plot_peaks, get_peak\n",
    "from collections import namedtuple\n",
    "from typing import List\n",
    "from simulator.simulator import Simulator\n",
    "from simulator.trade import TradeOutcome\n",
    "from strategies.supply_demand_strategy import SupplyDemandStrategy\n",
    "from strategies.swing_strategy import SwingStrategy\n",
    "import pickle\n",
    "import pathlib"
   ]
  },
  {
   "cell_type": "code",
   "execution_count": 3,
   "id": "4de20fc6-b164-4b10-80ff-a8799e0f3f33",
   "metadata": {},
   "outputs": [],
   "source": [
    "start = parser.parse('2023-01-02T00:00:00Z')\n",
    "end = parser.parse('2024-01-02T22:00:00Z')"
   ]
  },
  {
   "cell_type": "code",
   "execution_count": 4,
   "id": "c5fdcea5-75eb-40b6-88c0-557176520cbc",
   "metadata": {},
   "outputs": [
    {
     "name": "stdout",
     "output_type": "stream",
     "text": [
      "Open Trades len: 0\n",
      "Closed Trades len: 7\n",
      "4 (57.14%) wrong trades taken out of: 7 trades in total\n"
     ]
    }
   ],
   "source": [
    "# GBP_USD \n",
    "df_m15 = pd.read_pickle(f\"../data/candles/GBP_USD_M15.pkl\")\n",
    "df_m15 = df_m15[(df_m15.time >= start) & (df_m15.time <= end)].reset_index(drop=True)\n",
    "                                                                          \n",
    "df_m5 = pd.read_pickle(f\"../data/candles/GBP_USD_M5.pkl\")\n",
    "df_m5 = df_m5[(df_m5.time >= start) & (df_m5.time <= end)].reset_index(drop=True)\n",
    "\n",
    "swing_strategy = SwingStrategy(iteration_data={\n",
    "    'peaks': [],\n",
    "    'swings': [],\n",
    "    'curr_swing': {},\n",
    "    'prev_swing': {},\n",
    "    'broken_swings': {},\n",
    "    'trade_swings': []\n",
    "    \n",
    "})\n",
    "simulator_gbp_usd = Simulator(strategy=swing_strategy, df=df_m15, df_smaller=df_m5, delta_in_mins=10)\n",
    "open_trades_gbp_usd, closed_trades_gbp_usd = simulator_gbp_usd.run()"
   ]
  },
  {
   "cell_type": "code",
   "execution_count": 5,
   "id": "749aa7d7-ce18-47f7-a539-1e1e2e17f693",
   "metadata": {},
   "outputs": [
    {
     "name": "stdout",
     "output_type": "stream",
     "text": [
      "Open Trades len: 0\n",
      "Closed Trades len: 3\n",
      "1 (33.33%) wrong trades taken out of: 3 trades in total\n"
     ]
    }
   ],
   "source": [
    "# USD_CAD\n",
    "df_m15 = pd.read_pickle(f\"../data/candles/USD_CAD_M15.pkl\")\n",
    "df_m15 = df_m15[(df_m15.time >= start) & (df_m15.time <= end)].reset_index(drop=True)\n",
    "                                                                          \n",
    "df_m5 = pd.read_pickle(f\"../data/candles/USD_CAD_M5.pkl\")\n",
    "df_m5 = df_m5[(df_m5.time >= start) & (df_m5.time <= end)].reset_index(drop=True)\n",
    "\n",
    "swing_strategy = SwingStrategy(iteration_data={\n",
    "    'peaks': [],\n",
    "    'swings': [],\n",
    "    'curr_swing': {},\n",
    "    'prev_swing': {},\n",
    "    'broken_swings': {},\n",
    "    'trade_swings': []\n",
    "    \n",
    "})\n",
    "simulator_usd_cad = Simulator(strategy=swing_strategy, df=df_m15, df_smaller=df_m5, delta_in_mins=10)\n",
    "open_trades_usd_cad, closed_trades_usd_cad = simulator_usd_cad.run()"
   ]
  },
  {
   "cell_type": "code",
   "execution_count": 6,
   "id": "63b79316-420a-4980-93a3-3a65d1b88cc0",
   "metadata": {},
   "outputs": [
    {
     "name": "stdout",
     "output_type": "stream",
     "text": [
      "Open Trades len: 0\n",
      "Closed Trades len: 25\n",
      "12 (48.00%) wrong trades taken out of: 25 trades in total\n"
     ]
    }
   ],
   "source": [
    "# AUD_USD\n",
    "df_m15 = pd.read_pickle(f\"../data/candles/AUD_USD_M15.pkl\")\n",
    "df_m15 = df_m15[(df_m15.time >= start) & (df_m15.time <= end)].reset_index(drop=True)\n",
    "                                                                          \n",
    "df_m5 = pd.read_pickle(f\"../data/candles/AUD_USD_M5.pkl\")\n",
    "df_m5 = df_m5[(df_m5.time >= start) & (df_m5.time <= end)].reset_index(drop=True)\n",
    "\n",
    "swing_strategy = SwingStrategy(iteration_data={\n",
    "    'peaks': [],\n",
    "    'swings': [],\n",
    "    'curr_swing': {},\n",
    "    'prev_swing': {},\n",
    "    'broken_swings': {},\n",
    "    'trade_swings': []\n",
    "    \n",
    "})\n",
    "simulator_aud_usd = Simulator(strategy=swing_strategy, df=df_m15, df_smaller=df_m5, delta_in_mins=10)\n",
    "open_trades_aud_usd, closed_trades_aud_usd = simulator_aud_usd.run()"
   ]
  },
  {
   "cell_type": "code",
   "execution_count": 7,
   "id": "04c5e7b2-ad21-4610-bb2c-d0576fc98b62",
   "metadata": {},
   "outputs": [
    {
     "name": "stdout",
     "output_type": "stream",
     "text": [
      "Open Trades len: 0\n",
      "Closed Trades len: 23\n",
      "11 (47.83%) wrong trades taken out of: 23 trades in total\n"
     ]
    }
   ],
   "source": [
    "# NZD_USD\n",
    "df_m15 = pd.read_pickle(f\"../data/candles/NZD_USD_M15.pkl\")\n",
    "df_m15 = df_m15[(df_m15.time >= start) & (df_m15.time <= end)].reset_index(drop=True)\n",
    "                                                                          \n",
    "df_m5 = pd.read_pickle(f\"../data/candles/NZD_USD_M5.pkl\")\n",
    "df_m5 = df_m5[(df_m5.time >= start) & (df_m5.time <= end)].reset_index(drop=True)\n",
    "\n",
    "swing_strategy = SwingStrategy(iteration_data={\n",
    "    'peaks': [],\n",
    "    'swings': [],\n",
    "    'curr_swing': {},\n",
    "    'prev_swing': {},\n",
    "    'broken_swings': {},\n",
    "    'trade_swings': []\n",
    "    \n",
    "})\n",
    "simulator_nzd_usd = Simulator(strategy=swing_strategy, df=df_m15, df_smaller=df_m5, delta_in_mins=10)\n",
    "open_trades_nzd_usd, closed_trades_nzd_usd = simulator_nzd_usd.run()"
   ]
  },
  {
   "cell_type": "code",
   "execution_count": 9,
   "id": "9a1477e8-bda2-42cf-b1c1-bb48062889e2",
   "metadata": {},
   "outputs": [
    {
     "name": "stdout",
     "output_type": "stream",
     "text": [
      "Open Trades len: 0\n",
      "Closed Trades len: 4\n",
      "2 (50.00%) wrong trades taken out of: 4 trades in total\n"
     ]
    }
   ],
   "source": [
    "# EUR_CAD\n",
    "df_m15 = pd.read_pickle(f\"../data/candles/EUR_CAD_M15.pkl\")\n",
    "df_m15 = df_m15[(df_m15.time >= start) & (df_m15.time <= end)].reset_index(drop=True)\n",
    "                                                                          \n",
    "df_m5 = pd.read_pickle(f\"../data/candles/EUR_CAD_M5.pkl\")\n",
    "df_m5 = df_m5[(df_m5.time >= start) & (df_m5.time <= end)].reset_index(drop=True)\n",
    "\n",
    "swing_strategy = SwingStrategy(iteration_data={\n",
    "    'peaks': [],\n",
    "    'swings': [],\n",
    "    'curr_swing': {},\n",
    "    'prev_swing': {},\n",
    "    'broken_swings': {},\n",
    "    'trade_swings': []\n",
    "    \n",
    "})\n",
    "simulator_eur_cad = Simulator(strategy=swing_strategy, df=df_m15, df_smaller=df_m5, delta_in_mins=10)\n",
    "open_trades_eur_cad, closed_trades_eur_cad = simulator_eur_cad.run()"
   ]
  },
  {
   "cell_type": "code",
   "execution_count": null,
   "id": "29bfc08d-d128-4888-8208-414b222a1854",
   "metadata": {},
   "outputs": [],
   "source": [
    "# EUR_GBP\n",
    "df_m15 = pd.read_pickle(f\"../data/candles/EUR_GBP_M15.pkl\")\n",
    "df_m15 = df_m15[(df_m15.time >= start) & (df_m15.time <= end)].reset_index(drop=True)\n",
    "                                                                          \n",
    "df_m5 = pd.read_pickle(f\"../data/candles/EUR_GBP_M5.pkl\")\n",
    "df_m5 = df_m5[(df_m5.time >= start) & (df_m5.time <= end)].reset_index(drop=True)\n",
    "\n",
    "swing_strategy = SwingStrategy(iteration_data={\n",
    "    'peaks': [],\n",
    "    'swings': [],\n",
    "    'curr_swing': {},\n",
    "    'prev_swing': {},\n",
    "    'broken_swings': {},\n",
    "    'trade_swings': []\n",
    "    \n",
    "})\n",
    "simulator_eur_gbp = Simulator(strategy=swing_strategy, df=df_m15, df_smaller=df_m5, delta_in_mins=10)\n",
    "open_trades_eur_gbp, closed_trades_eur_gbp = simulator_eur_gbp.run()"
   ]
  },
  {
   "cell_type": "code",
   "execution_count": null,
   "id": "7d5283c6-68f1-432b-ba53-ef09894e6eeb",
   "metadata": {},
   "outputs": [],
   "source": [
    "# EUR_USD\n",
    "df_m15 = pd.read_pickle(f\"../data/candles/EUR_USD_M15.pkl\")\n",
    "df_m15 = df_m15[(df_m15.time >= start) & (df_m15.time <= end)].reset_index(drop=True)\n",
    "                                                                          \n",
    "df_m5 = pd.read_pickle(f\"../data/candles/EUR_USD_M5.pkl\")\n",
    "df_m5 = df_m5[(df_m5.time >= start) & (df_m5.time <= end)].reset_index(drop=True)\n",
    "\n",
    "\n",
    "swing_strategy = SwingStrategy(iteration_data={\n",
    "    'peaks': [],\n",
    "    'swings': [],\n",
    "    'curr_swing': {},\n",
    "    'prev_swing': {},\n",
    "    'broken_swings': {},\n",
    "    'trade_swings': []\n",
    "    \n",
    "})\n",
    "simulator_eur_usd = Simulator(strategy=swing_strategy, df=df_m15, df_smaller=df_m5, delta_in_mins=10)\n",
    "open_trades_eur_usd, closed_trades_eur_usd = simulator_eur_usd.run()"
   ]
  },
  {
   "cell_type": "code",
   "execution_count": null,
   "id": "6cbb991f-d2d7-4cdc-8e17-e9c8ed61f6a8",
   "metadata": {},
   "outputs": [],
   "source": [
    "# GBP_CAD\n",
    "df_m15 = pd.read_pickle(f\"../data/candles/GBP_CAD_M15.pkl\")\n",
    "df_m15 = df_m15[(df_m15.time >= start) & (df_m15.time <= end)].reset_index(drop=True)\n",
    "                                                                          \n",
    "df_m5 = pd.read_pickle(f\"../data/candles/GBP_CAD_M5.pkl\")\n",
    "df_m5 = df_m5[(df_m5.time >= start) & (df_m5.time <= end)].reset_index(drop=True)\n",
    "\n",
    "\n",
    "swing_strategy = SwingStrategy(iteration_data={\n",
    "    'peaks': [],\n",
    "    'swings': [],\n",
    "    'curr_swing': {},\n",
    "    'prev_swing': {},\n",
    "    'broken_swings': {},\n",
    "    'trade_swings': []\n",
    "    \n",
    "})\n",
    "simulator_gbp_cad = Simulator(strategy=swing_strategy, df=df_m15, df_smaller=df_m5, delta_in_mins=10)\n",
    "open_trades_gbp_cad, closed_trades_gbp_cad = simulator_gbp_cad.run()"
   ]
  },
  {
   "cell_type": "code",
   "execution_count": null,
   "id": "28d5568a-f761-4318-aad0-a0db1149db37",
   "metadata": {},
   "outputs": [],
   "source": [
    "# AUD_CAD\n",
    "df_m15 = pd.read_pickle(f\"../data/candles/AUD_CAD_M15.pkl\")\n",
    "df_m15 = df_m15[(df_m15.time >= start) & (df_m15.time <= end)].reset_index(drop=True)\n",
    "                                                                          \n",
    "df_m5 = pd.read_pickle(f\"../data/candles/AUD_CAD_M5.pkl\")\n",
    "df_m5 = df_m5[(df_m5.time >= start) & (df_m5.time <= end)].reset_index(drop=True)\n",
    "\n",
    "\n",
    "swing_strategy = SwingStrategy(iteration_data={\n",
    "    'peaks': [],\n",
    "    'swings': [],\n",
    "    'curr_swing': {},\n",
    "    'prev_swing': {},\n",
    "    'broken_swings': {},\n",
    "    'trade_swings': []\n",
    "    \n",
    "})\n",
    "simulator_aud_cad = Simulator(strategy=swing_strategy, df=df_m15, df_smaller=df_m5, delta_in_mins=10)\n",
    "open_trades_aud_cad, closed_trades_aud_cad = simulator_aud_cad.run()"
   ]
  },
  {
   "cell_type": "code",
   "execution_count": null,
   "id": "b4154524-a000-42c5-ab90-130c7e51133e",
   "metadata": {},
   "outputs": [],
   "source": [
    "# EUR_AUD\n",
    "df_m15 = pd.read_pickle(f\"../data/candles/EUR_AUD_M15.pkl\")\n",
    "df_m15 = df_m15[(df_m15.time >= start) & (df_m15.time <= end)].reset_index(drop=True)\n",
    "                                                                          \n",
    "df_m5 = pd.read_pickle(f\"../data/candles/EUR_AUD_M5.pkl\")\n",
    "df_m5 = df_m5[(df_m5.time >= start) & (df_m5.time <= end)].reset_index(drop=True)\n",
    "\n",
    "\n",
    "swing_strategy = SwingStrategy(iteration_data={\n",
    "    'peaks': [],\n",
    "    'swings': [],\n",
    "    'curr_swing': {},\n",
    "    'prev_swing': {},\n",
    "    'broken_swings': {},\n",
    "    'trade_swings': []\n",
    "    \n",
    "})\n",
    "simulator_eur_aud = Simulator(strategy=swing_strategy, df=df_m15, df_smaller=df_m5, delta_in_mins=10)\n",
    "open_trades_eur_aud, closed_trades_eur_aud = simulator_eur_aud.run()"
   ]
  },
  {
   "cell_type": "code",
   "execution_count": null,
   "id": "49e7789b-6dfd-4026-b664-743b9eeed3d0",
   "metadata": {},
   "outputs": [],
   "source": [
    "# EUR_NZD\n",
    "df_m15 = pd.read_pickle(f\"../data/candles/EUR_NZD_M15.pkl\")\n",
    "df_m15 = df_m15[(df_m15.time >= start) & (df_m15.time <= end)].reset_index(drop=True)\n",
    "                                                                          \n",
    "df_m5 = pd.read_pickle(f\"../data/candles/EUR_NZD_M5.pkl\")\n",
    "df_m5 = df_m5[(df_m5.time >= start) & (df_m5.time <= end)].reset_index(drop=True)\n",
    "\n",
    "\n",
    "swing_strategy = SwingStrategy(iteration_data={\n",
    "    'peaks': [],\n",
    "    'swings': [],\n",
    "    'curr_swing': {},\n",
    "    'prev_swing': {},\n",
    "    'broken_swings': {},\n",
    "    'trade_swings': []\n",
    "    \n",
    "})\n",
    "simulator_eur_nzd = Simulator(strategy=swing_strategy, df=df_m15, df_smaller=df_m5, delta_in_mins=10)\n",
    "open_trades_eur_nzd, closed_trades_eur_nzd = simulator_eur_nzd.run()"
   ]
  },
  {
   "cell_type": "code",
   "execution_count": null,
   "id": "88d918ad-b981-495a-955f-8feef2032e3c",
   "metadata": {},
   "outputs": [],
   "source": [
    "# GBP_AUD\n",
    "df_m15 = pd.read_pickle(f\"../data/candles/GBP_AUD_M15.pkl\")\n",
    "df_m15 = df_m15[(df_m15.time >= start) & (df_m15.time <= end)].reset_index(drop=True)\n",
    "                                                                          \n",
    "df_m5 = pd.read_pickle(f\"../data/candles/GBP_AUD_M5.pkl\")\n",
    "df_m5 = df_m5[(df_m5.time >= start) & (df_m5.time <= end)].reset_index(drop=True)\n",
    "\n",
    "\n",
    "swing_strategy = SwingStrategy(iteration_data={\n",
    "    'peaks': [],\n",
    "    'swings': [],\n",
    "    'curr_swing': {},\n",
    "    'prev_swing': {},\n",
    "    'broken_swings': {},\n",
    "    'trade_swings': []\n",
    "    \n",
    "})\n",
    "simulator_gbp_aud = Simulator(strategy=swing_strategy, df=df_m15, df_smaller=df_m5, delta_in_mins=10)\n",
    "open_trades_gbp_aud, closed_trades_gbp_aud = simulator_gbp_aud.run()"
   ]
  },
  {
   "cell_type": "code",
   "execution_count": null,
   "id": "afd4cd27-945e-478b-8df6-3bc01d23bed2",
   "metadata": {},
   "outputs": [],
   "source": [
    "# GBP_NZD\n",
    "df_m15 = pd.read_pickle(f\"../data/candles/GBP_NZD_M15.pkl\")\n",
    "df_m15 = df_m15[(df_m15.time >= start) & (df_m15.time <= end)].reset_index(drop=True)\n",
    "                                                                          \n",
    "df_m5 = pd.read_pickle(f\"../data/candles/GBP_NZD_M5.pkl\")\n",
    "df_m5 = df_m5[(df_m5.time >= start) & (df_m5.time <= end)].reset_index(drop=True)\n",
    "\n",
    "\n",
    "swing_strategy = SwingStrategy(iteration_data={\n",
    "    'peaks': [],\n",
    "    'swings': [],\n",
    "    'curr_swing': {},\n",
    "    'prev_swing': {},\n",
    "    'broken_swings': {},\n",
    "    'trade_swings': []\n",
    "    \n",
    "})\n",
    "simulator_gbp_nzd = Simulator(strategy=swing_strategy, df=df_m15, df_smaller=df_m5, delta_in_mins=10)\n",
    "open_trades_gbp_nzd, closed_trades_gbp_nzd = simulator_gbp_nzd.run()"
   ]
  },
  {
   "cell_type": "code",
   "execution_count": null,
   "id": "58da5148-f9c6-47ff-830b-7411430290ef",
   "metadata": {},
   "outputs": [],
   "source": [
    "# NZD_CAD\n",
    "df_m15 = pd.read_pickle(f\"../data/candles/NZD_CAD_M15.pkl\")\n",
    "df_m15 = df_m15[(df_m15.time >= start) & (df_m15.time <= end)].reset_index(drop=True)\n",
    "                                                                          \n",
    "df_m5 = pd.read_pickle(f\"../data/candles/NZD_CAD_M5.pkl\")\n",
    "df_m5 = df_m5[(df_m5.time >= start) & (df_m5.time <= end)].reset_index(drop=True)\n",
    "\n",
    "\n",
    "swing_strategy = SwingStrategy(iteration_data={\n",
    "    'peaks': [],\n",
    "    'swings': [],\n",
    "    'curr_swing': {},\n",
    "    'prev_swing': {},\n",
    "    'broken_swings': {},\n",
    "    'trade_swings': []\n",
    "    \n",
    "})\n",
    "simulator_nzd_cad = Simulator(strategy=swing_strategy, df=df_m15, df_smaller=df_m5, delta_in_mins=10)\n",
    "open_trades_nzd_cad, closed_trades_nzd_cad = simulator_nzd_cad.run()"
   ]
  },
  {
   "cell_type": "code",
   "execution_count": null,
   "id": "1d8f022a-7b5d-43e8-9ad9-b5cf0870715a",
   "metadata": {},
   "outputs": [],
   "source": [
    "# AUD_NZD\n",
    "df_m15 = pd.read_pickle(f\"../data/candles/AUD_NZD_M15.pkl\")\n",
    "df_m15 = df_m15[(df_m15.time >= start) & (df_m15.time <= end)].reset_index(drop=True)\n",
    "                                                                          \n",
    "df_m5 = pd.read_pickle(f\"../data/candles/AUD_NZD_M5.pkl\")\n",
    "df_m5 = df_m5[(df_m5.time >= start) & (df_m5.time <= end)].reset_index(drop=True)\n",
    "\n",
    "\n",
    "swing_strategy = SwingStrategy(iteration_data={\n",
    "    'peaks': [],\n",
    "    'swings': [],\n",
    "    'curr_swing': {},\n",
    "    'prev_swing': {},\n",
    "    'broken_swings': {},\n",
    "    'trade_swings': []\n",
    "    \n",
    "})\n",
    "simulator_aud_nzd = Simulator(strategy=swing_strategy, df=df_m15, df_smaller=df_m5, delta_in_mins=10)\n",
    "open_trades_aud_nzd, closed_trades_aud_nzd = simulator_aud_nzd.run()"
   ]
  },
  {
   "cell_type": "code",
   "execution_count": null,
   "id": "ea44bada-b176-4d7f-b37f-cd770e972d78",
   "metadata": {},
   "outputs": [],
   "source": []
  }
 ],
 "metadata": {
  "kernelspec": {
   "display_name": "Python 3 (ipykernel)",
   "language": "python",
   "name": "python3"
  },
  "language_info": {
   "codemirror_mode": {
    "name": "ipython",
    "version": 3
   },
   "file_extension": ".py",
   "mimetype": "text/x-python",
   "name": "python",
   "nbconvert_exporter": "python",
   "pygments_lexer": "ipython3",
   "version": "3.10.12"
  }
 },
 "nbformat": 4,
 "nbformat_minor": 5
}
