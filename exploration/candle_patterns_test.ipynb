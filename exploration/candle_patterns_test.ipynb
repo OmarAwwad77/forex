{
 "cells": [
  {
   "cell_type": "code",
   "execution_count": 1,
   "id": "c57a360f",
   "metadata": {},
   "outputs": [
    {
     "name": "stderr",
     "output_type": "stream",
     "text": [
      "/tmp/ipykernel_18161/1410767363.py:4: DeprecationWarning: \n",
      "Pyarrow will become a required dependency of pandas in the next major release of pandas (pandas 3.0),\n",
      "(to allow more performant data types, such as the Arrow string type, and better interoperability with other libraries)\n",
      "but was not found to be installed on your system.\n",
      "If this would cause problems for you,\n",
      "please provide us feedback at https://github.com/pandas-dev/pandas/issues/54466\n",
      "        \n",
      "  import pandas as pd\n"
     ]
    }
   ],
   "source": [
    "import sys\n",
    "sys.path.append(\"../\")\n",
    "from plotting import CandlePlot\n",
    "import pandas as pd"
   ]
  },
  {
   "cell_type": "code",
   "execution_count": 3,
   "id": "41024369",
   "metadata": {},
   "outputs": [],
   "source": [
    "from technical.patterns import apply_patterns"
   ]
  },
  {
   "cell_type": "code",
   "execution_count": 4,
   "id": "8c9f7457",
   "metadata": {},
   "outputs": [],
   "source": [
    "df = pd.read_pickle(\"../data/candles/GBP_JPY_H1.pkl\")"
   ]
  },
  {
   "cell_type": "code",
   "execution_count": 5,
   "id": "b7c9f42d",
   "metadata": {},
   "outputs": [],
   "source": [
    "df_an = df[['time', 'mid_o', 'mid_h', 'mid_l', 'mid_c']].copy()"
   ]
  },
  {
   "cell_type": "code",
   "execution_count": 6,
   "id": "9a60edd2",
   "metadata": {},
   "outputs": [
    {
     "data": {
      "text/html": [
       "<div>\n",
       "<style scoped>\n",
       "    .dataframe tbody tr th:only-of-type {\n",
       "        vertical-align: middle;\n",
       "    }\n",
       "\n",
       "    .dataframe tbody tr th {\n",
       "        vertical-align: top;\n",
       "    }\n",
       "\n",
       "    .dataframe thead th {\n",
       "        text-align: right;\n",
       "    }\n",
       "</style>\n",
       "<table border=\"1\" class=\"dataframe\">\n",
       "  <thead>\n",
       "    <tr style=\"text-align: right;\">\n",
       "      <th></th>\n",
       "      <th>time</th>\n",
       "      <th>mid_o</th>\n",
       "      <th>mid_h</th>\n",
       "      <th>mid_l</th>\n",
       "      <th>mid_c</th>\n",
       "    </tr>\n",
       "  </thead>\n",
       "  <tbody>\n",
       "    <tr>\n",
       "      <th>38246</th>\n",
       "      <td>2024-02-22 19:00:00+00:00</td>\n",
       "      <td>190.610</td>\n",
       "      <td>190.646</td>\n",
       "      <td>190.557</td>\n",
       "      <td>190.586</td>\n",
       "    </tr>\n",
       "    <tr>\n",
       "      <th>38247</th>\n",
       "      <td>2024-02-22 20:00:00+00:00</td>\n",
       "      <td>190.585</td>\n",
       "      <td>190.605</td>\n",
       "      <td>190.511</td>\n",
       "      <td>190.558</td>\n",
       "    </tr>\n",
       "    <tr>\n",
       "      <th>38248</th>\n",
       "      <td>2024-02-22 21:00:00+00:00</td>\n",
       "      <td>190.558</td>\n",
       "      <td>190.618</td>\n",
       "      <td>190.532</td>\n",
       "      <td>190.589</td>\n",
       "    </tr>\n",
       "    <tr>\n",
       "      <th>38249</th>\n",
       "      <td>2024-02-22 22:00:00+00:00</td>\n",
       "      <td>190.564</td>\n",
       "      <td>190.594</td>\n",
       "      <td>190.518</td>\n",
       "      <td>190.536</td>\n",
       "    </tr>\n",
       "    <tr>\n",
       "      <th>38250</th>\n",
       "      <td>2024-02-22 23:00:00+00:00</td>\n",
       "      <td>190.534</td>\n",
       "      <td>190.572</td>\n",
       "      <td>190.508</td>\n",
       "      <td>190.532</td>\n",
       "    </tr>\n",
       "  </tbody>\n",
       "</table>\n",
       "</div>"
      ],
      "text/plain": [
       "                           time    mid_o    mid_h    mid_l    mid_c\n",
       "38246 2024-02-22 19:00:00+00:00  190.610  190.646  190.557  190.586\n",
       "38247 2024-02-22 20:00:00+00:00  190.585  190.605  190.511  190.558\n",
       "38248 2024-02-22 21:00:00+00:00  190.558  190.618  190.532  190.589\n",
       "38249 2024-02-22 22:00:00+00:00  190.564  190.594  190.518  190.536\n",
       "38250 2024-02-22 23:00:00+00:00  190.534  190.572  190.508  190.532"
      ]
     },
     "execution_count": 6,
     "metadata": {},
     "output_type": "execute_result"
    }
   ],
   "source": [
    "df_an.tail()"
   ]
  },
  {
   "cell_type": "code",
   "execution_count": 7,
   "id": "3a57a72b",
   "metadata": {},
   "outputs": [],
   "source": [
    "df_an = apply_patterns(df_an)"
   ]
  },
  {
   "cell_type": "code",
   "execution_count": 8,
   "id": "06fc50f0",
   "metadata": {},
   "outputs": [
    {
     "data": {
      "text/html": [
       "<div>\n",
       "<style scoped>\n",
       "    .dataframe tbody tr th:only-of-type {\n",
       "        vertical-align: middle;\n",
       "    }\n",
       "\n",
       "    .dataframe tbody tr th {\n",
       "        vertical-align: top;\n",
       "    }\n",
       "\n",
       "    .dataframe thead th {\n",
       "        text-align: right;\n",
       "    }\n",
       "</style>\n",
       "<table border=\"1\" class=\"dataframe\">\n",
       "  <thead>\n",
       "    <tr style=\"text-align: right;\">\n",
       "      <th></th>\n",
       "      <th>time</th>\n",
       "      <th>mid_o</th>\n",
       "      <th>mid_h</th>\n",
       "      <th>mid_l</th>\n",
       "      <th>mid_c</th>\n",
       "      <th>body_lower</th>\n",
       "      <th>body_upper</th>\n",
       "      <th>body_bottom_perc</th>\n",
       "      <th>body_top_perc</th>\n",
       "      <th>body_perc</th>\n",
       "      <th>...</th>\n",
       "      <th>body_perc_prev_2</th>\n",
       "      <th>HANGING_MAN</th>\n",
       "      <th>SHOOTING_STAR</th>\n",
       "      <th>SPINNING_TOP</th>\n",
       "      <th>MARUBOZU</th>\n",
       "      <th>ENGULFING</th>\n",
       "      <th>TWEEZER_TOP</th>\n",
       "      <th>TWEEZER_BOTTOM</th>\n",
       "      <th>MORNING_STAR</th>\n",
       "      <th>EVENING_STAR</th>\n",
       "    </tr>\n",
       "  </thead>\n",
       "  <tbody>\n",
       "    <tr>\n",
       "      <th>38246</th>\n",
       "      <td>2024-02-22 19:00:00+00:00</td>\n",
       "      <td>190.610</td>\n",
       "      <td>190.646</td>\n",
       "      <td>190.557</td>\n",
       "      <td>190.586</td>\n",
       "      <td>190.586</td>\n",
       "      <td>190.610</td>\n",
       "      <td>32.584270</td>\n",
       "      <td>59.550562</td>\n",
       "      <td>26.966292</td>\n",
       "      <td>...</td>\n",
       "      <td>59.437751</td>\n",
       "      <td>False</td>\n",
       "      <td>False</td>\n",
       "      <td>False</td>\n",
       "      <td>False</td>\n",
       "      <td>False</td>\n",
       "      <td>False</td>\n",
       "      <td>False</td>\n",
       "      <td>False</td>\n",
       "      <td>False</td>\n",
       "    </tr>\n",
       "    <tr>\n",
       "      <th>38247</th>\n",
       "      <td>2024-02-22 20:00:00+00:00</td>\n",
       "      <td>190.585</td>\n",
       "      <td>190.605</td>\n",
       "      <td>190.511</td>\n",
       "      <td>190.558</td>\n",
       "      <td>190.558</td>\n",
       "      <td>190.585</td>\n",
       "      <td>50.000000</td>\n",
       "      <td>78.723404</td>\n",
       "      <td>28.723404</td>\n",
       "      <td>...</td>\n",
       "      <td>4.166667</td>\n",
       "      <td>False</td>\n",
       "      <td>False</td>\n",
       "      <td>False</td>\n",
       "      <td>False</td>\n",
       "      <td>False</td>\n",
       "      <td>False</td>\n",
       "      <td>False</td>\n",
       "      <td>False</td>\n",
       "      <td>False</td>\n",
       "    </tr>\n",
       "    <tr>\n",
       "      <th>38248</th>\n",
       "      <td>2024-02-22 21:00:00+00:00</td>\n",
       "      <td>190.558</td>\n",
       "      <td>190.618</td>\n",
       "      <td>190.532</td>\n",
       "      <td>190.589</td>\n",
       "      <td>190.558</td>\n",
       "      <td>190.589</td>\n",
       "      <td>30.232558</td>\n",
       "      <td>66.279070</td>\n",
       "      <td>36.046512</td>\n",
       "      <td>...</td>\n",
       "      <td>26.966292</td>\n",
       "      <td>False</td>\n",
       "      <td>False</td>\n",
       "      <td>False</td>\n",
       "      <td>False</td>\n",
       "      <td>True</td>\n",
       "      <td>False</td>\n",
       "      <td>False</td>\n",
       "      <td>False</td>\n",
       "      <td>False</td>\n",
       "    </tr>\n",
       "    <tr>\n",
       "      <th>38249</th>\n",
       "      <td>2024-02-22 22:00:00+00:00</td>\n",
       "      <td>190.564</td>\n",
       "      <td>190.594</td>\n",
       "      <td>190.518</td>\n",
       "      <td>190.536</td>\n",
       "      <td>190.536</td>\n",
       "      <td>190.564</td>\n",
       "      <td>23.684211</td>\n",
       "      <td>60.526316</td>\n",
       "      <td>36.842105</td>\n",
       "      <td>...</td>\n",
       "      <td>28.723404</td>\n",
       "      <td>False</td>\n",
       "      <td>False</td>\n",
       "      <td>False</td>\n",
       "      <td>False</td>\n",
       "      <td>False</td>\n",
       "      <td>False</td>\n",
       "      <td>False</td>\n",
       "      <td>False</td>\n",
       "      <td>False</td>\n",
       "    </tr>\n",
       "    <tr>\n",
       "      <th>38250</th>\n",
       "      <td>2024-02-22 23:00:00+00:00</td>\n",
       "      <td>190.534</td>\n",
       "      <td>190.572</td>\n",
       "      <td>190.508</td>\n",
       "      <td>190.532</td>\n",
       "      <td>190.532</td>\n",
       "      <td>190.534</td>\n",
       "      <td>37.500000</td>\n",
       "      <td>40.625000</td>\n",
       "      <td>3.125000</td>\n",
       "      <td>...</td>\n",
       "      <td>36.046512</td>\n",
       "      <td>False</td>\n",
       "      <td>False</td>\n",
       "      <td>False</td>\n",
       "      <td>False</td>\n",
       "      <td>False</td>\n",
       "      <td>False</td>\n",
       "      <td>False</td>\n",
       "      <td>False</td>\n",
       "      <td>False</td>\n",
       "    </tr>\n",
       "  </tbody>\n",
       "</table>\n",
       "<p>5 rows × 31 columns</p>\n",
       "</div>"
      ],
      "text/plain": [
       "                           time    mid_o    mid_h    mid_l    mid_c  \\\n",
       "38246 2024-02-22 19:00:00+00:00  190.610  190.646  190.557  190.586   \n",
       "38247 2024-02-22 20:00:00+00:00  190.585  190.605  190.511  190.558   \n",
       "38248 2024-02-22 21:00:00+00:00  190.558  190.618  190.532  190.589   \n",
       "38249 2024-02-22 22:00:00+00:00  190.564  190.594  190.518  190.536   \n",
       "38250 2024-02-22 23:00:00+00:00  190.534  190.572  190.508  190.532   \n",
       "\n",
       "       body_lower  body_upper  body_bottom_perc  body_top_perc  body_perc  \\\n",
       "38246     190.586     190.610         32.584270      59.550562  26.966292   \n",
       "38247     190.558     190.585         50.000000      78.723404  28.723404   \n",
       "38248     190.558     190.589         30.232558      66.279070  36.046512   \n",
       "38249     190.536     190.564         23.684211      60.526316  36.842105   \n",
       "38250     190.532     190.534         37.500000      40.625000   3.125000   \n",
       "\n",
       "       ...  body_perc_prev_2  HANGING_MAN  SHOOTING_STAR  SPINNING_TOP  \\\n",
       "38246  ...         59.437751        False          False         False   \n",
       "38247  ...          4.166667        False          False         False   \n",
       "38248  ...         26.966292        False          False         False   \n",
       "38249  ...         28.723404        False          False         False   \n",
       "38250  ...         36.046512        False          False         False   \n",
       "\n",
       "       MARUBOZU  ENGULFING  TWEEZER_TOP  TWEEZER_BOTTOM  MORNING_STAR  \\\n",
       "38246     False      False        False           False         False   \n",
       "38247     False      False        False           False         False   \n",
       "38248     False       True        False           False         False   \n",
       "38249     False      False        False           False         False   \n",
       "38250     False      False        False           False         False   \n",
       "\n",
       "       EVENING_STAR  \n",
       "38246         False  \n",
       "38247         False  \n",
       "38248         False  \n",
       "38249         False  \n",
       "38250         False  \n",
       "\n",
       "[5 rows x 31 columns]"
      ]
     },
     "execution_count": 8,
     "metadata": {},
     "output_type": "execute_result"
    }
   ],
   "source": [
    "df_an.tail()"
   ]
  },
  {
   "cell_type": "code",
   "execution_count": 9,
   "id": "29d539d6",
   "metadata": {},
   "outputs": [],
   "source": [
    "import plotly.graph_objects as go"
   ]
  },
  {
   "cell_type": "code",
   "execution_count": 10,
   "id": "fc7b9b79",
   "metadata": {},
   "outputs": [
    {
     "data": {
      "text/html": [
       "<div>\n",
       "<style scoped>\n",
       "    .dataframe tbody tr th:only-of-type {\n",
       "        vertical-align: middle;\n",
       "    }\n",
       "\n",
       "    .dataframe tbody tr th {\n",
       "        vertical-align: top;\n",
       "    }\n",
       "\n",
       "    .dataframe thead th {\n",
       "        text-align: right;\n",
       "    }\n",
       "</style>\n",
       "<table border=\"1\" class=\"dataframe\">\n",
       "  <thead>\n",
       "    <tr style=\"text-align: right;\">\n",
       "      <th></th>\n",
       "      <th>time</th>\n",
       "      <th>mid_o</th>\n",
       "      <th>mid_h</th>\n",
       "      <th>mid_l</th>\n",
       "      <th>mid_c</th>\n",
       "      <th>body_lower</th>\n",
       "      <th>body_upper</th>\n",
       "      <th>body_bottom_perc</th>\n",
       "      <th>body_top_perc</th>\n",
       "      <th>body_perc</th>\n",
       "      <th>...</th>\n",
       "      <th>body_perc_prev_2</th>\n",
       "      <th>HANGING_MAN</th>\n",
       "      <th>SHOOTING_STAR</th>\n",
       "      <th>SPINNING_TOP</th>\n",
       "      <th>MARUBOZU</th>\n",
       "      <th>ENGULFING</th>\n",
       "      <th>TWEEZER_TOP</th>\n",
       "      <th>TWEEZER_BOTTOM</th>\n",
       "      <th>MORNING_STAR</th>\n",
       "      <th>EVENING_STAR</th>\n",
       "    </tr>\n",
       "  </thead>\n",
       "  <tbody>\n",
       "    <tr>\n",
       "      <th>3</th>\n",
       "      <td>2018-01-02 03:00:00+00:00</td>\n",
       "      <td>152.309</td>\n",
       "      <td>152.394</td>\n",
       "      <td>152.306</td>\n",
       "      <td>152.350</td>\n",
       "      <td>152.309</td>\n",
       "      <td>152.350</td>\n",
       "      <td>3.409091</td>\n",
       "      <td>50.000000</td>\n",
       "      <td>46.590909</td>\n",
       "      <td>...</td>\n",
       "      <td>7.766990</td>\n",
       "      <td>False</td>\n",
       "      <td>False</td>\n",
       "      <td>False</td>\n",
       "      <td>False</td>\n",
       "      <td>True</td>\n",
       "      <td>False</td>\n",
       "      <td>False</td>\n",
       "      <td>False</td>\n",
       "      <td>False</td>\n",
       "    </tr>\n",
       "    <tr>\n",
       "      <th>5</th>\n",
       "      <td>2018-01-02 05:00:00+00:00</td>\n",
       "      <td>152.322</td>\n",
       "      <td>152.396</td>\n",
       "      <td>152.314</td>\n",
       "      <td>152.388</td>\n",
       "      <td>152.322</td>\n",
       "      <td>152.388</td>\n",
       "      <td>9.756098</td>\n",
       "      <td>90.243902</td>\n",
       "      <td>80.487805</td>\n",
       "      <td>...</td>\n",
       "      <td>46.590909</td>\n",
       "      <td>False</td>\n",
       "      <td>False</td>\n",
       "      <td>False</td>\n",
       "      <td>False</td>\n",
       "      <td>True</td>\n",
       "      <td>False</td>\n",
       "      <td>False</td>\n",
       "      <td>False</td>\n",
       "      <td>False</td>\n",
       "    </tr>\n",
       "    <tr>\n",
       "      <th>7</th>\n",
       "      <td>2018-01-02 07:00:00+00:00</td>\n",
       "      <td>152.352</td>\n",
       "      <td>152.478</td>\n",
       "      <td>152.322</td>\n",
       "      <td>152.446</td>\n",
       "      <td>152.352</td>\n",
       "      <td>152.446</td>\n",
       "      <td>19.230769</td>\n",
       "      <td>79.487179</td>\n",
       "      <td>60.256410</td>\n",
       "      <td>...</td>\n",
       "      <td>80.487805</td>\n",
       "      <td>False</td>\n",
       "      <td>False</td>\n",
       "      <td>False</td>\n",
       "      <td>False</td>\n",
       "      <td>True</td>\n",
       "      <td>False</td>\n",
       "      <td>False</td>\n",
       "      <td>False</td>\n",
       "      <td>False</td>\n",
       "    </tr>\n",
       "    <tr>\n",
       "      <th>8</th>\n",
       "      <td>2018-01-02 08:00:00+00:00</td>\n",
       "      <td>152.444</td>\n",
       "      <td>152.533</td>\n",
       "      <td>152.254</td>\n",
       "      <td>152.326</td>\n",
       "      <td>152.326</td>\n",
       "      <td>152.444</td>\n",
       "      <td>25.806452</td>\n",
       "      <td>68.100358</td>\n",
       "      <td>42.293907</td>\n",
       "      <td>...</td>\n",
       "      <td>44.578313</td>\n",
       "      <td>False</td>\n",
       "      <td>False</td>\n",
       "      <td>False</td>\n",
       "      <td>False</td>\n",
       "      <td>True</td>\n",
       "      <td>False</td>\n",
       "      <td>False</td>\n",
       "      <td>False</td>\n",
       "      <td>False</td>\n",
       "    </tr>\n",
       "    <tr>\n",
       "      <th>13</th>\n",
       "      <td>2018-01-02 13:00:00+00:00</td>\n",
       "      <td>152.122</td>\n",
       "      <td>152.182</td>\n",
       "      <td>152.002</td>\n",
       "      <td>152.020</td>\n",
       "      <td>152.020</td>\n",
       "      <td>152.122</td>\n",
       "      <td>10.000000</td>\n",
       "      <td>66.666667</td>\n",
       "      <td>56.666667</td>\n",
       "      <td>...</td>\n",
       "      <td>29.629630</td>\n",
       "      <td>False</td>\n",
       "      <td>False</td>\n",
       "      <td>False</td>\n",
       "      <td>False</td>\n",
       "      <td>True</td>\n",
       "      <td>False</td>\n",
       "      <td>False</td>\n",
       "      <td>False</td>\n",
       "      <td>False</td>\n",
       "    </tr>\n",
       "    <tr>\n",
       "      <th>...</th>\n",
       "      <td>...</td>\n",
       "      <td>...</td>\n",
       "      <td>...</td>\n",
       "      <td>...</td>\n",
       "      <td>...</td>\n",
       "      <td>...</td>\n",
       "      <td>...</td>\n",
       "      <td>...</td>\n",
       "      <td>...</td>\n",
       "      <td>...</td>\n",
       "      <td>...</td>\n",
       "      <td>...</td>\n",
       "      <td>...</td>\n",
       "      <td>...</td>\n",
       "      <td>...</td>\n",
       "      <td>...</td>\n",
       "      <td>...</td>\n",
       "      <td>...</td>\n",
       "      <td>...</td>\n",
       "      <td>...</td>\n",
       "      <td>...</td>\n",
       "    </tr>\n",
       "    <tr>\n",
       "      <th>38221</th>\n",
       "      <td>2024-02-21 18:00:00+00:00</td>\n",
       "      <td>189.629</td>\n",
       "      <td>189.799</td>\n",
       "      <td>189.566</td>\n",
       "      <td>189.732</td>\n",
       "      <td>189.629</td>\n",
       "      <td>189.732</td>\n",
       "      <td>27.038627</td>\n",
       "      <td>71.244635</td>\n",
       "      <td>44.206009</td>\n",
       "      <td>...</td>\n",
       "      <td>59.021407</td>\n",
       "      <td>False</td>\n",
       "      <td>False</td>\n",
       "      <td>False</td>\n",
       "      <td>False</td>\n",
       "      <td>True</td>\n",
       "      <td>False</td>\n",
       "      <td>False</td>\n",
       "      <td>False</td>\n",
       "      <td>False</td>\n",
       "    </tr>\n",
       "    <tr>\n",
       "      <th>38234</th>\n",
       "      <td>2024-02-22 07:00:00+00:00</td>\n",
       "      <td>190.022</td>\n",
       "      <td>190.312</td>\n",
       "      <td>190.006</td>\n",
       "      <td>190.284</td>\n",
       "      <td>190.022</td>\n",
       "      <td>190.284</td>\n",
       "      <td>5.228758</td>\n",
       "      <td>90.849673</td>\n",
       "      <td>85.620915</td>\n",
       "      <td>...</td>\n",
       "      <td>56.198347</td>\n",
       "      <td>False</td>\n",
       "      <td>False</td>\n",
       "      <td>False</td>\n",
       "      <td>False</td>\n",
       "      <td>True</td>\n",
       "      <td>False</td>\n",
       "      <td>False</td>\n",
       "      <td>False</td>\n",
       "      <td>False</td>\n",
       "    </tr>\n",
       "    <tr>\n",
       "      <th>38240</th>\n",
       "      <td>2024-02-22 13:00:00+00:00</td>\n",
       "      <td>190.556</td>\n",
       "      <td>190.570</td>\n",
       "      <td>190.118</td>\n",
       "      <td>190.142</td>\n",
       "      <td>190.142</td>\n",
       "      <td>190.556</td>\n",
       "      <td>5.309735</td>\n",
       "      <td>96.902655</td>\n",
       "      <td>91.592920</td>\n",
       "      <td>...</td>\n",
       "      <td>39.461883</td>\n",
       "      <td>False</td>\n",
       "      <td>False</td>\n",
       "      <td>False</td>\n",
       "      <td>False</td>\n",
       "      <td>True</td>\n",
       "      <td>False</td>\n",
       "      <td>False</td>\n",
       "      <td>False</td>\n",
       "      <td>False</td>\n",
       "    </tr>\n",
       "    <tr>\n",
       "      <th>38243</th>\n",
       "      <td>2024-02-22 16:00:00+00:00</td>\n",
       "      <td>189.957</td>\n",
       "      <td>190.520</td>\n",
       "      <td>189.954</td>\n",
       "      <td>190.472</td>\n",
       "      <td>189.957</td>\n",
       "      <td>190.472</td>\n",
       "      <td>0.530035</td>\n",
       "      <td>91.519435</td>\n",
       "      <td>90.989399</td>\n",
       "      <td>...</td>\n",
       "      <td>50.000000</td>\n",
       "      <td>False</td>\n",
       "      <td>False</td>\n",
       "      <td>False</td>\n",
       "      <td>False</td>\n",
       "      <td>True</td>\n",
       "      <td>False</td>\n",
       "      <td>False</td>\n",
       "      <td>False</td>\n",
       "      <td>False</td>\n",
       "    </tr>\n",
       "    <tr>\n",
       "      <th>38248</th>\n",
       "      <td>2024-02-22 21:00:00+00:00</td>\n",
       "      <td>190.558</td>\n",
       "      <td>190.618</td>\n",
       "      <td>190.532</td>\n",
       "      <td>190.589</td>\n",
       "      <td>190.558</td>\n",
       "      <td>190.589</td>\n",
       "      <td>30.232558</td>\n",
       "      <td>66.279070</td>\n",
       "      <td>36.046512</td>\n",
       "      <td>...</td>\n",
       "      <td>26.966292</td>\n",
       "      <td>False</td>\n",
       "      <td>False</td>\n",
       "      <td>False</td>\n",
       "      <td>False</td>\n",
       "      <td>True</td>\n",
       "      <td>False</td>\n",
       "      <td>False</td>\n",
       "      <td>False</td>\n",
       "      <td>False</td>\n",
       "    </tr>\n",
       "  </tbody>\n",
       "</table>\n",
       "<p>8948 rows × 31 columns</p>\n",
       "</div>"
      ],
      "text/plain": [
       "                           time    mid_o    mid_h    mid_l    mid_c  \\\n",
       "3     2018-01-02 03:00:00+00:00  152.309  152.394  152.306  152.350   \n",
       "5     2018-01-02 05:00:00+00:00  152.322  152.396  152.314  152.388   \n",
       "7     2018-01-02 07:00:00+00:00  152.352  152.478  152.322  152.446   \n",
       "8     2018-01-02 08:00:00+00:00  152.444  152.533  152.254  152.326   \n",
       "13    2018-01-02 13:00:00+00:00  152.122  152.182  152.002  152.020   \n",
       "...                         ...      ...      ...      ...      ...   \n",
       "38221 2024-02-21 18:00:00+00:00  189.629  189.799  189.566  189.732   \n",
       "38234 2024-02-22 07:00:00+00:00  190.022  190.312  190.006  190.284   \n",
       "38240 2024-02-22 13:00:00+00:00  190.556  190.570  190.118  190.142   \n",
       "38243 2024-02-22 16:00:00+00:00  189.957  190.520  189.954  190.472   \n",
       "38248 2024-02-22 21:00:00+00:00  190.558  190.618  190.532  190.589   \n",
       "\n",
       "       body_lower  body_upper  body_bottom_perc  body_top_perc  body_perc  \\\n",
       "3         152.309     152.350          3.409091      50.000000  46.590909   \n",
       "5         152.322     152.388          9.756098      90.243902  80.487805   \n",
       "7         152.352     152.446         19.230769      79.487179  60.256410   \n",
       "8         152.326     152.444         25.806452      68.100358  42.293907   \n",
       "13        152.020     152.122         10.000000      66.666667  56.666667   \n",
       "...           ...         ...               ...            ...        ...   \n",
       "38221     189.629     189.732         27.038627      71.244635  44.206009   \n",
       "38234     190.022     190.284          5.228758      90.849673  85.620915   \n",
       "38240     190.142     190.556          5.309735      96.902655  91.592920   \n",
       "38243     189.957     190.472          0.530035      91.519435  90.989399   \n",
       "38248     190.558     190.589         30.232558      66.279070  36.046512   \n",
       "\n",
       "       ...  body_perc_prev_2  HANGING_MAN  SHOOTING_STAR  SPINNING_TOP  \\\n",
       "3      ...          7.766990        False          False         False   \n",
       "5      ...         46.590909        False          False         False   \n",
       "7      ...         80.487805        False          False         False   \n",
       "8      ...         44.578313        False          False         False   \n",
       "13     ...         29.629630        False          False         False   \n",
       "...    ...               ...          ...            ...           ...   \n",
       "38221  ...         59.021407        False          False         False   \n",
       "38234  ...         56.198347        False          False         False   \n",
       "38240  ...         39.461883        False          False         False   \n",
       "38243  ...         50.000000        False          False         False   \n",
       "38248  ...         26.966292        False          False         False   \n",
       "\n",
       "       MARUBOZU  ENGULFING  TWEEZER_TOP  TWEEZER_BOTTOM  MORNING_STAR  \\\n",
       "3         False       True        False           False         False   \n",
       "5         False       True        False           False         False   \n",
       "7         False       True        False           False         False   \n",
       "8         False       True        False           False         False   \n",
       "13        False       True        False           False         False   \n",
       "...         ...        ...          ...             ...           ...   \n",
       "38221     False       True        False           False         False   \n",
       "38234     False       True        False           False         False   \n",
       "38240     False       True        False           False         False   \n",
       "38243     False       True        False           False         False   \n",
       "38248     False       True        False           False         False   \n",
       "\n",
       "       EVENING_STAR  \n",
       "3             False  \n",
       "5             False  \n",
       "7             False  \n",
       "8             False  \n",
       "13            False  \n",
       "...             ...  \n",
       "38221         False  \n",
       "38234         False  \n",
       "38240         False  \n",
       "38243         False  \n",
       "38248         False  \n",
       "\n",
       "[8948 rows x 31 columns]"
      ]
     },
     "execution_count": 10,
     "metadata": {},
     "output_type": "execute_result"
    }
   ],
   "source": [
    "df_an[df_an.ENGULFING==True]"
   ]
  },
  {
   "cell_type": "code",
   "execution_count": 12,
   "id": "1423fcd9",
   "metadata": {},
   "outputs": [
    {
     "data": {
      "application/vnd.plotly.v1+json": {
       "config": {
        "plotlyServerURL": "https://plot.ly"
       },
       "data": [
        {
         "close": [
          152.44,
          151.622,
          151.672,
          151.608,
          151.498,
          152.068,
          152.196,
          152.204,
          152.8,
          152.541,
          152.452,
          151.868,
          151.54,
          151.688,
          151.87,
          152.01,
          152.317,
          152.634,
          152.5,
          152.6,
          152.816,
          152.852,
          153.122,
          153.018,
          152.75,
          152.848,
          152.551,
          152.678,
          152.618,
          152.424,
          152.508,
          152.164,
          152.07,
          151.874,
          151.39,
          151.662,
          151.961,
          151.893,
          152.226,
          151.69,
          152.03,
          152.024,
          151.626,
          151.86,
          152.109,
          151.776,
          151.724,
          151.505,
          151.767,
          151.824,
          151.942,
          151.868,
          152.066,
          152.484,
          152.49,
          152.05,
          151.85,
          152.118,
          152.317,
          152.244,
          153.37,
          153.82,
          153.654,
          152.998,
          151.829,
          151.082,
          151.813,
          151.556,
          151.112,
          151.294,
          151.411,
          151.294,
          151.578,
          151.62,
          151.68,
          151.914,
          151.74,
          151.974,
          152.202,
          152.584,
          152.558,
          151.791,
          151.688,
          150.904,
          150.312,
          150.822,
          150.454,
          150.034,
          149.581,
          149.474,
          149.498,
          149.915,
          150.38,
          150.467,
          150.519,
          150.412,
          150.216,
          150.284,
          150.492,
          150.69,
          150.662,
          150.683,
          150.608,
          150.228,
          150.508,
          150.538,
          150.696,
          150.524,
          150.306,
          150.008,
          150.108,
          149.892,
          150.244,
          150.176,
          150.358,
          150.26,
          150.266,
          150.344,
          150.441,
          150.57,
          150.376,
          150.478,
          150.423,
          150.292,
          150.074,
          150.018,
          149.86,
          149.316,
          149.164,
          149.474,
          149.762,
          149.657,
          149.582,
          149.214,
          149.613,
          149.173,
          149.476,
          149.316,
          149.369,
          149.461,
          149.706,
          149.792,
          149.746,
          149.629,
          149.666,
          149.516,
          149.204,
          148.744,
          148.826,
          148.962,
          148.996,
          149.246,
          149.244,
          149.088,
          148.996,
          148.71,
          148.68,
          148.349,
          148.564,
          149.134,
          149.326,
          149.635,
          149.615,
          149.767,
          149.895,
          149.806,
          149.82,
          149.336,
          149.503,
          149.42,
          149.158,
          149.356,
          149.362,
          149.34,
          149.2,
          149.478,
          149.446,
          149.628,
          149.848,
          149.868,
          149.96,
          149.964,
          149.89,
          149.365,
          149.554,
          149.846,
          149.758,
          149.749,
          149.586,
          149.618,
          149.624,
          149.66,
          149.82,
          149.763,
          149.794,
          149.79,
          149.445,
          149.509,
          149.474,
          149.674
         ],
         "decreasing": {
          "fillcolor": "#CC2E3C",
          "line": {
           "color": "#FF3A4C"
          }
         },
         "high": [
          152.624,
          152.53,
          151.776,
          151.898,
          151.696,
          152.224,
          152.345,
          152.574,
          152.846,
          152.874,
          152.558,
          152.464,
          151.99,
          151.92,
          152.142,
          152.062,
          152.512,
          152.843,
          152.723,
          152.692,
          152.9,
          152.916,
          153.136,
          153.127,
          153.058,
          152.884,
          152.984,
          152.756,
          152.697,
          152.62,
          152.531,
          152.774,
          152.189,
          152.093,
          151.886,
          151.866,
          152.11,
          152.16,
          152.238,
          152.228,
          152.168,
          152.082,
          152.055,
          152.052,
          152.283,
          152.172,
          151.804,
          151.766,
          151.927,
          151.923,
          152.018,
          152.014,
          152.08,
          152.531,
          152.622,
          152.61,
          152.166,
          152.129,
          152.379,
          152.534,
          153.679,
          153.913,
          154.048,
          153.71,
          153.048,
          151.848,
          151.86,
          152.01,
          151.704,
          151.444,
          151.571,
          151.436,
          151.668,
          152.086,
          151.802,
          152.105,
          152.002,
          152.028,
          152.348,
          152.686,
          152.757,
          152.574,
          151.896,
          151.694,
          150.914,
          151.082,
          150.87,
          150.499,
          150.271,
          149.674,
          149.694,
          150.194,
          150.535,
          150.514,
          150.519,
          150.526,
          150.446,
          150.434,
          150.528,
          150.704,
          150.783,
          150.756,
          150.706,
          150.612,
          150.826,
          150.802,
          150.73,
          150.828,
          150.614,
          150.417,
          150.324,
          150.196,
          150.256,
          150.434,
          150.414,
          150.437,
          150.418,
          150.37,
          150.472,
          150.626,
          150.568,
          150.542,
          150.536,
          150.538,
          150.366,
          150.073,
          150.066,
          149.862,
          149.374,
          149.668,
          149.772,
          149.766,
          149.682,
          149.638,
          149.656,
          149.718,
          149.52,
          149.535,
          149.582,
          149.533,
          149.73,
          149.823,
          149.779,
          149.761,
          149.887,
          149.689,
          149.608,
          149.201,
          148.915,
          149.127,
          149.126,
          149.384,
          149.312,
          149.304,
          149.15,
          149.026,
          148.881,
          149.18,
          148.682,
          149.316,
          149.6,
          149.694,
          149.747,
          149.883,
          150.034,
          149.916,
          149.9,
          149.824,
          149.617,
          149.8,
          149.488,
          149.408,
          149.413,
          149.389,
          149.337,
          149.488,
          149.635,
          149.718,
          149.952,
          149.893,
          150.18,
          150.19,
          150.042,
          149.934,
          149.686,
          149.947,
          149.983,
          149.843,
          149.836,
          149.683,
          149.688,
          149.746,
          149.914,
          149.966,
          149.868,
          149.942,
          149.788,
          149.607,
          149.576,
          149.707
         ],
         "increasing": {
          "fillcolor": "#24A06B",
          "line": {
           "color": "#2EC886"
          }
         },
         "line": {
          "width": 1
         },
         "low": [
          151.934,
          151.448,
          151.421,
          151.568,
          151.212,
          151.456,
          151.868,
          151.994,
          152.142,
          152.344,
          152.124,
          151.7,
          151.52,
          151.354,
          151.515,
          151.31,
          151.86,
          152.3,
          152.381,
          152.304,
          152.585,
          152.762,
          152.685,
          152.906,
          152.606,
          152.638,
          152.534,
          152.528,
          152.578,
          152.395,
          152.266,
          152.138,
          151.69,
          151.76,
          151.362,
          151.332,
          151.558,
          151.77,
          151.65,
          151.626,
          151.648,
          151.696,
          151.346,
          151.49,
          151.848,
          151.656,
          151.592,
          151.474,
          151.444,
          151.714,
          151.76,
          151.847,
          151.815,
          152.03,
          152.388,
          152.008,
          151.841,
          151.796,
          151.926,
          152.202,
          152.19,
          153.337,
          153.469,
          152.856,
          151.601,
          150.834,
          150.842,
          151.536,
          151.082,
          151.08,
          151.269,
          151.192,
          151.244,
          151.51,
          151.415,
          151.671,
          151.704,
          151.618,
          151.884,
          152.08,
          152.325,
          151.702,
          151.58,
          150.735,
          149.988,
          150.282,
          150.212,
          149.822,
          149.486,
          148.948,
          148.926,
          149.494,
          149.712,
          150.342,
          150.298,
          150.226,
          150.01,
          150.184,
          150.262,
          150.438,
          150.642,
          150.57,
          150.492,
          150.188,
          150.022,
          150.458,
          150.308,
          150.484,
          150.236,
          149.992,
          149.876,
          149.67,
          149.804,
          150.09,
          150.099,
          150.224,
          150.146,
          150.214,
          150.295,
          150.434,
          150.337,
          150.301,
          150.338,
          150.276,
          149.981,
          149.902,
          149.814,
          149.282,
          148.982,
          149.155,
          149.447,
          149.52,
          149.396,
          149.166,
          149.216,
          149.173,
          149.114,
          149.217,
          149.301,
          149.352,
          149.443,
          149.704,
          149.668,
          149.596,
          149.624,
          149.472,
          149.082,
          148.721,
          148.64,
          148.824,
          148.934,
          148.967,
          148.878,
          148.926,
          148.924,
          148.698,
          148.624,
          147.972,
          148.151,
          148.552,
          149.01,
          149.306,
          149.522,
          149.588,
          149.75,
          149.758,
          149.704,
          149.138,
          149.284,
          149.28,
          148.938,
          149.122,
          149.104,
          149.22,
          149.02,
          149.074,
          149.351,
          149.282,
          149.575,
          149.742,
          149.847,
          149.883,
          149.486,
          149.272,
          149.26,
          149.476,
          149.676,
          149.688,
          149.5,
          149.418,
          149.54,
          149.496,
          149.578,
          149.678,
          149.63,
          149.786,
          149.2,
          149.426,
          149.338,
          149.44
         ],
         "opacity": 1,
         "open": [
          152.065,
          152.442,
          151.62,
          151.67,
          151.61,
          151.496,
          152.071,
          152.194,
          152.202,
          152.802,
          152.543,
          152.45,
          151.866,
          151.542,
          151.69,
          151.872,
          152.012,
          152.315,
          152.632,
          152.498,
          152.602,
          152.818,
          152.798,
          153.118,
          153.022,
          152.752,
          152.85,
          152.549,
          152.68,
          152.62,
          152.422,
          152.506,
          152.162,
          152.068,
          151.876,
          151.393,
          151.659,
          151.959,
          151.891,
          152.224,
          151.692,
          152.028,
          152.026,
          151.629,
          151.858,
          152.106,
          151.751,
          151.72,
          151.507,
          151.769,
          151.821,
          151.94,
          151.866,
          152.068,
          152.482,
          152.488,
          152.048,
          151.853,
          152.12,
          152.315,
          152.239,
          153.372,
          153.818,
          153.656,
          152.996,
          151.831,
          151.08,
          151.811,
          151.558,
          151.11,
          151.286,
          151.414,
          151.298,
          151.574,
          151.618,
          151.682,
          151.912,
          151.742,
          151.978,
          152.204,
          152.587,
          152.56,
          151.793,
          151.69,
          150.902,
          150.31,
          150.82,
          150.452,
          150.036,
          149.579,
          149.472,
          149.496,
          149.912,
          150.378,
          150.401,
          150.515,
          150.414,
          150.214,
          150.282,
          150.49,
          150.688,
          150.659,
          150.681,
          150.605,
          150.225,
          150.51,
          150.54,
          150.698,
          150.522,
          150.308,
          150.01,
          150.11,
          149.894,
          150.241,
          150.178,
          150.36,
          150.258,
          150.264,
          150.333,
          150.438,
          150.568,
          150.374,
          150.48,
          150.425,
          150.29,
          150.071,
          150.02,
          149.862,
          149.319,
          149.166,
          149.471,
          149.76,
          149.659,
          149.584,
          149.216,
          149.611,
          149.176,
          149.474,
          149.314,
          149.367,
          149.459,
          149.704,
          149.739,
          149.742,
          149.626,
          149.664,
          149.514,
          149.201,
          148.741,
          148.828,
          148.964,
          148.994,
          149.244,
          149.246,
          149.09,
          148.994,
          148.712,
          148.682,
          148.346,
          148.566,
          149.131,
          149.329,
          149.632,
          149.613,
          149.769,
          149.893,
          149.74,
          149.824,
          149.334,
          149.5,
          149.418,
          149.156,
          149.358,
          149.359,
          149.337,
          149.198,
          149.48,
          149.444,
          149.626,
          149.846,
          149.866,
          149.962,
          149.962,
          149.888,
          149.363,
          149.551,
          149.844,
          149.756,
          149.752,
          149.583,
          149.612,
          149.621,
          149.658,
          149.818,
          149.76,
          149.796,
          149.788,
          149.443,
          149.506,
          149.476
         ],
         "type": "candlestick",
         "x": [
          "s18-02-06 00:00",
          "s18-02-06 01:00",
          "s18-02-06 02:00",
          "s18-02-06 03:00",
          "s18-02-06 04:00",
          "s18-02-06 05:00",
          "s18-02-06 06:00",
          "s18-02-06 07:00",
          "s18-02-06 08:00",
          "s18-02-06 09:00",
          "s18-02-06 10:00",
          "s18-02-06 11:00",
          "s18-02-06 12:00",
          "s18-02-06 13:00",
          "s18-02-06 14:00",
          "s18-02-06 15:00",
          "s18-02-06 16:00",
          "s18-02-06 17:00",
          "s18-02-06 18:00",
          "s18-02-06 19:00",
          "s18-02-06 20:00",
          "s18-02-06 21:00",
          "s18-02-06 22:00",
          "s18-02-06 23:00",
          "s18-02-07 00:00",
          "s18-02-07 01:00",
          "s18-02-07 02:00",
          "s18-02-07 03:00",
          "s18-02-07 04:00",
          "s18-02-07 05:00",
          "s18-02-07 06:00",
          "s18-02-07 07:00",
          "s18-02-07 08:00",
          "s18-02-07 09:00",
          "s18-02-07 10:00",
          "s18-02-07 11:00",
          "s18-02-07 12:00",
          "s18-02-07 13:00",
          "s18-02-07 14:00",
          "s18-02-07 15:00",
          "s18-02-07 16:00",
          "s18-02-07 17:00",
          "s18-02-07 18:00",
          "s18-02-07 19:00",
          "s18-02-07 20:00",
          "s18-02-07 21:00",
          "s18-02-07 22:00",
          "s18-02-07 23:00",
          "s18-02-08 00:00",
          "s18-02-08 01:00",
          "s18-02-08 02:00",
          "s18-02-08 03:00",
          "s18-02-08 04:00",
          "s18-02-08 05:00",
          "s18-02-08 06:00",
          "s18-02-08 07:00",
          "s18-02-08 08:00",
          "s18-02-08 09:00",
          "s18-02-08 10:00",
          "s18-02-08 11:00",
          "s18-02-08 12:00",
          "s18-02-08 13:00",
          "s18-02-08 14:00",
          "s18-02-08 15:00",
          "s18-02-08 16:00",
          "s18-02-08 17:00",
          "s18-02-08 18:00",
          "s18-02-08 19:00",
          "s18-02-08 20:00",
          "s18-02-08 21:00",
          "s18-02-08 22:00",
          "s18-02-08 23:00",
          "s18-02-09 00:00",
          "s18-02-09 01:00",
          "s18-02-09 02:00",
          "s18-02-09 03:00",
          "s18-02-09 04:00",
          "s18-02-09 05:00",
          "s18-02-09 06:00",
          "s18-02-09 07:00",
          "s18-02-09 08:00",
          "s18-02-09 09:00",
          "s18-02-09 10:00",
          "s18-02-09 11:00",
          "s18-02-09 12:00",
          "s18-02-09 13:00",
          "s18-02-09 14:00",
          "s18-02-09 15:00",
          "s18-02-09 16:00",
          "s18-02-09 17:00",
          "s18-02-09 18:00",
          "s18-02-09 19:00",
          "s18-02-09 20:00",
          "s18-02-09 21:00",
          "s18-02-11 22:00",
          "s18-02-11 23:00",
          "s18-02-12 00:00",
          "s18-02-12 01:00",
          "s18-02-12 02:00",
          "s18-02-12 03:00",
          "s18-02-12 04:00",
          "s18-02-12 05:00",
          "s18-02-12 06:00",
          "s18-02-12 07:00",
          "s18-02-12 08:00",
          "s18-02-12 09:00",
          "s18-02-12 10:00",
          "s18-02-12 11:00",
          "s18-02-12 12:00",
          "s18-02-12 13:00",
          "s18-02-12 14:00",
          "s18-02-12 15:00",
          "s18-02-12 16:00",
          "s18-02-12 17:00",
          "s18-02-12 18:00",
          "s18-02-12 19:00",
          "s18-02-12 20:00",
          "s18-02-12 21:00",
          "s18-02-12 22:00",
          "s18-02-12 23:00",
          "s18-02-13 00:00",
          "s18-02-13 01:00",
          "s18-02-13 02:00",
          "s18-02-13 03:00",
          "s18-02-13 04:00",
          "s18-02-13 05:00",
          "s18-02-13 06:00",
          "s18-02-13 07:00",
          "s18-02-13 08:00",
          "s18-02-13 09:00",
          "s18-02-13 10:00",
          "s18-02-13 11:00",
          "s18-02-13 12:00",
          "s18-02-13 13:00",
          "s18-02-13 14:00",
          "s18-02-13 15:00",
          "s18-02-13 16:00",
          "s18-02-13 17:00",
          "s18-02-13 18:00",
          "s18-02-13 19:00",
          "s18-02-13 20:00",
          "s18-02-13 21:00",
          "s18-02-13 22:00",
          "s18-02-13 23:00",
          "s18-02-14 00:00",
          "s18-02-14 01:00",
          "s18-02-14 02:00",
          "s18-02-14 03:00",
          "s18-02-14 04:00",
          "s18-02-14 05:00",
          "s18-02-14 06:00",
          "s18-02-14 07:00",
          "s18-02-14 08:00",
          "s18-02-14 09:00",
          "s18-02-14 10:00",
          "s18-02-14 11:00",
          "s18-02-14 12:00",
          "s18-02-14 13:00",
          "s18-02-14 14:00",
          "s18-02-14 15:00",
          "s18-02-14 16:00",
          "s18-02-14 17:00",
          "s18-02-14 18:00",
          "s18-02-14 19:00",
          "s18-02-14 20:00",
          "s18-02-14 21:00",
          "s18-02-14 22:00",
          "s18-02-14 23:00",
          "s18-02-15 00:00",
          "s18-02-15 01:00",
          "s18-02-15 02:00",
          "s18-02-15 03:00",
          "s18-02-15 04:00",
          "s18-02-15 05:00",
          "s18-02-15 06:00",
          "s18-02-15 07:00",
          "s18-02-15 08:00",
          "s18-02-15 09:00",
          "s18-02-15 10:00",
          "s18-02-15 11:00",
          "s18-02-15 12:00",
          "s18-02-15 13:00",
          "s18-02-15 14:00",
          "s18-02-15 15:00",
          "s18-02-15 16:00",
          "s18-02-15 17:00",
          "s18-02-15 18:00",
          "s18-02-15 19:00",
          "s18-02-15 20:00",
          "s18-02-15 21:00",
          "s18-02-15 22:00",
          "s18-02-15 23:00",
          "s18-02-16 00:00",
          "s18-02-16 01:00",
          "s18-02-16 02:00",
          "s18-02-16 03:00",
          "s18-02-16 04:00",
          "s18-02-16 05:00",
          "s18-02-16 06:00",
          "s18-02-16 07:00"
         ]
        },
        {
         "close": [
          151.622,
          151.608,
          152.068,
          152.551,
          152.164,
          152.226,
          151.69,
          151.776,
          151.767,
          152.066,
          152.05,
          152.118,
          153.37,
          151.578,
          151.974,
          150.608,
          150.524,
          149.892,
          150.244,
          150.358,
          150.376,
          149.474,
          149.173,
          149.629,
          149.516,
          149.088,
          149.767,
          149.336,
          149.34,
          149.478,
          149.628,
          149.89,
          149.674
         ],
         "decreasing": {
          "fillcolor": "#0066FF",
          "line": {
           "color": "#0066FF"
          }
         },
         "high": [
          152.53,
          151.898,
          152.224,
          152.984,
          152.774,
          152.238,
          152.228,
          152.172,
          151.927,
          152.08,
          152.61,
          152.129,
          153.679,
          151.668,
          152.028,
          150.706,
          150.828,
          150.196,
          150.256,
          150.414,
          150.568,
          149.668,
          149.718,
          149.761,
          149.689,
          149.304,
          149.883,
          149.824,
          149.389,
          149.488,
          149.718,
          150.042,
          149.707
         ],
         "increasing": {
          "fillcolor": "#0066FF",
          "line": {
           "color": "#0066FF"
          }
         },
         "line": {
          "width": 1
         },
         "low": [
          151.448,
          151.568,
          151.456,
          152.534,
          152.138,
          151.65,
          151.626,
          151.656,
          151.444,
          151.815,
          152.008,
          151.796,
          152.19,
          151.244,
          151.618,
          150.492,
          150.484,
          149.67,
          149.804,
          150.099,
          150.337,
          149.155,
          149.173,
          149.596,
          149.472,
          148.926,
          149.588,
          149.138,
          149.22,
          149.074,
          149.282,
          149.486,
          149.44
         ],
         "opacity": 1,
         "open": [
          152.442,
          151.67,
          151.496,
          152.85,
          152.506,
          151.891,
          152.224,
          152.106,
          151.507,
          151.866,
          152.488,
          151.853,
          152.239,
          151.298,
          151.742,
          150.681,
          150.698,
          150.11,
          149.894,
          150.178,
          150.568,
          149.166,
          149.611,
          149.742,
          149.664,
          149.246,
          149.613,
          149.824,
          149.359,
          149.198,
          149.444,
          149.962,
          149.476
         ],
         "type": "candlestick",
         "x": [
          "s18-02-06 01:00",
          "s18-02-06 03:00",
          "s18-02-06 05:00",
          "s18-02-07 02:00",
          "s18-02-07 07:00",
          "s18-02-07 14:00",
          "s18-02-07 15:00",
          "s18-02-07 21:00",
          "s18-02-08 00:00",
          "s18-02-08 04:00",
          "s18-02-08 07:00",
          "s18-02-08 09:00",
          "s18-02-08 12:00",
          "s18-02-09 00:00",
          "s18-02-09 05:00",
          "s18-02-12 06:00",
          "s18-02-12 11:00",
          "s18-02-12 15:00",
          "s18-02-12 16:00",
          "s18-02-12 18:00",
          "s18-02-13 00:00",
          "s18-02-13 09:00",
          "s18-02-13 15:00",
          "s18-02-13 23:00",
          "s18-02-14 01:00",
          "s18-02-14 09:00",
          "s18-02-14 19:00",
          "s18-02-14 23:00",
          "s18-02-15 05:00",
          "s18-02-15 07:00",
          "s18-02-15 09:00",
          "s18-02-15 14:00",
          "s18-02-16 07:00"
         ]
        }
       ],
       "layout": {
        "font": {
         "color": "#e1e1e1",
         "size": 8
        },
        "height": 400,
        "margin": {
         "b": 10,
         "l": 10,
         "r": 10,
         "t": 10
        },
        "paper_bgcolor": "#2c303c",
        "plot_bgcolor": "#2c303c",
        "template": {
         "data": {
          "bar": [
           {
            "error_x": {
             "color": "#2a3f5f"
            },
            "error_y": {
             "color": "#2a3f5f"
            },
            "marker": {
             "line": {
              "color": "#E5ECF6",
              "width": 0.5
             },
             "pattern": {
              "fillmode": "overlay",
              "size": 10,
              "solidity": 0.2
             }
            },
            "type": "bar"
           }
          ],
          "barpolar": [
           {
            "marker": {
             "line": {
              "color": "#E5ECF6",
              "width": 0.5
             },
             "pattern": {
              "fillmode": "overlay",
              "size": 10,
              "solidity": 0.2
             }
            },
            "type": "barpolar"
           }
          ],
          "carpet": [
           {
            "aaxis": {
             "endlinecolor": "#2a3f5f",
             "gridcolor": "white",
             "linecolor": "white",
             "minorgridcolor": "white",
             "startlinecolor": "#2a3f5f"
            },
            "baxis": {
             "endlinecolor": "#2a3f5f",
             "gridcolor": "white",
             "linecolor": "white",
             "minorgridcolor": "white",
             "startlinecolor": "#2a3f5f"
            },
            "type": "carpet"
           }
          ],
          "choropleth": [
           {
            "colorbar": {
             "outlinewidth": 0,
             "ticks": ""
            },
            "type": "choropleth"
           }
          ],
          "contour": [
           {
            "colorbar": {
             "outlinewidth": 0,
             "ticks": ""
            },
            "colorscale": [
             [
              0,
              "#0d0887"
             ],
             [
              0.1111111111111111,
              "#46039f"
             ],
             [
              0.2222222222222222,
              "#7201a8"
             ],
             [
              0.3333333333333333,
              "#9c179e"
             ],
             [
              0.4444444444444444,
              "#bd3786"
             ],
             [
              0.5555555555555556,
              "#d8576b"
             ],
             [
              0.6666666666666666,
              "#ed7953"
             ],
             [
              0.7777777777777778,
              "#fb9f3a"
             ],
             [
              0.8888888888888888,
              "#fdca26"
             ],
             [
              1,
              "#f0f921"
             ]
            ],
            "type": "contour"
           }
          ],
          "contourcarpet": [
           {
            "colorbar": {
             "outlinewidth": 0,
             "ticks": ""
            },
            "type": "contourcarpet"
           }
          ],
          "heatmap": [
           {
            "colorbar": {
             "outlinewidth": 0,
             "ticks": ""
            },
            "colorscale": [
             [
              0,
              "#0d0887"
             ],
             [
              0.1111111111111111,
              "#46039f"
             ],
             [
              0.2222222222222222,
              "#7201a8"
             ],
             [
              0.3333333333333333,
              "#9c179e"
             ],
             [
              0.4444444444444444,
              "#bd3786"
             ],
             [
              0.5555555555555556,
              "#d8576b"
             ],
             [
              0.6666666666666666,
              "#ed7953"
             ],
             [
              0.7777777777777778,
              "#fb9f3a"
             ],
             [
              0.8888888888888888,
              "#fdca26"
             ],
             [
              1,
              "#f0f921"
             ]
            ],
            "type": "heatmap"
           }
          ],
          "heatmapgl": [
           {
            "colorbar": {
             "outlinewidth": 0,
             "ticks": ""
            },
            "colorscale": [
             [
              0,
              "#0d0887"
             ],
             [
              0.1111111111111111,
              "#46039f"
             ],
             [
              0.2222222222222222,
              "#7201a8"
             ],
             [
              0.3333333333333333,
              "#9c179e"
             ],
             [
              0.4444444444444444,
              "#bd3786"
             ],
             [
              0.5555555555555556,
              "#d8576b"
             ],
             [
              0.6666666666666666,
              "#ed7953"
             ],
             [
              0.7777777777777778,
              "#fb9f3a"
             ],
             [
              0.8888888888888888,
              "#fdca26"
             ],
             [
              1,
              "#f0f921"
             ]
            ],
            "type": "heatmapgl"
           }
          ],
          "histogram": [
           {
            "marker": {
             "pattern": {
              "fillmode": "overlay",
              "size": 10,
              "solidity": 0.2
             }
            },
            "type": "histogram"
           }
          ],
          "histogram2d": [
           {
            "colorbar": {
             "outlinewidth": 0,
             "ticks": ""
            },
            "colorscale": [
             [
              0,
              "#0d0887"
             ],
             [
              0.1111111111111111,
              "#46039f"
             ],
             [
              0.2222222222222222,
              "#7201a8"
             ],
             [
              0.3333333333333333,
              "#9c179e"
             ],
             [
              0.4444444444444444,
              "#bd3786"
             ],
             [
              0.5555555555555556,
              "#d8576b"
             ],
             [
              0.6666666666666666,
              "#ed7953"
             ],
             [
              0.7777777777777778,
              "#fb9f3a"
             ],
             [
              0.8888888888888888,
              "#fdca26"
             ],
             [
              1,
              "#f0f921"
             ]
            ],
            "type": "histogram2d"
           }
          ],
          "histogram2dcontour": [
           {
            "colorbar": {
             "outlinewidth": 0,
             "ticks": ""
            },
            "colorscale": [
             [
              0,
              "#0d0887"
             ],
             [
              0.1111111111111111,
              "#46039f"
             ],
             [
              0.2222222222222222,
              "#7201a8"
             ],
             [
              0.3333333333333333,
              "#9c179e"
             ],
             [
              0.4444444444444444,
              "#bd3786"
             ],
             [
              0.5555555555555556,
              "#d8576b"
             ],
             [
              0.6666666666666666,
              "#ed7953"
             ],
             [
              0.7777777777777778,
              "#fb9f3a"
             ],
             [
              0.8888888888888888,
              "#fdca26"
             ],
             [
              1,
              "#f0f921"
             ]
            ],
            "type": "histogram2dcontour"
           }
          ],
          "mesh3d": [
           {
            "colorbar": {
             "outlinewidth": 0,
             "ticks": ""
            },
            "type": "mesh3d"
           }
          ],
          "parcoords": [
           {
            "line": {
             "colorbar": {
              "outlinewidth": 0,
              "ticks": ""
             }
            },
            "type": "parcoords"
           }
          ],
          "pie": [
           {
            "automargin": true,
            "type": "pie"
           }
          ],
          "scatter": [
           {
            "fillpattern": {
             "fillmode": "overlay",
             "size": 10,
             "solidity": 0.2
            },
            "type": "scatter"
           }
          ],
          "scatter3d": [
           {
            "line": {
             "colorbar": {
              "outlinewidth": 0,
              "ticks": ""
             }
            },
            "marker": {
             "colorbar": {
              "outlinewidth": 0,
              "ticks": ""
             }
            },
            "type": "scatter3d"
           }
          ],
          "scattercarpet": [
           {
            "marker": {
             "colorbar": {
              "outlinewidth": 0,
              "ticks": ""
             }
            },
            "type": "scattercarpet"
           }
          ],
          "scattergeo": [
           {
            "marker": {
             "colorbar": {
              "outlinewidth": 0,
              "ticks": ""
             }
            },
            "type": "scattergeo"
           }
          ],
          "scattergl": [
           {
            "marker": {
             "colorbar": {
              "outlinewidth": 0,
              "ticks": ""
             }
            },
            "type": "scattergl"
           }
          ],
          "scattermapbox": [
           {
            "marker": {
             "colorbar": {
              "outlinewidth": 0,
              "ticks": ""
             }
            },
            "type": "scattermapbox"
           }
          ],
          "scatterpolar": [
           {
            "marker": {
             "colorbar": {
              "outlinewidth": 0,
              "ticks": ""
             }
            },
            "type": "scatterpolar"
           }
          ],
          "scatterpolargl": [
           {
            "marker": {
             "colorbar": {
              "outlinewidth": 0,
              "ticks": ""
             }
            },
            "type": "scatterpolargl"
           }
          ],
          "scatterternary": [
           {
            "marker": {
             "colorbar": {
              "outlinewidth": 0,
              "ticks": ""
             }
            },
            "type": "scatterternary"
           }
          ],
          "surface": [
           {
            "colorbar": {
             "outlinewidth": 0,
             "ticks": ""
            },
            "colorscale": [
             [
              0,
              "#0d0887"
             ],
             [
              0.1111111111111111,
              "#46039f"
             ],
             [
              0.2222222222222222,
              "#7201a8"
             ],
             [
              0.3333333333333333,
              "#9c179e"
             ],
             [
              0.4444444444444444,
              "#bd3786"
             ],
             [
              0.5555555555555556,
              "#d8576b"
             ],
             [
              0.6666666666666666,
              "#ed7953"
             ],
             [
              0.7777777777777778,
              "#fb9f3a"
             ],
             [
              0.8888888888888888,
              "#fdca26"
             ],
             [
              1,
              "#f0f921"
             ]
            ],
            "type": "surface"
           }
          ],
          "table": [
           {
            "cells": {
             "fill": {
              "color": "#EBF0F8"
             },
             "line": {
              "color": "white"
             }
            },
            "header": {
             "fill": {
              "color": "#C8D4E3"
             },
             "line": {
              "color": "white"
             }
            },
            "type": "table"
           }
          ]
         },
         "layout": {
          "annotationdefaults": {
           "arrowcolor": "#2a3f5f",
           "arrowhead": 0,
           "arrowwidth": 1
          },
          "autotypenumbers": "strict",
          "coloraxis": {
           "colorbar": {
            "outlinewidth": 0,
            "ticks": ""
           }
          },
          "colorscale": {
           "diverging": [
            [
             0,
             "#8e0152"
            ],
            [
             0.1,
             "#c51b7d"
            ],
            [
             0.2,
             "#de77ae"
            ],
            [
             0.3,
             "#f1b6da"
            ],
            [
             0.4,
             "#fde0ef"
            ],
            [
             0.5,
             "#f7f7f7"
            ],
            [
             0.6,
             "#e6f5d0"
            ],
            [
             0.7,
             "#b8e186"
            ],
            [
             0.8,
             "#7fbc41"
            ],
            [
             0.9,
             "#4d9221"
            ],
            [
             1,
             "#276419"
            ]
           ],
           "sequential": [
            [
             0,
             "#0d0887"
            ],
            [
             0.1111111111111111,
             "#46039f"
            ],
            [
             0.2222222222222222,
             "#7201a8"
            ],
            [
             0.3333333333333333,
             "#9c179e"
            ],
            [
             0.4444444444444444,
             "#bd3786"
            ],
            [
             0.5555555555555556,
             "#d8576b"
            ],
            [
             0.6666666666666666,
             "#ed7953"
            ],
            [
             0.7777777777777778,
             "#fb9f3a"
            ],
            [
             0.8888888888888888,
             "#fdca26"
            ],
            [
             1,
             "#f0f921"
            ]
           ],
           "sequentialminus": [
            [
             0,
             "#0d0887"
            ],
            [
             0.1111111111111111,
             "#46039f"
            ],
            [
             0.2222222222222222,
             "#7201a8"
            ],
            [
             0.3333333333333333,
             "#9c179e"
            ],
            [
             0.4444444444444444,
             "#bd3786"
            ],
            [
             0.5555555555555556,
             "#d8576b"
            ],
            [
             0.6666666666666666,
             "#ed7953"
            ],
            [
             0.7777777777777778,
             "#fb9f3a"
            ],
            [
             0.8888888888888888,
             "#fdca26"
            ],
            [
             1,
             "#f0f921"
            ]
           ]
          },
          "colorway": [
           "#636efa",
           "#EF553B",
           "#00cc96",
           "#ab63fa",
           "#FFA15A",
           "#19d3f3",
           "#FF6692",
           "#B6E880",
           "#FF97FF",
           "#FECB52"
          ],
          "font": {
           "color": "#2a3f5f"
          },
          "geo": {
           "bgcolor": "white",
           "lakecolor": "white",
           "landcolor": "#E5ECF6",
           "showlakes": true,
           "showland": true,
           "subunitcolor": "white"
          },
          "hoverlabel": {
           "align": "left"
          },
          "hovermode": "closest",
          "mapbox": {
           "style": "light"
          },
          "paper_bgcolor": "white",
          "plot_bgcolor": "#E5ECF6",
          "polar": {
           "angularaxis": {
            "gridcolor": "white",
            "linecolor": "white",
            "ticks": ""
           },
           "bgcolor": "#E5ECF6",
           "radialaxis": {
            "gridcolor": "white",
            "linecolor": "white",
            "ticks": ""
           }
          },
          "scene": {
           "xaxis": {
            "backgroundcolor": "#E5ECF6",
            "gridcolor": "white",
            "gridwidth": 2,
            "linecolor": "white",
            "showbackground": true,
            "ticks": "",
            "zerolinecolor": "white"
           },
           "yaxis": {
            "backgroundcolor": "#E5ECF6",
            "gridcolor": "white",
            "gridwidth": 2,
            "linecolor": "white",
            "showbackground": true,
            "ticks": "",
            "zerolinecolor": "white"
           },
           "zaxis": {
            "backgroundcolor": "#E5ECF6",
            "gridcolor": "white",
            "gridwidth": 2,
            "linecolor": "white",
            "showbackground": true,
            "ticks": "",
            "zerolinecolor": "white"
           }
          },
          "shapedefaults": {
           "line": {
            "color": "#2a3f5f"
           }
          },
          "ternary": {
           "aaxis": {
            "gridcolor": "white",
            "linecolor": "white",
            "ticks": ""
           },
           "baxis": {
            "gridcolor": "white",
            "linecolor": "white",
            "ticks": ""
           },
           "bgcolor": "#E5ECF6",
           "caxis": {
            "gridcolor": "white",
            "linecolor": "white",
            "ticks": ""
           }
          },
          "title": {
           "x": 0.05
          },
          "xaxis": {
           "automargin": true,
           "gridcolor": "white",
           "linecolor": "white",
           "ticks": "",
           "title": {
            "standoff": 15
           },
           "zerolinecolor": "white",
           "zerolinewidth": 2
          },
          "yaxis": {
           "automargin": true,
           "gridcolor": "white",
           "linecolor": "white",
           "ticks": "",
           "title": {
            "standoff": 15
           },
           "zerolinecolor": "white",
           "zerolinewidth": 2
          }
         }
        },
        "width": 900,
        "xaxis": {
         "anchor": "y",
         "autorange": true,
         "domain": [
          0,
          0.94
         ],
         "gridcolor": "#1f292f",
         "nticks": 5,
         "range": [
          -0.5,
          199.5
         ],
         "rangeslider": {
          "visible": false,
          "yaxis": {}
         },
         "type": "category"
        },
        "yaxis": {
         "anchor": "x",
         "autorange": true,
         "domain": [
          0,
          1
         ],
         "gridcolor": "#1f292f",
         "range": [
          147.63444444444445,
          154.38555555555556
         ]
        },
        "yaxis2": {
         "anchor": "x",
         "gridcolor": "#1f292f",
         "overlaying": "y",
         "side": "right"
        }
       }
      },
      "image/png": "[encoded data removed]",
      "text/html": [
       "<div>                            <div id=\"9dccb7ae-2c47-40b6-93fd-b662a0bbd224\" class=\"plotly-graph-div\" style=\"height:400px; width:900px;\"></div>            <script type=\"text/javascript\">                require([\"plotly\"], function(Plotly) {                    window.PLOTLYENV=window.PLOTLYENV || {};                                    if (document.getElementById(\"9dccb7ae-2c47-40b6-93fd-b662a0bbd224\")) {                    Plotly.newPlot(                        \"9dccb7ae-2c47-40b6-93fd-b662a0bbd224\",                        [{\"close\":[152.44,151.622,151.672,151.608,151.498,152.068,152.196,152.204,152.8,152.541,152.452,151.868,151.54,151.688,151.87,152.01,152.317,152.634,152.5,152.6,152.816,152.852,153.122,153.018,152.75,152.848,152.551,152.678,152.618,152.424,152.508,152.164,152.07,151.874,151.39,151.662,151.961,151.893,152.226,151.69,152.03,152.024,151.626,151.86,152.109,151.776,151.724,151.505,151.767,151.824,151.942,151.868,152.066,152.484,152.49,152.05,151.85,152.118,152.317,152.244,153.37,153.82,153.654,152.998,151.829,151.082,151.813,151.556,151.112,151.294,151.411,151.294,151.578,151.62,151.68,151.914,151.74,151.974,152.202,152.584,152.558,151.791,151.688,150.904,150.312,150.822,150.454,150.034,149.581,149.474,149.498,149.915,150.38,150.467,150.519,150.412,150.216,150.284,150.492,150.69,150.662,150.683,150.608,150.228,150.508,150.538,150.696,150.524,150.306,150.008,150.108,149.892,150.244,150.176,150.358,150.26,150.266,150.344,150.441,150.57,150.376,150.478,150.423,150.292,150.074,150.018,149.86,149.316,149.164,149.474,149.762,149.657,149.582,149.214,149.613,149.173,149.476,149.316,149.369,149.461,149.706,149.792,149.746,149.629,149.666,149.516,149.204,148.744,148.826,148.962,148.996,149.246,149.244,149.088,148.996,148.71,148.68,148.349,148.564,149.134,149.326,149.635,149.615,149.767,149.895,149.806,149.82,149.336,149.503,149.42,149.158,149.356,149.362,149.34,149.2,149.478,149.446,149.628,149.848,149.868,149.96,149.964,149.89,149.365,149.554,149.846,149.758,149.749,149.586,149.618,149.624,149.66,149.82,149.763,149.794,149.79,149.445,149.509,149.474,149.674],\"decreasing\":{\"fillcolor\":\"#CC2E3C\",\"line\":{\"color\":\"#FF3A4C\"}},\"high\":[152.624,152.53,151.776,151.898,151.696,152.224,152.345,152.574,152.846,152.874,152.558,152.464,151.99,151.92,152.142,152.062,152.512,152.843,152.723,152.692,152.9,152.916,153.136,153.127,153.058,152.884,152.984,152.756,152.697,152.62,152.531,152.774,152.189,152.093,151.886,151.866,152.11,152.16,152.238,152.228,152.168,152.082,152.055,152.052,152.283,152.172,151.804,151.766,151.927,151.923,152.018,152.014,152.08,152.531,152.622,152.61,152.166,152.129,152.379,152.534,153.679,153.913,154.048,153.71,153.048,151.848,151.86,152.01,151.704,151.444,151.571,151.436,151.668,152.086,151.802,152.105,152.002,152.028,152.348,152.686,152.757,152.574,151.896,151.694,150.914,151.082,150.87,150.499,150.271,149.674,149.694,150.194,150.535,150.514,150.519,150.526,150.446,150.434,150.528,150.704,150.783,150.756,150.706,150.612,150.826,150.802,150.73,150.828,150.614,150.417,150.324,150.196,150.256,150.434,150.414,150.437,150.418,150.37,150.472,150.626,150.568,150.542,150.536,150.538,150.366,150.073,150.066,149.862,149.374,149.668,149.772,149.766,149.682,149.638,149.656,149.718,149.52,149.535,149.582,149.533,149.73,149.823,149.779,149.761,149.887,149.689,149.608,149.201,148.915,149.127,149.126,149.384,149.312,149.304,149.15,149.026,148.881,149.18,148.682,149.316,149.6,149.694,149.747,149.883,150.034,149.916,149.9,149.824,149.617,149.8,149.488,149.408,149.413,149.389,149.337,149.488,149.635,149.718,149.952,149.893,150.18,150.19,150.042,149.934,149.686,149.947,149.983,149.843,149.836,149.683,149.688,149.746,149.914,149.966,149.868,149.942,149.788,149.607,149.576,149.707],\"increasing\":{\"fillcolor\":\"#24A06B\",\"line\":{\"color\":\"#2EC886\"}},\"line\":{\"width\":1},\"low\":[151.934,151.448,151.421,151.568,151.212,151.456,151.868,151.994,152.142,152.344,152.124,151.7,151.52,151.354,151.515,151.31,151.86,152.3,152.381,152.304,152.585,152.762,152.685,152.906,152.606,152.638,152.534,152.528,152.578,152.395,152.266,152.138,151.69,151.76,151.362,151.332,151.558,151.77,151.65,151.626,151.648,151.696,151.346,151.49,151.848,151.656,151.592,151.474,151.444,151.714,151.76,151.847,151.815,152.03,152.388,152.008,151.841,151.796,151.926,152.202,152.19,153.337,153.469,152.856,151.601,150.834,150.842,151.536,151.082,151.08,151.269,151.192,151.244,151.51,151.415,151.671,151.704,151.618,151.884,152.08,152.325,151.702,151.58,150.735,149.988,150.282,150.212,149.822,149.486,148.948,148.926,149.494,149.712,150.342,150.298,150.226,150.01,150.184,150.262,150.438,150.642,150.57,150.492,150.188,150.022,150.458,150.308,150.484,150.236,149.992,149.876,149.67,149.804,150.09,150.099,150.224,150.146,150.214,150.295,150.434,150.337,150.301,150.338,150.276,149.981,149.902,149.814,149.282,148.982,149.155,149.447,149.52,149.396,149.166,149.216,149.173,149.114,149.217,149.301,149.352,149.443,149.704,149.668,149.596,149.624,149.472,149.082,148.721,148.64,148.824,148.934,148.967,148.878,148.926,148.924,148.698,148.624,147.972,148.151,148.552,149.01,149.306,149.522,149.588,149.75,149.758,149.704,149.138,149.284,149.28,148.938,149.122,149.104,149.22,149.02,149.074,149.351,149.282,149.575,149.742,149.847,149.883,149.486,149.272,149.26,149.476,149.676,149.688,149.5,149.418,149.54,149.496,149.578,149.678,149.63,149.786,149.2,149.426,149.338,149.44],\"opacity\":1,\"open\":[152.065,152.442,151.62,151.67,151.61,151.496,152.071,152.194,152.202,152.802,152.543,152.45,151.866,151.542,151.69,151.872,152.012,152.315,152.632,152.498,152.602,152.818,152.798,153.118,153.022,152.752,152.85,152.549,152.68,152.62,152.422,152.506,152.162,152.068,151.876,151.393,151.659,151.959,151.891,152.224,151.692,152.028,152.026,151.629,151.858,152.106,151.751,151.72,151.507,151.769,151.821,151.94,151.866,152.068,152.482,152.488,152.048,151.853,152.12,152.315,152.239,153.372,153.818,153.656,152.996,151.831,151.08,151.811,151.558,151.11,151.286,151.414,151.298,151.574,151.618,151.682,151.912,151.742,151.978,152.204,152.587,152.56,151.793,151.69,150.902,150.31,150.82,150.452,150.036,149.579,149.472,149.496,149.912,150.378,150.401,150.515,150.414,150.214,150.282,150.49,150.688,150.659,150.681,150.605,150.225,150.51,150.54,150.698,150.522,150.308,150.01,150.11,149.894,150.241,150.178,150.36,150.258,150.264,150.333,150.438,150.568,150.374,150.48,150.425,150.29,150.071,150.02,149.862,149.319,149.166,149.471,149.76,149.659,149.584,149.216,149.611,149.176,149.474,149.314,149.367,149.459,149.704,149.739,149.742,149.626,149.664,149.514,149.201,148.741,148.828,148.964,148.994,149.244,149.246,149.09,148.994,148.712,148.682,148.346,148.566,149.131,149.329,149.632,149.613,149.769,149.893,149.74,149.824,149.334,149.5,149.418,149.156,149.358,149.359,149.337,149.198,149.48,149.444,149.626,149.846,149.866,149.962,149.962,149.888,149.363,149.551,149.844,149.756,149.752,149.583,149.612,149.621,149.658,149.818,149.76,149.796,149.788,149.443,149.506,149.476],\"x\":[\"s18-02-06 00:00\",\"s18-02-06 01:00\",\"s18-02-06 02:00\",\"s18-02-06 03:00\",\"s18-02-06 04:00\",\"s18-02-06 05:00\",\"s18-02-06 06:00\",\"s18-02-06 07:00\",\"s18-02-06 08:00\",\"s18-02-06 09:00\",\"s18-02-06 10:00\",\"s18-02-06 11:00\",\"s18-02-06 12:00\",\"s18-02-06 13:00\",\"s18-02-06 14:00\",\"s18-02-06 15:00\",\"s18-02-06 16:00\",\"s18-02-06 17:00\",\"s18-02-06 18:00\",\"s18-02-06 19:00\",\"s18-02-06 20:00\",\"s18-02-06 21:00\",\"s18-02-06 22:00\",\"s18-02-06 23:00\",\"s18-02-07 00:00\",\"s18-02-07 01:00\",\"s18-02-07 02:00\",\"s18-02-07 03:00\",\"s18-02-07 04:00\",\"s18-02-07 05:00\",\"s18-02-07 06:00\",\"s18-02-07 07:00\",\"s18-02-07 08:00\",\"s18-02-07 09:00\",\"s18-02-07 10:00\",\"s18-02-07 11:00\",\"s18-02-07 12:00\",\"s18-02-07 13:00\",\"s18-02-07 14:00\",\"s18-02-07 15:00\",\"s18-02-07 16:00\",\"s18-02-07 17:00\",\"s18-02-07 18:00\",\"s18-02-07 19:00\",\"s18-02-07 20:00\",\"s18-02-07 21:00\",\"s18-02-07 22:00\",\"s18-02-07 23:00\",\"s18-02-08 00:00\",\"s18-02-08 01:00\",\"s18-02-08 02:00\",\"s18-02-08 03:00\",\"s18-02-08 04:00\",\"s18-02-08 05:00\",\"s18-02-08 06:00\",\"s18-02-08 07:00\",\"s18-02-08 08:00\",\"s18-02-08 09:00\",\"s18-02-08 10:00\",\"s18-02-08 11:00\",\"s18-02-08 12:00\",\"s18-02-08 13:00\",\"s18-02-08 14:00\",\"s18-02-08 15:00\",\"s18-02-08 16:00\",\"s18-02-08 17:00\",\"s18-02-08 18:00\",\"s18-02-08 19:00\",\"s18-02-08 20:00\",\"s18-02-08 21:00\",\"s18-02-08 22:00\",\"s18-02-08 23:00\",\"s18-02-09 00:00\",\"s18-02-09 01:00\",\"s18-02-09 02:00\",\"s18-02-09 03:00\",\"s18-02-09 04:00\",\"s18-02-09 05:00\",\"s18-02-09 06:00\",\"s18-02-09 07:00\",\"s18-02-09 08:00\",\"s18-02-09 09:00\",\"s18-02-09 10:00\",\"s18-02-09 11:00\",\"s18-02-09 12:00\",\"s18-02-09 13:00\",\"s18-02-09 14:00\",\"s18-02-09 15:00\",\"s18-02-09 16:00\",\"s18-02-09 17:00\",\"s18-02-09 18:00\",\"s18-02-09 19:00\",\"s18-02-09 20:00\",\"s18-02-09 21:00\",\"s18-02-11 22:00\",\"s18-02-11 23:00\",\"s18-02-12 00:00\",\"s18-02-12 01:00\",\"s18-02-12 02:00\",\"s18-02-12 03:00\",\"s18-02-12 04:00\",\"s18-02-12 05:00\",\"s18-02-12 06:00\",\"s18-02-12 07:00\",\"s18-02-12 08:00\",\"s18-02-12 09:00\",\"s18-02-12 10:00\",\"s18-02-12 11:00\",\"s18-02-12 12:00\",\"s18-02-12 13:00\",\"s18-02-12 14:00\",\"s18-02-12 15:00\",\"s18-02-12 16:00\",\"s18-02-12 17:00\",\"s18-02-12 18:00\",\"s18-02-12 19:00\",\"s18-02-12 20:00\",\"s18-02-12 21:00\",\"s18-02-12 22:00\",\"s18-02-12 23:00\",\"s18-02-13 00:00\",\"s18-02-13 01:00\",\"s18-02-13 02:00\",\"s18-02-13 03:00\",\"s18-02-13 04:00\",\"s18-02-13 05:00\",\"s18-02-13 06:00\",\"s18-02-13 07:00\",\"s18-02-13 08:00\",\"s18-02-13 09:00\",\"s18-02-13 10:00\",\"s18-02-13 11:00\",\"s18-02-13 12:00\",\"s18-02-13 13:00\",\"s18-02-13 14:00\",\"s18-02-13 15:00\",\"s18-02-13 16:00\",\"s18-02-13 17:00\",\"s18-02-13 18:00\",\"s18-02-13 19:00\",\"s18-02-13 20:00\",\"s18-02-13 21:00\",\"s18-02-13 22:00\",\"s18-02-13 23:00\",\"s18-02-14 00:00\",\"s18-02-14 01:00\",\"s18-02-14 02:00\",\"s18-02-14 03:00\",\"s18-02-14 04:00\",\"s18-02-14 05:00\",\"s18-02-14 06:00\",\"s18-02-14 07:00\",\"s18-02-14 08:00\",\"s18-02-14 09:00\",\"s18-02-14 10:00\",\"s18-02-14 11:00\",\"s18-02-14 12:00\",\"s18-02-14 13:00\",\"s18-02-14 14:00\",\"s18-02-14 15:00\",\"s18-02-14 16:00\",\"s18-02-14 17:00\",\"s18-02-14 18:00\",\"s18-02-14 19:00\",\"s18-02-14 20:00\",\"s18-02-14 21:00\",\"s18-02-14 22:00\",\"s18-02-14 23:00\",\"s18-02-15 00:00\",\"s18-02-15 01:00\",\"s18-02-15 02:00\",\"s18-02-15 03:00\",\"s18-02-15 04:00\",\"s18-02-15 05:00\",\"s18-02-15 06:00\",\"s18-02-15 07:00\",\"s18-02-15 08:00\",\"s18-02-15 09:00\",\"s18-02-15 10:00\",\"s18-02-15 11:00\",\"s18-02-15 12:00\",\"s18-02-15 13:00\",\"s18-02-15 14:00\",\"s18-02-15 15:00\",\"s18-02-15 16:00\",\"s18-02-15 17:00\",\"s18-02-15 18:00\",\"s18-02-15 19:00\",\"s18-02-15 20:00\",\"s18-02-15 21:00\",\"s18-02-15 22:00\",\"s18-02-15 23:00\",\"s18-02-16 00:00\",\"s18-02-16 01:00\",\"s18-02-16 02:00\",\"s18-02-16 03:00\",\"s18-02-16 04:00\",\"s18-02-16 05:00\",\"s18-02-16 06:00\",\"s18-02-16 07:00\"],\"type\":\"candlestick\"},{\"close\":[151.622,151.608,152.068,152.551,152.164,152.226,151.69,151.776,151.767,152.066,152.05,152.118,153.37,151.578,151.974,150.608,150.524,149.892,150.244,150.358,150.376,149.474,149.173,149.629,149.516,149.088,149.767,149.336,149.34,149.478,149.628,149.89,149.674],\"decreasing\":{\"fillcolor\":\"#0066FF\",\"line\":{\"color\":\"#0066FF\"}},\"high\":[152.53,151.898,152.224,152.984,152.774,152.238,152.228,152.172,151.927,152.08,152.61,152.129,153.679,151.668,152.028,150.706,150.828,150.196,150.256,150.414,150.568,149.668,149.718,149.761,149.689,149.304,149.883,149.824,149.389,149.488,149.718,150.042,149.707],\"increasing\":{\"fillcolor\":\"#0066FF\",\"line\":{\"color\":\"#0066FF\"}},\"line\":{\"width\":1},\"low\":[151.448,151.568,151.456,152.534,152.138,151.65,151.626,151.656,151.444,151.815,152.008,151.796,152.19,151.244,151.618,150.492,150.484,149.67,149.804,150.099,150.337,149.155,149.173,149.596,149.472,148.926,149.588,149.138,149.22,149.074,149.282,149.486,149.44],\"opacity\":1,\"open\":[152.442,151.67,151.496,152.85,152.506,151.891,152.224,152.106,151.507,151.866,152.488,151.853,152.239,151.298,151.742,150.681,150.698,150.11,149.894,150.178,150.568,149.166,149.611,149.742,149.664,149.246,149.613,149.824,149.359,149.198,149.444,149.962,149.476],\"x\":[\"s18-02-06 01:00\",\"s18-02-06 03:00\",\"s18-02-06 05:00\",\"s18-02-07 02:00\",\"s18-02-07 07:00\",\"s18-02-07 14:00\",\"s18-02-07 15:00\",\"s18-02-07 21:00\",\"s18-02-08 00:00\",\"s18-02-08 04:00\",\"s18-02-08 07:00\",\"s18-02-08 09:00\",\"s18-02-08 12:00\",\"s18-02-09 00:00\",\"s18-02-09 05:00\",\"s18-02-12 06:00\",\"s18-02-12 11:00\",\"s18-02-12 15:00\",\"s18-02-12 16:00\",\"s18-02-12 18:00\",\"s18-02-13 00:00\",\"s18-02-13 09:00\",\"s18-02-13 15:00\",\"s18-02-13 23:00\",\"s18-02-14 01:00\",\"s18-02-14 09:00\",\"s18-02-14 19:00\",\"s18-02-14 23:00\",\"s18-02-15 05:00\",\"s18-02-15 07:00\",\"s18-02-15 09:00\",\"s18-02-15 14:00\",\"s18-02-16 07:00\"],\"type\":\"candlestick\"}],                        {\"template\":{\"data\":{\"histogram2dcontour\":[{\"type\":\"histogram2dcontour\",\"colorbar\":{\"outlinewidth\":0,\"ticks\":\"\"},\"colorscale\":[[0.0,\"#0d0887\"],[0.1111111111111111,\"#46039f\"],[0.2222222222222222,\"#7201a8\"],[0.3333333333333333,\"#9c179e\"],[0.4444444444444444,\"#bd3786\"],[0.5555555555555556,\"#d8576b\"],[0.6666666666666666,\"#ed7953\"],[0.7777777777777778,\"#fb9f3a\"],[0.8888888888888888,\"#fdca26\"],[1.0,\"#f0f921\"]]}],\"choropleth\":[{\"type\":\"choropleth\",\"colorbar\":{\"outlinewidth\":0,\"ticks\":\"\"}}],\"histogram2d\":[{\"type\":\"histogram2d\",\"colorbar\":{\"outlinewidth\":0,\"ticks\":\"\"},\"colorscale\":[[0.0,\"#0d0887\"],[0.1111111111111111,\"#46039f\"],[0.2222222222222222,\"#7201a8\"],[0.3333333333333333,\"#9c179e\"],[0.4444444444444444,\"#bd3786\"],[0.5555555555555556,\"#d8576b\"],[0.6666666666666666,\"#ed7953\"],[0.7777777777777778,\"#fb9f3a\"],[0.8888888888888888,\"#fdca26\"],[1.0,\"#f0f921\"]]}],\"heatmap\":[{\"type\":\"heatmap\",\"colorbar\":{\"outlinewidth\":0,\"ticks\":\"\"},\"colorscale\":[[0.0,\"#0d0887\"],[0.1111111111111111,\"#46039f\"],[0.2222222222222222,\"#7201a8\"],[0.3333333333333333,\"#9c179e\"],[0.4444444444444444,\"#bd3786\"],[0.5555555555555556,\"#d8576b\"],[0.6666666666666666,\"#ed7953\"],[0.7777777777777778,\"#fb9f3a\"],[0.8888888888888888,\"#fdca26\"],[1.0,\"#f0f921\"]]}],\"heatmapgl\":[{\"type\":\"heatmapgl\",\"colorbar\":{\"outlinewidth\":0,\"ticks\":\"\"},\"colorscale\":[[0.0,\"#0d0887\"],[0.1111111111111111,\"#46039f\"],[0.2222222222222222,\"#7201a8\"],[0.3333333333333333,\"#9c179e\"],[0.4444444444444444,\"#bd3786\"],[0.5555555555555556,\"#d8576b\"],[0.6666666666666666,\"#ed7953\"],[0.7777777777777778,\"#fb9f3a\"],[0.8888888888888888,\"#fdca26\"],[1.0,\"#f0f921\"]]}],\"contourcarpet\":[{\"type\":\"contourcarpet\",\"colorbar\":{\"outlinewidth\":0,\"ticks\":\"\"}}],\"contour\":[{\"type\":\"contour\",\"colorbar\":{\"outlinewidth\":0,\"ticks\":\"\"},\"colorscale\":[[0.0,\"#0d0887\"],[0.1111111111111111,\"#46039f\"],[0.2222222222222222,\"#7201a8\"],[0.3333333333333333,\"#9c179e\"],[0.4444444444444444,\"#bd3786\"],[0.5555555555555556,\"#d8576b\"],[0.6666666666666666,\"#ed7953\"],[0.7777777777777778,\"#fb9f3a\"],[0.8888888888888888,\"#fdca26\"],[1.0,\"#f0f921\"]]}],\"surface\":[{\"type\":\"surface\",\"colorbar\":{\"outlinewidth\":0,\"ticks\":\"\"},\"colorscale\":[[0.0,\"#0d0887\"],[0.1111111111111111,\"#46039f\"],[0.2222222222222222,\"#7201a8\"],[0.3333333333333333,\"#9c179e\"],[0.4444444444444444,\"#bd3786\"],[0.5555555555555556,\"#d8576b\"],[0.6666666666666666,\"#ed7953\"],[0.7777777777777778,\"#fb9f3a\"],[0.8888888888888888,\"#fdca26\"],[1.0,\"#f0f921\"]]}],\"mesh3d\":[{\"type\":\"mesh3d\",\"colorbar\":{\"outlinewidth\":0,\"ticks\":\"\"}}],\"scatter\":[{\"fillpattern\":{\"fillmode\":\"overlay\",\"size\":10,\"solidity\":0.2},\"type\":\"scatter\"}],\"parcoords\":[{\"type\":\"parcoords\",\"line\":{\"colorbar\":{\"outlinewidth\":0,\"ticks\":\"\"}}}],\"scatterpolargl\":[{\"type\":\"scatterpolargl\",\"marker\":{\"colorbar\":{\"outlinewidth\":0,\"ticks\":\"\"}}}],\"bar\":[{\"error_x\":{\"color\":\"#2a3f5f\"},\"error_y\":{\"color\":\"#2a3f5f\"},\"marker\":{\"line\":{\"color\":\"#E5ECF6\",\"width\":0.5},\"pattern\":{\"fillmode\":\"overlay\",\"size\":10,\"solidity\":0.2}},\"type\":\"bar\"}],\"scattergeo\":[{\"type\":\"scattergeo\",\"marker\":{\"colorbar\":{\"outlinewidth\":0,\"ticks\":\"\"}}}],\"scatterpolar\":[{\"type\":\"scatterpolar\",\"marker\":{\"colorbar\":{\"outlinewidth\":0,\"ticks\":\"\"}}}],\"histogram\":[{\"marker\":{\"pattern\":{\"fillmode\":\"overlay\",\"size\":10,\"solidity\":0.2}},\"type\":\"histogram\"}],\"scattergl\":[{\"type\":\"scattergl\",\"marker\":{\"colorbar\":{\"outlinewidth\":0,\"ticks\":\"\"}}}],\"scatter3d\":[{\"type\":\"scatter3d\",\"line\":{\"colorbar\":{\"outlinewidth\":0,\"ticks\":\"\"}},\"marker\":{\"colorbar\":{\"outlinewidth\":0,\"ticks\":\"\"}}}],\"scattermapbox\":[{\"type\":\"scattermapbox\",\"marker\":{\"colorbar\":{\"outlinewidth\":0,\"ticks\":\"\"}}}],\"scatterternary\":[{\"type\":\"scatterternary\",\"marker\":{\"colorbar\":{\"outlinewidth\":0,\"ticks\":\"\"}}}],\"scattercarpet\":[{\"type\":\"scattercarpet\",\"marker\":{\"colorbar\":{\"outlinewidth\":0,\"ticks\":\"\"}}}],\"carpet\":[{\"aaxis\":{\"endlinecolor\":\"#2a3f5f\",\"gridcolor\":\"white\",\"linecolor\":\"white\",\"minorgridcolor\":\"white\",\"startlinecolor\":\"#2a3f5f\"},\"baxis\":{\"endlinecolor\":\"#2a3f5f\",\"gridcolor\":\"white\",\"linecolor\":\"white\",\"minorgridcolor\":\"white\",\"startlinecolor\":\"#2a3f5f\"},\"type\":\"carpet\"}],\"table\":[{\"cells\":{\"fill\":{\"color\":\"#EBF0F8\"},\"line\":{\"color\":\"white\"}},\"header\":{\"fill\":{\"color\":\"#C8D4E3\"},\"line\":{\"color\":\"white\"}},\"type\":\"table\"}],\"barpolar\":[{\"marker\":{\"line\":{\"color\":\"#E5ECF6\",\"width\":0.5},\"pattern\":{\"fillmode\":\"overlay\",\"size\":10,\"solidity\":0.2}},\"type\":\"barpolar\"}],\"pie\":[{\"automargin\":true,\"type\":\"pie\"}]},\"layout\":{\"autotypenumbers\":\"strict\",\"colorway\":[\"#636efa\",\"#EF553B\",\"#00cc96\",\"#ab63fa\",\"#FFA15A\",\"#19d3f3\",\"#FF6692\",\"#B6E880\",\"#FF97FF\",\"#FECB52\"],\"font\":{\"color\":\"#2a3f5f\"},\"hovermode\":\"closest\",\"hoverlabel\":{\"align\":\"left\"},\"paper_bgcolor\":\"white\",\"plot_bgcolor\":\"#E5ECF6\",\"polar\":{\"bgcolor\":\"#E5ECF6\",\"angularaxis\":{\"gridcolor\":\"white\",\"linecolor\":\"white\",\"ticks\":\"\"},\"radialaxis\":{\"gridcolor\":\"white\",\"linecolor\":\"white\",\"ticks\":\"\"}},\"ternary\":{\"bgcolor\":\"#E5ECF6\",\"aaxis\":{\"gridcolor\":\"white\",\"linecolor\":\"white\",\"ticks\":\"\"},\"baxis\":{\"gridcolor\":\"white\",\"linecolor\":\"white\",\"ticks\":\"\"},\"caxis\":{\"gridcolor\":\"white\",\"linecolor\":\"white\",\"ticks\":\"\"}},\"coloraxis\":{\"colorbar\":{\"outlinewidth\":0,\"ticks\":\"\"}},\"colorscale\":{\"sequential\":[[0.0,\"#0d0887\"],[0.1111111111111111,\"#46039f\"],[0.2222222222222222,\"#7201a8\"],[0.3333333333333333,\"#9c179e\"],[0.4444444444444444,\"#bd3786\"],[0.5555555555555556,\"#d8576b\"],[0.6666666666666666,\"#ed7953\"],[0.7777777777777778,\"#fb9f3a\"],[0.8888888888888888,\"#fdca26\"],[1.0,\"#f0f921\"]],\"sequentialminus\":[[0.0,\"#0d0887\"],[0.1111111111111111,\"#46039f\"],[0.2222222222222222,\"#7201a8\"],[0.3333333333333333,\"#9c179e\"],[0.4444444444444444,\"#bd3786\"],[0.5555555555555556,\"#d8576b\"],[0.6666666666666666,\"#ed7953\"],[0.7777777777777778,\"#fb9f3a\"],[0.8888888888888888,\"#fdca26\"],[1.0,\"#f0f921\"]],\"diverging\":[[0,\"#8e0152\"],[0.1,\"#c51b7d\"],[0.2,\"#de77ae\"],[0.3,\"#f1b6da\"],[0.4,\"#fde0ef\"],[0.5,\"#f7f7f7\"],[0.6,\"#e6f5d0\"],[0.7,\"#b8e186\"],[0.8,\"#7fbc41\"],[0.9,\"#4d9221\"],[1,\"#276419\"]]},\"xaxis\":{\"gridcolor\":\"white\",\"linecolor\":\"white\",\"ticks\":\"\",\"title\":{\"standoff\":15},\"zerolinecolor\":\"white\",\"automargin\":true,\"zerolinewidth\":2},\"yaxis\":{\"gridcolor\":\"white\",\"linecolor\":\"white\",\"ticks\":\"\",\"title\":{\"standoff\":15},\"zerolinecolor\":\"white\",\"automargin\":true,\"zerolinewidth\":2},\"scene\":{\"xaxis\":{\"backgroundcolor\":\"#E5ECF6\",\"gridcolor\":\"white\",\"linecolor\":\"white\",\"showbackground\":true,\"ticks\":\"\",\"zerolinecolor\":\"white\",\"gridwidth\":2},\"yaxis\":{\"backgroundcolor\":\"#E5ECF6\",\"gridcolor\":\"white\",\"linecolor\":\"white\",\"showbackground\":true,\"ticks\":\"\",\"zerolinecolor\":\"white\",\"gridwidth\":2},\"zaxis\":{\"backgroundcolor\":\"#E5ECF6\",\"gridcolor\":\"white\",\"linecolor\":\"white\",\"showbackground\":true,\"ticks\":\"\",\"zerolinecolor\":\"white\",\"gridwidth\":2}},\"shapedefaults\":{\"line\":{\"color\":\"#2a3f5f\"}},\"annotationdefaults\":{\"arrowcolor\":\"#2a3f5f\",\"arrowhead\":0,\"arrowwidth\":1},\"geo\":{\"bgcolor\":\"white\",\"landcolor\":\"#E5ECF6\",\"subunitcolor\":\"white\",\"showland\":true,\"showlakes\":true,\"lakecolor\":\"white\"},\"title\":{\"x\":0.05},\"mapbox\":{\"style\":\"light\"}}},\"xaxis\":{\"anchor\":\"y\",\"domain\":[0.0,0.94],\"rangeslider\":{\"visible\":false},\"gridcolor\":\"#1f292f\",\"nticks\":5},\"yaxis\":{\"anchor\":\"x\",\"domain\":[0.0,1.0],\"gridcolor\":\"#1f292f\"},\"yaxis2\":{\"anchor\":\"x\",\"overlaying\":\"y\",\"side\":\"right\",\"gridcolor\":\"#1f292f\"},\"margin\":{\"l\":10,\"r\":10,\"b\":10,\"t\":10},\"font\":{\"size\":8,\"color\":\"#e1e1e1\"},\"width\":900,\"height\":400,\"paper_bgcolor\":\"#2c303c\",\"plot_bgcolor\":\"#2c303c\"},                        {\"responsive\": true}                    ).then(function(){\n",
       "                            \n",
       "var gd = document.getElementById('9dccb7ae-2c47-40b6-93fd-b662a0bbd224');\n",
       "var x = new MutationObserver(function (mutations, observer) {{\n",
       "        var display = window.getComputedStyle(gd).display;\n",
       "        if (!display || display === 'none') {{\n",
       "            console.log([gd, 'removed!']);\n",
       "            Plotly.purge(gd);\n",
       "            observer.disconnect();\n",
       "        }}\n",
       "}});\n",
       "\n",
       "// Listen for the removal of the full notebook cells\n",
       "var notebookContainer = gd.closest('#notebook-container');\n",
       "if (notebookContainer) {{\n",
       "    x.observe(notebookContainer, {childList: true});\n",
       "}}\n",
       "\n",
       "// Listen for the clearing of the current output cell\n",
       "var outputEl = gd.closest('.output');\n",
       "if (outputEl) {{\n",
       "    x.observe(outputEl, {childList: true});\n",
       "}}\n",
       "\n",
       "                        })                };                });            </script>        </div>"
      ]
     },
     "metadata": {},
     "output_type": "display_data"
    }
   ],
   "source": [
    "MARKER = '#0066FF'\n",
    "dfp = df_an.iloc[600:800]\n",
    "cp = CandlePlot(dfp, candles=True)\n",
    "df_temp = cp.df_plot[cp.df_plot.ENGULFING==True]\n",
    "cp.fig.add_trace(go.Candlestick(\n",
    "                x=df_temp.sTime,\n",
    "                open=df_temp.mid_o,\n",
    "                high=df_temp.mid_h,\n",
    "                low=df_temp.mid_l,\n",
    "                close=df_temp.mid_c,\n",
    "                line=dict(width=1), opacity=1,\n",
    "                increasing_fillcolor=MARKER,\n",
    "                decreasing_fillcolor=MARKER,\n",
    "                increasing_line_color=MARKER,  \n",
    "                decreasing_line_color=MARKER\n",
    "            ))\n",
    "\n",
    "cp.show_plot()"
   ]
  },
  {
   "cell_type": "code",
   "execution_count": null,
   "id": "9d13cc26",
   "metadata": {},
   "outputs": [],
   "source": []
  },
  {
   "cell_type": "code",
   "execution_count": null,
   "id": "4fad38b1",
   "metadata": {},
   "outputs": [],
   "source": []
  },
  {
   "cell_type": "code",
   "execution_count": null,
   "id": "910128bf",
   "metadata": {},
   "outputs": [],
   "source": []
  },
  {
   "cell_type": "code",
   "execution_count": null,
   "id": "4ffaa886",
   "metadata": {},
   "outputs": [],
   "source": []
  },
  {
   "cell_type": "code",
   "execution_count": null,
   "id": "87a51219",
   "metadata": {},
   "outputs": [],
   "source": []
  }
 ],
 "metadata": {
  "kernelspec": {
   "display_name": "Python 3 (ipykernel)",
   "language": "python",
   "name": "python3"
  },
  "language_info": {
   "codemirror_mode": {
    "name": "ipython",
    "version": 3
   },
   "file_extension": ".py",
   "mimetype": "text/x-python",
   "name": "python",
   "nbconvert_exporter": "python",
   "pygments_lexer": "ipython3",
   "version": "3.10.12"
  }
 },
 "nbformat": 4,
 "nbformat_minor": 5
}
